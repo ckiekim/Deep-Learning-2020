{
 "cells": [
  {
   "cell_type": "markdown",
   "metadata": {
    "colab_type": "text",
    "id": "3rG34xrNgE7I"
   },
   "source": [
    "# 원, 삼각형, 사각형 구분하기\n",
    "## 2. 어려운 테스트 문제를 기존 CNN 모델로 푸는 경우"
   ]
  },
  {
   "cell_type": "code",
   "execution_count": 1,
   "metadata": {
    "colab": {},
    "colab_type": "code",
    "id": "bwA2Lk7gilA1"
   },
   "outputs": [
    {
     "name": "stderr",
     "output_type": "stream",
     "text": [
      "Using TensorFlow backend.\n"
     ]
    }
   ],
   "source": [
    "import numpy as np\n",
    "import tensorflow as tf\n",
    "from tensorflow import keras\n",
    "from keras.models import Sequential\n",
    "from keras.layers import Dense, Flatten, Conv2D, MaxPooling2D\n",
    "from keras.preprocessing.image import ImageDataGenerator"
   ]
  },
  {
   "cell_type": "code",
   "execution_count": 2,
   "metadata": {},
   "outputs": [],
   "source": [
    "# seed 값 설정\n",
    "seed = 2020\n",
    "np.random.seed(seed)\n",
    "tf.random.set_seed(seed)"
   ]
  },
  {
   "cell_type": "markdown",
   "metadata": {
    "colab_type": "text",
    "id": "SjsMBcR0pnzv"
   },
   "source": [
    "### 데이터셋 생성하기"
   ]
  },
  {
   "cell_type": "code",
   "execution_count": 3,
   "metadata": {
    "colab": {
     "base_uri": "https://localhost:8080/",
     "height": 53
    },
    "colab_type": "code",
    "id": "9Ffv4Qcfkxd0",
    "outputId": "caa7aa1e-8c4b-482d-ce65-d7f48e8e5920"
   },
   "outputs": [
    {
     "name": "stdout",
     "output_type": "stream",
     "text": [
      "Found 45 images belonging to 3 classes.\n",
      "Found 15 images belonging to 3 classes.\n"
     ]
    }
   ],
   "source": [
    "train_datagen = ImageDataGenerator(rescale=1./255)\n",
    "\n",
    "train_generator = train_datagen.flow_from_directory(\n",
    "        'hard_handwriting_shape/train',\n",
    "        target_size=(24, 24),\n",
    "        batch_size=3,\n",
    "        class_mode='categorical')\n",
    "\n",
    "test_datagen = ImageDataGenerator(rescale=1./255)\n",
    "\n",
    "test_generator = test_datagen.flow_from_directory(\n",
    "        'hard_handwriting_shape/test',\n",
    "        target_size=(24, 24),    \n",
    "        batch_size=3,\n",
    "        class_mode='categorical')"
   ]
  },
  {
   "cell_type": "markdown",
   "metadata": {
    "colab_type": "text",
    "id": "K88bSm6wpwsK"
   },
   "source": [
    "### 모델 구성하기"
   ]
  },
  {
   "cell_type": "code",
   "execution_count": 4,
   "metadata": {
    "colab": {
     "base_uri": "https://localhost:8080/",
     "height": 377
    },
    "colab_type": "code",
    "id": "G5TOCJzIpVfR",
    "outputId": "35def669-2606-46e4-efee-98f549cce104"
   },
   "outputs": [
    {
     "name": "stdout",
     "output_type": "stream",
     "text": [
      "Model: \"sequential_1\"\n",
      "_________________________________________________________________\n",
      "Layer (type)                 Output Shape              Param #   \n",
      "=================================================================\n",
      "conv2d_1 (Conv2D)            (None, 22, 22, 32)        896       \n",
      "_________________________________________________________________\n",
      "conv2d_2 (Conv2D)            (None, 20, 20, 64)        18496     \n",
      "_________________________________________________________________\n",
      "max_pooling2d_1 (MaxPooling2 (None, 10, 10, 64)        0         \n",
      "_________________________________________________________________\n",
      "flatten_1 (Flatten)          (None, 6400)              0         \n",
      "_________________________________________________________________\n",
      "dense_1 (Dense)              (None, 128)               819328    \n",
      "_________________________________________________________________\n",
      "dense_2 (Dense)              (None, 3)                 387       \n",
      "=================================================================\n",
      "Total params: 839,107\n",
      "Trainable params: 839,107\n",
      "Non-trainable params: 0\n",
      "_________________________________________________________________\n"
     ]
    }
   ],
   "source": [
    "model = Sequential()\n",
    "model.add(Conv2D(32, kernel_size=(3, 3),\n",
    "                 activation='relu', input_shape=(24,24,3)))\n",
    "model.add(Conv2D(64, (3, 3), activation='relu'))\n",
    "model.add(MaxPooling2D(pool_size=(2, 2)))\n",
    "model.add(Flatten())\n",
    "model.add(Dense(128, activation='relu'))\n",
    "model.add(Dense(3, activation='softmax'))\n",
    "model.summary()"
   ]
  },
  {
   "cell_type": "markdown",
   "metadata": {
    "colab_type": "text",
    "id": "wrjhuhJ2tEeA"
   },
   "source": [
    "### 모델 학습과정 설정하기"
   ]
  },
  {
   "cell_type": "code",
   "execution_count": 5,
   "metadata": {
    "colab": {},
    "colab_type": "code",
    "id": "hBUFfHV6sSRW"
   },
   "outputs": [],
   "source": [
    "model.compile(loss='categorical_crossentropy', \n",
    "              optimizer='adam', metrics=['accuracy'])"
   ]
  },
  {
   "cell_type": "markdown",
   "metadata": {
    "colab_type": "text",
    "id": "sZ_WQ05itPr9"
   },
   "source": [
    "## 모델 학습시키기\n",
    "- 첫번째 인자 : 훈련데이터셋을 제공할 제네레이터를 지정. 본 예제에서는 앞서 생성한 train_generator으로 지정.\n",
    "- steps_per_epoch : 한 epoch에 사용한 스텝 수를 지정. 총 45개의 훈련 샘플이 있고 배치사이즈가 3이므로 15 스텝으로 지정.\n",
    "- epochs : 전체 훈련 데이터셋에 대해 학습 반복 횟수를 지정. 200번을 반복적으로 학습.\n",
    "- validation_data : 검증데이터셋을 제공할 제네레이터를 지정. 본 예제에서는 앞서 생성한 validation_generator으로 지정.\n",
    "- validation_steps : 한 epoch 종료 시 마다 검증할 때 사용되는 검증 스텝 수를 지정. 홍 15개의 검증 샘플이 있고 배치사이즈가 3이므로 5 스텝으로 지정."
   ]
  },
  {
   "cell_type": "code",
   "execution_count": 6,
   "metadata": {
    "colab": {
     "base_uri": "https://localhost:8080/",
     "height": 1000
    },
    "colab_type": "code",
    "id": "oMzc0kFdtLMY",
    "outputId": "93273fea-58c8-474a-8308-9a3fdeae55d4"
   },
   "outputs": [
    {
     "name": "stdout",
     "output_type": "stream",
     "text": [
      "Epoch 1/200\n",
      "15/15 [==============================] - 2s 120ms/step - loss: 1.1670 - accuracy: 0.5556 - val_loss: 0.9286 - val_accuracy: 0.4000\n",
      "Epoch 2/200\n",
      "15/15 [==============================] - 0s 9ms/step - loss: 0.3433 - accuracy: 0.9111 - val_loss: 0.1734 - val_accuracy: 0.3333\n",
      "Epoch 3/200\n",
      "15/15 [==============================] - 0s 11ms/step - loss: 0.0800 - accuracy: 0.9778 - val_loss: 3.1120 - val_accuracy: 0.3333\n",
      "Epoch 4/200\n",
      "15/15 [==============================] - 0s 15ms/step - loss: 0.0144 - accuracy: 1.0000 - val_loss: 2.8033 - val_accuracy: 0.3333\n",
      "Epoch 5/200\n",
      "15/15 [==============================] - 0s 14ms/step - loss: 0.0011 - accuracy: 1.0000 - val_loss: 5.5231 - val_accuracy: 0.3333\n",
      "Epoch 6/200\n",
      "15/15 [==============================] - 0s 9ms/step - loss: 6.2732e-04 - accuracy: 1.0000 - val_loss: 1.0697 - val_accuracy: 0.3333\n",
      "Epoch 7/200\n",
      "15/15 [==============================] - 0s 10ms/step - loss: 3.2166e-04 - accuracy: 1.0000 - val_loss: 1.7777 - val_accuracy: 0.3333\n",
      "Epoch 8/200\n",
      "15/15 [==============================] - 0s 10ms/step - loss: 2.6978e-04 - accuracy: 1.0000 - val_loss: 4.6297 - val_accuracy: 0.3333\n",
      "Epoch 9/200\n",
      "15/15 [==============================] - 0s 9ms/step - loss: 2.1812e-04 - accuracy: 1.0000 - val_loss: 5.2718 - val_accuracy: 0.3333\n",
      "Epoch 10/200\n",
      "15/15 [==============================] - 0s 10ms/step - loss: 1.7725e-04 - accuracy: 1.0000 - val_loss: 4.6594 - val_accuracy: 0.3333\n",
      "Epoch 11/200\n",
      "15/15 [==============================] - 0s 10ms/step - loss: 1.4532e-04 - accuracy: 1.0000 - val_loss: 6.6044 - val_accuracy: 0.3333\n",
      "Epoch 12/200\n",
      "15/15 [==============================] - 0s 10ms/step - loss: 1.2340e-04 - accuracy: 1.0000 - val_loss: 2.9460 - val_accuracy: 0.3333\n",
      "Epoch 13/200\n",
      "15/15 [==============================] - 0s 10ms/step - loss: 1.0255e-04 - accuracy: 1.0000 - val_loss: 4.9213 - val_accuracy: 0.3333\n",
      "Epoch 14/200\n",
      "15/15 [==============================] - 0s 10ms/step - loss: 8.7943e-05 - accuracy: 1.0000 - val_loss: 6.0180 - val_accuracy: 0.3333\n",
      "Epoch 15/200\n",
      "15/15 [==============================] - 0s 10ms/step - loss: 7.4379e-05 - accuracy: 1.0000 - val_loss: 3.5156 - val_accuracy: 0.3333\n",
      "Epoch 16/200\n",
      "15/15 [==============================] - 0s 10ms/step - loss: 6.4032e-05 - accuracy: 1.0000 - val_loss: 5.4598 - val_accuracy: 0.3333\n",
      "Epoch 17/200\n",
      "15/15 [==============================] - 0s 10ms/step - loss: 4.9287e-05 - accuracy: 1.0000 - val_loss: 6.8574 - val_accuracy: 0.3333\n",
      "Epoch 18/200\n",
      "15/15 [==============================] - 0s 12ms/step - loss: 4.3839e-05 - accuracy: 1.0000 - val_loss: 5.0032 - val_accuracy: 0.3333\n",
      "Epoch 19/200\n",
      "15/15 [==============================] - 0s 14ms/step - loss: 3.5437e-05 - accuracy: 1.0000 - val_loss: 6.7448 - val_accuracy: 0.3333\n",
      "Epoch 20/200\n",
      "15/15 [==============================] - 0s 14ms/step - loss: 3.0042e-05 - accuracy: 1.0000 - val_loss: 6.7836 - val_accuracy: 0.3333\n",
      "Epoch 21/200\n",
      "15/15 [==============================] - 0s 9ms/step - loss: 2.5637e-05 - accuracy: 1.0000 - val_loss: 2.4188 - val_accuracy: 0.3333\n",
      "Epoch 22/200\n",
      "15/15 [==============================] - 0s 11ms/step - loss: 2.2402e-05 - accuracy: 1.0000 - val_loss: 6.8869 - val_accuracy: 0.3333\n",
      "Epoch 23/200\n",
      "15/15 [==============================] - 0s 12ms/step - loss: 2.0011e-05 - accuracy: 1.0000 - val_loss: 1.0562 - val_accuracy: 0.3333\n",
      "Epoch 24/200\n",
      "15/15 [==============================] - 0s 15ms/step - loss: 1.7187e-05 - accuracy: 1.0000 - val_loss: 6.8230 - val_accuracy: 0.3333\n",
      "Epoch 25/200\n",
      "15/15 [==============================] - 0s 10ms/step - loss: 1.5335e-05 - accuracy: 1.0000 - val_loss: 3.4470 - val_accuracy: 0.3333\n",
      "Epoch 26/200\n",
      "15/15 [==============================] - 0s 11ms/step - loss: 1.3680e-05 - accuracy: 1.0000 - val_loss: 8.1489 - val_accuracy: 0.3333\n",
      "Epoch 27/200\n",
      "15/15 [==============================] - 0s 11ms/step - loss: 1.2321e-05 - accuracy: 1.0000 - val_loss: 5.4273 - val_accuracy: 0.3333\n",
      "Epoch 28/200\n",
      "15/15 [==============================] - 0s 10ms/step - loss: 1.1081e-05 - accuracy: 1.0000 - val_loss: 6.0623 - val_accuracy: 0.3333\n",
      "Epoch 29/200\n",
      "15/15 [==============================] - 0s 11ms/step - loss: 1.0215e-05 - accuracy: 1.0000 - val_loss: 8.6273 - val_accuracy: 0.3333\n",
      "Epoch 30/200\n",
      "15/15 [==============================] - 0s 10ms/step - loss: 9.2452e-06 - accuracy: 1.0000 - val_loss: 7.4745 - val_accuracy: 0.3333\n",
      "Epoch 31/200\n",
      "15/15 [==============================] - 0s 10ms/step - loss: 8.5512e-06 - accuracy: 1.0000 - val_loss: 7.9178 - val_accuracy: 0.3333\n",
      "Epoch 32/200\n",
      "15/15 [==============================] - 0s 10ms/step - loss: 7.9022e-06 - accuracy: 1.0000 - val_loss: 5.9260 - val_accuracy: 0.3333\n",
      "Epoch 33/200\n",
      "15/15 [==============================] - 0s 9ms/step - loss: 7.2982e-06 - accuracy: 1.0000 - val_loss: 6.1292 - val_accuracy: 0.3333\n",
      "Epoch 34/200\n",
      "15/15 [==============================] - 0s 10ms/step - loss: 6.6942e-06 - accuracy: 1.0000 - val_loss: 4.7882 - val_accuracy: 0.3333\n",
      "Epoch 35/200\n",
      "15/15 [==============================] - 0s 9ms/step - loss: 6.2147e-06 - accuracy: 1.0000 - val_loss: 2.5124 - val_accuracy: 0.3333\n",
      "Epoch 36/200\n",
      "15/15 [==============================] - 0s 11ms/step - loss: 5.8650e-06 - accuracy: 1.0000 - val_loss: 9.1383 - val_accuracy: 0.3333\n",
      "Epoch 37/200\n",
      "15/15 [==============================] - 0s 10ms/step - loss: 5.3829e-06 - accuracy: 1.0000 - val_loss: 10.1758 - val_accuracy: 0.3333\n",
      "Epoch 38/200\n",
      "15/15 [==============================] - 0s 10ms/step - loss: 5.0624e-06 - accuracy: 1.0000 - val_loss: 0.4129 - val_accuracy: 0.3333\n",
      "Epoch 39/200\n",
      "15/15 [==============================] - 0s 10ms/step - loss: 4.8319e-06 - accuracy: 1.0000 - val_loss: 4.8922 - val_accuracy: 0.3333\n",
      "Epoch 40/200\n",
      "15/15 [==============================] - 0s 10ms/step - loss: 4.4399e-06 - accuracy: 1.0000 - val_loss: 3.3826 - val_accuracy: 0.3333\n",
      "Epoch 41/200\n",
      "15/15 [==============================] - 0s 10ms/step - loss: 4.1855e-06 - accuracy: 1.0000 - val_loss: 8.9232 - val_accuracy: 0.3333\n",
      "Epoch 42/200\n",
      "15/15 [==============================] - 0s 11ms/step - loss: 3.9365e-06 - accuracy: 1.0000 - val_loss: 10.6265 - val_accuracy: 0.3333\n",
      "Epoch 43/200\n",
      "15/15 [==============================] - 0s 11ms/step - loss: 3.7458e-06 - accuracy: 1.0000 - val_loss: 4.6474 - val_accuracy: 0.3333\n",
      "Epoch 44/200\n",
      "15/15 [==============================] - 0s 10ms/step - loss: 3.5100e-06 - accuracy: 1.0000 - val_loss: 3.0399 - val_accuracy: 0.3333\n",
      "Epoch 45/200\n",
      "15/15 [==============================] - 0s 11ms/step - loss: 3.3352e-06 - accuracy: 1.0000 - val_loss: 11.6224 - val_accuracy: 0.3333\n",
      "Epoch 46/200\n",
      "15/15 [==============================] - 0s 10ms/step - loss: 3.1683e-06 - accuracy: 1.0000 - val_loss: 5.5061 - val_accuracy: 0.3333\n",
      "Epoch 47/200\n",
      "15/15 [==============================] - 0s 10ms/step - loss: 2.9961e-06 - accuracy: 1.0000 - val_loss: 14.1460 - val_accuracy: 0.3333\n",
      "Epoch 48/200\n",
      "15/15 [==============================] - 0s 9ms/step - loss: 2.8425e-06 - accuracy: 1.0000 - val_loss: 6.0907 - val_accuracy: 0.3333\n",
      "Epoch 49/200\n",
      "15/15 [==============================] - 0s 9ms/step - loss: 2.7153e-06 - accuracy: 1.0000 - val_loss: 9.8541 - val_accuracy: 0.3333\n",
      "Epoch 50/200\n",
      "15/15 [==============================] - 0s 10ms/step - loss: 2.5908e-06 - accuracy: 1.0000 - val_loss: 7.9027 - val_accuracy: 0.3333\n",
      "Epoch 51/200\n",
      "15/15 [==============================] - 0s 10ms/step - loss: 2.4663e-06 - accuracy: 1.0000 - val_loss: 9.4942 - val_accuracy: 0.3333\n",
      "Epoch 52/200\n",
      "15/15 [==============================] - 0s 10ms/step - loss: 2.3656e-06 - accuracy: 1.0000 - val_loss: 2.6257 - val_accuracy: 0.3333\n",
      "Epoch 53/200\n",
      "15/15 [==============================] - 0s 10ms/step - loss: 2.2862e-06 - accuracy: 1.0000 - val_loss: 4.3974 - val_accuracy: 0.3333\n",
      "Epoch 54/200\n",
      "15/15 [==============================] - 0s 11ms/step - loss: 2.1802e-06 - accuracy: 1.0000 - val_loss: 2.9412 - val_accuracy: 0.3333\n",
      "Epoch 55/200\n",
      "15/15 [==============================] - 0s 10ms/step - loss: 2.0795e-06 - accuracy: 1.0000 - val_loss: 7.5835 - val_accuracy: 0.3333\n",
      "Epoch 56/200\n",
      "15/15 [==============================] - 0s 11ms/step - loss: 2.0027e-06 - accuracy: 1.0000 - val_loss: 8.7319 - val_accuracy: 0.3333\n"
     ]
    },
    {
     "name": "stdout",
     "output_type": "stream",
     "text": [
      "Epoch 57/200\n",
      "15/15 [==============================] - 0s 10ms/step - loss: 1.9100e-06 - accuracy: 1.0000 - val_loss: 0.0075 - val_accuracy: 0.3333\n",
      "Epoch 58/200\n",
      "15/15 [==============================] - 0s 10ms/step - loss: 1.8279e-06 - accuracy: 1.0000 - val_loss: 2.1505 - val_accuracy: 0.3333\n",
      "Epoch 59/200\n",
      "15/15 [==============================] - 0s 10ms/step - loss: 1.7590e-06 - accuracy: 1.0000 - val_loss: 4.8277 - val_accuracy: 0.3333\n",
      "Epoch 60/200\n",
      "15/15 [==============================] - 0s 10ms/step - loss: 1.6928e-06 - accuracy: 1.0000 - val_loss: 4.4479 - val_accuracy: 0.3333\n",
      "Epoch 61/200\n",
      "15/15 [==============================] - 0s 9ms/step - loss: 1.6265e-06 - accuracy: 1.0000 - val_loss: 5.1512 - val_accuracy: 0.3333\n",
      "Epoch 62/200\n",
      "15/15 [==============================] - 0s 9ms/step - loss: 1.5736e-06 - accuracy: 1.0000 - val_loss: 4.0221 - val_accuracy: 0.3333\n",
      "Epoch 63/200\n",
      "15/15 [==============================] - 0s 10ms/step - loss: 1.5179e-06 - accuracy: 1.0000 - val_loss: 5.1487 - val_accuracy: 0.3333\n",
      "Epoch 64/200\n",
      "15/15 [==============================] - 0s 9ms/step - loss: 1.4570e-06 - accuracy: 1.0000 - val_loss: 7.6521 - val_accuracy: 0.3333\n",
      "Epoch 65/200\n",
      "15/15 [==============================] - 0s 10ms/step - loss: 1.4093e-06 - accuracy: 1.0000 - val_loss: 8.2729 - val_accuracy: 0.3333\n",
      "Epoch 66/200\n",
      "15/15 [==============================] - 0s 10ms/step - loss: 1.3616e-06 - accuracy: 1.0000 - val_loss: 3.5656 - val_accuracy: 0.3333\n",
      "Epoch 67/200\n",
      "15/15 [==============================] - 0s 10ms/step - loss: 1.3139e-06 - accuracy: 1.0000 - val_loss: 8.1885 - val_accuracy: 0.3333\n",
      "Epoch 68/200\n",
      "15/15 [==============================] - 0s 10ms/step - loss: 1.2610e-06 - accuracy: 1.0000 - val_loss: 3.1353 - val_accuracy: 0.3333\n",
      "Epoch 69/200\n",
      "15/15 [==============================] - 0s 10ms/step - loss: 1.2265e-06 - accuracy: 1.0000 - val_loss: 4.0717 - val_accuracy: 0.3333\n",
      "Epoch 70/200\n",
      "15/15 [==============================] - 0s 10ms/step - loss: 1.1921e-06 - accuracy: 1.0000 - val_loss: 2.7009 - val_accuracy: 0.3333\n",
      "Epoch 71/200\n",
      "15/15 [==============================] - 0s 11ms/step - loss: 1.1365e-06 - accuracy: 1.0000 - val_loss: 7.1954 - val_accuracy: 0.3333\n",
      "Epoch 72/200\n",
      "15/15 [==============================] - 0s 10ms/step - loss: 1.0967e-06 - accuracy: 1.0000 - val_loss: 3.1520 - val_accuracy: 0.3333\n",
      "Epoch 73/200\n",
      "15/15 [==============================] - 0s 10ms/step - loss: 1.0808e-06 - accuracy: 1.0000 - val_loss: 5.5659 - val_accuracy: 0.3333\n",
      "Epoch 74/200\n",
      "15/15 [==============================] - 0s 10ms/step - loss: 1.0437e-06 - accuracy: 1.0000 - val_loss: 1.2729 - val_accuracy: 0.3333\n",
      "Epoch 75/200\n",
      "15/15 [==============================] - 0s 10ms/step - loss: 1.0067e-06 - accuracy: 1.0000 - val_loss: 9.6459 - val_accuracy: 0.3333\n",
      "Epoch 76/200\n",
      "15/15 [==============================] - 0s 10ms/step - loss: 9.6692e-07 - accuracy: 1.0000 - val_loss: 5.5248 - val_accuracy: 0.3333\n",
      "Epoch 77/200\n",
      "15/15 [==============================] - 0s 10ms/step - loss: 9.4837e-07 - accuracy: 1.0000 - val_loss: 0.0080 - val_accuracy: 0.3333\n",
      "Epoch 78/200\n",
      "15/15 [==============================] - 0s 10ms/step - loss: 9.2453e-07 - accuracy: 1.0000 - val_loss: 3.6490 - val_accuracy: 0.3333\n",
      "Epoch 79/200\n",
      "15/15 [==============================] - 0s 10ms/step - loss: 8.9009e-07 - accuracy: 1.0000 - val_loss: 1.2734 - val_accuracy: 0.3333\n",
      "Epoch 80/200\n",
      "15/15 [==============================] - 0s 10ms/step - loss: 8.6890e-07 - accuracy: 1.0000 - val_loss: 5.1646 - val_accuracy: 0.3333\n",
      "Epoch 81/200\n",
      "15/15 [==============================] - 0s 10ms/step - loss: 8.3976e-07 - accuracy: 1.0000 - val_loss: 1.2842 - val_accuracy: 0.3333\n",
      "Epoch 82/200\n",
      "15/15 [==============================] - 0s 10ms/step - loss: 8.2387e-07 - accuracy: 1.0000 - val_loss: 7.5568 - val_accuracy: 0.3333\n",
      "Epoch 83/200\n",
      "15/15 [==============================] - 0s 11ms/step - loss: 7.9738e-07 - accuracy: 1.0000 - val_loss: 1.2916 - val_accuracy: 0.3333\n",
      "Epoch 84/200\n",
      "15/15 [==============================] - 0s 10ms/step - loss: 7.8413e-07 - accuracy: 1.0000 - val_loss: 7.7584 - val_accuracy: 0.3333\n",
      "Epoch 85/200\n",
      "15/15 [==============================] - 0s 11ms/step - loss: 7.4969e-07 - accuracy: 1.0000 - val_loss: 5.5774 - val_accuracy: 0.3333\n",
      "Epoch 86/200\n",
      "15/15 [==============================] - 0s 13ms/step - loss: 7.3115e-07 - accuracy: 1.0000 - val_loss: 4.7092 - val_accuracy: 0.3333\n",
      "Epoch 87/200\n",
      "15/15 [==============================] - 0s 16ms/step - loss: 7.0731e-07 - accuracy: 1.0000 - val_loss: 9.8837 - val_accuracy: 0.3333\n",
      "Epoch 88/200\n",
      "15/15 [==============================] - 0s 17ms/step - loss: 6.8611e-07 - accuracy: 1.0000 - val_loss: 0.3520 - val_accuracy: 0.3333\n",
      "Epoch 89/200\n",
      "15/15 [==============================] - 0s 15ms/step - loss: 6.7287e-07 - accuracy: 1.0000 - val_loss: 6.4633 - val_accuracy: 0.3333\n",
      "Epoch 90/200\n",
      "15/15 [==============================] - 0s 10ms/step - loss: 6.6757e-07 - accuracy: 1.0000 - val_loss: 7.1630 - val_accuracy: 0.3333\n",
      "Epoch 91/200\n",
      "15/15 [==============================] - 0s 11ms/step - loss: 6.5698e-07 - accuracy: 1.0000 - val_loss: 12.0585 - val_accuracy: 0.3333\n",
      "Epoch 92/200\n",
      "15/15 [==============================] - 0s 18ms/step - loss: 6.3313e-07 - accuracy: 1.0000 - val_loss: 3.8189e-04 - val_accuracy: 0.3333\n",
      "Epoch 93/200\n",
      "15/15 [==============================] - 0s 22ms/step - loss: 6.2254e-07 - accuracy: 1.0000 - val_loss: 0.3573 - val_accuracy: 0.3333\n",
      "Epoch 94/200\n",
      "15/15 [==============================] - 0s 13ms/step - loss: 6.0134e-07 - accuracy: 1.0000 - val_loss: 7.6263 - val_accuracy: 0.3333\n",
      "Epoch 95/200\n",
      "15/15 [==============================] - 0s 10ms/step - loss: 5.9075e-07 - accuracy: 1.0000 - val_loss: 4.1016 - val_accuracy: 0.3333\n",
      "Epoch 96/200\n",
      "15/15 [==============================] - 0s 10ms/step - loss: 5.7220e-07 - accuracy: 1.0000 - val_loss: 7.6517 - val_accuracy: 0.3333\n",
      "Epoch 97/200\n",
      "15/15 [==============================] - 0s 10ms/step - loss: 5.5896e-07 - accuracy: 1.0000 - val_loss: 10.0334 - val_accuracy: 0.3333\n",
      "Epoch 98/200\n",
      "15/15 [==============================] - 0s 10ms/step - loss: 5.4836e-07 - accuracy: 1.0000 - val_loss: 9.2959 - val_accuracy: 0.3333\n",
      "Epoch 99/200\n",
      "15/15 [==============================] - 0s 11ms/step - loss: 5.3512e-07 - accuracy: 1.0000 - val_loss: 3.4114e-04 - val_accuracy: 0.3333\n",
      "Epoch 100/200\n",
      "15/15 [==============================] - 0s 10ms/step - loss: 5.2452e-07 - accuracy: 1.0000 - val_loss: 7.6703 - val_accuracy: 0.3333\n",
      "Epoch 101/200\n",
      "15/15 [==============================] - 0s 9ms/step - loss: 5.1128e-07 - accuracy: 1.0000 - val_loss: 8.0551 - val_accuracy: 0.3333\n",
      "Epoch 102/200\n",
      "15/15 [==============================] - 0s 10ms/step - loss: 5.1128e-07 - accuracy: 1.0000 - val_loss: 5.5842 - val_accuracy: 0.3333\n",
      "Epoch 103/200\n",
      "15/15 [==============================] - 0s 9ms/step - loss: 4.9008e-07 - accuracy: 1.0000 - val_loss: 6.4165 - val_accuracy: 0.3333\n",
      "Epoch 104/200\n",
      "15/15 [==============================] - 0s 10ms/step - loss: 4.7154e-07 - accuracy: 1.0000 - val_loss: 8.8091 - val_accuracy: 0.3333\n",
      "Epoch 105/200\n",
      "15/15 [==============================] - 0s 10ms/step - loss: 4.5829e-07 - accuracy: 1.0000 - val_loss: 4.1273 - val_accuracy: 0.3333\n",
      "Epoch 106/200\n",
      "15/15 [==============================] - 0s 10ms/step - loss: 4.5035e-07 - accuracy: 1.0000 - val_loss: 11.7996 - val_accuracy: 0.3333\n",
      "Epoch 107/200\n",
      "15/15 [==============================] - 0s 10ms/step - loss: 4.3710e-07 - accuracy: 1.0000 - val_loss: 5.5866 - val_accuracy: 0.3333\n",
      "Epoch 108/200\n",
      "15/15 [==============================] - 0s 10ms/step - loss: 4.3180e-07 - accuracy: 1.0000 - val_loss: 5.1905 - val_accuracy: 0.3333\n",
      "Epoch 109/200\n",
      "15/15 [==============================] - 0s 10ms/step - loss: 4.2650e-07 - accuracy: 1.0000 - val_loss: 8.5354 - val_accuracy: 0.3333\n",
      "Epoch 110/200\n",
      "15/15 [==============================] - 0s 10ms/step - loss: 4.2385e-07 - accuracy: 1.0000 - val_loss: 2.1167 - val_accuracy: 0.3333\n",
      "Epoch 111/200\n",
      "15/15 [==============================] - 0s 10ms/step - loss: 4.0796e-07 - accuracy: 1.0000 - val_loss: 8.5579 - val_accuracy: 0.3333\n",
      "Epoch 112/200\n",
      "15/15 [==============================] - 0s 10ms/step - loss: 3.9736e-07 - accuracy: 1.0000 - val_loss: 2.5061 - val_accuracy: 0.3333\n",
      "Epoch 113/200\n",
      "15/15 [==============================] - 0s 10ms/step - loss: 3.8677e-07 - accuracy: 1.0000 - val_loss: 8.0909 - val_accuracy: 0.3333\n",
      "Epoch 114/200\n",
      "15/15 [==============================] - 0s 9ms/step - loss: 3.8147e-07 - accuracy: 1.0000 - val_loss: 9.7743 - val_accuracy: 0.3333\n",
      "Epoch 115/200\n",
      "15/15 [==============================] - 0s 10ms/step - loss: 3.8147e-07 - accuracy: 1.0000 - val_loss: 8.8447 - val_accuracy: 0.3333\n",
      "Epoch 116/200\n",
      "15/15 [==============================] - 0s 10ms/step - loss: 3.6557e-07 - accuracy: 1.0000 - val_loss: 11.7072 - val_accuracy: 0.3333\n",
      "Epoch 117/200\n",
      "15/15 [==============================] - 0s 9ms/step - loss: 3.5763e-07 - accuracy: 1.0000 - val_loss: 5.3804 - val_accuracy: 0.3333\n",
      "Epoch 118/200\n",
      "15/15 [==============================] - 0s 9ms/step - loss: 3.5763e-07 - accuracy: 1.0000 - val_loss: 9.2106 - val_accuracy: 0.3333\n",
      "Epoch 119/200\n",
      "15/15 [==============================] - 0s 12ms/step - loss: 3.4703e-07 - accuracy: 1.0000 - val_loss: 8.8234 - val_accuracy: 0.3333\n",
      "Epoch 120/200\n",
      "15/15 [==============================] - 0s 14ms/step - loss: 3.3643e-07 - accuracy: 1.0000 - val_loss: 5.1922 - val_accuracy: 0.3333\n",
      "Epoch 121/200\n",
      "15/15 [==============================] - 0s 10ms/step - loss: 3.3379e-07 - accuracy: 1.0000 - val_loss: 3.2605 - val_accuracy: 0.3333\n",
      "Epoch 122/200\n",
      "15/15 [==============================] - 0s 10ms/step - loss: 3.2849e-07 - accuracy: 1.0000 - val_loss: 6.8701 - val_accuracy: 0.3333\n",
      "Epoch 123/200\n",
      "15/15 [==============================] - 0s 10ms/step - loss: 3.2054e-07 - accuracy: 1.0000 - val_loss: 6.5662 - val_accuracy: 0.3333\n",
      "Epoch 124/200\n",
      "15/15 [==============================] - 0s 10ms/step - loss: 3.1789e-07 - accuracy: 1.0000 - val_loss: 7.4107 - val_accuracy: 0.3333\n",
      "Epoch 125/200\n",
      "15/15 [==============================] - 0s 10ms/step - loss: 3.0994e-07 - accuracy: 1.0000 - val_loss: 8.4468 - val_accuracy: 0.3333\n",
      "Epoch 126/200\n",
      "15/15 [==============================] - 0s 10ms/step - loss: 3.0994e-07 - accuracy: 1.0000 - val_loss: 4.4013 - val_accuracy: 0.3333\n",
      "Epoch 127/200\n",
      "15/15 [==============================] - 0s 10ms/step - loss: 3.0465e-07 - accuracy: 1.0000 - val_loss: 2.2059 - val_accuracy: 0.3333\n",
      "Epoch 128/200\n",
      "15/15 [==============================] - 0s 9ms/step - loss: 3.0200e-07 - accuracy: 1.0000 - val_loss: 7.3381 - val_accuracy: 0.3333\n",
      "Epoch 129/200\n",
      "15/15 [==============================] - 0s 10ms/step - loss: 2.8875e-07 - accuracy: 1.0000 - val_loss: 8.2397 - val_accuracy: 0.3333\n",
      "Epoch 130/200\n",
      "15/15 [==============================] - 0s 9ms/step - loss: 2.8345e-07 - accuracy: 1.0000 - val_loss: 10.2934 - val_accuracy: 0.3333\n",
      "Epoch 131/200\n",
      "15/15 [==============================] - 0s 10ms/step - loss: 2.7551e-07 - accuracy: 1.0000 - val_loss: 6.0903 - val_accuracy: 0.3333\n",
      "Epoch 132/200\n",
      "15/15 [==============================] - 0s 10ms/step - loss: 2.7021e-07 - accuracy: 1.0000 - val_loss: 4.1675 - val_accuracy: 0.3333\n",
      "Epoch 133/200\n",
      "15/15 [==============================] - 0s 10ms/step - loss: 2.7021e-07 - accuracy: 1.0000 - val_loss: 14.0036 - val_accuracy: 0.3333\n",
      "Epoch 134/200\n",
      "15/15 [==============================] - 0s 10ms/step - loss: 2.6756e-07 - accuracy: 1.0000 - val_loss: 5.5451 - val_accuracy: 0.3333\n",
      "Epoch 135/200\n",
      "15/15 [==============================] - 0s 10ms/step - loss: 2.6491e-07 - accuracy: 1.0000 - val_loss: 3.2787 - val_accuracy: 0.3333\n",
      "Epoch 136/200\n",
      "15/15 [==============================] - 0s 10ms/step - loss: 2.6491e-07 - accuracy: 1.0000 - val_loss: 8.9035 - val_accuracy: 0.3333\n",
      "Epoch 137/200\n",
      "15/15 [==============================] - 0s 10ms/step - loss: 2.5961e-07 - accuracy: 1.0000 - val_loss: 7.4522 - val_accuracy: 0.3333\n",
      "Epoch 138/200\n",
      "15/15 [==============================] - 0s 10ms/step - loss: 2.4901e-07 - accuracy: 1.0000 - val_loss: 4.1259 - val_accuracy: 0.3333\n",
      "Epoch 139/200\n",
      "15/15 [==============================] - 0s 11ms/step - loss: 2.4637e-07 - accuracy: 1.0000 - val_loss: 10.3517 - val_accuracy: 0.3333\n",
      "Epoch 140/200\n",
      "15/15 [==============================] - 0s 10ms/step - loss: 2.4107e-07 - accuracy: 1.0000 - val_loss: 7.0119 - val_accuracy: 0.3333\n",
      "Epoch 141/200\n",
      "15/15 [==============================] - 0s 10ms/step - loss: 2.3842e-07 - accuracy: 1.0000 - val_loss: 5.8850 - val_accuracy: 0.3333\n",
      "Epoch 142/200\n",
      "15/15 [==============================] - 0s 10ms/step - loss: 2.3312e-07 - accuracy: 1.0000 - val_loss: 3.6602 - val_accuracy: 0.3333\n",
      "Epoch 143/200\n",
      "15/15 [==============================] - 0s 10ms/step - loss: 2.2782e-07 - accuracy: 1.0000 - val_loss: 8.0687 - val_accuracy: 0.3333\n",
      "Epoch 144/200\n",
      "15/15 [==============================] - 0s 10ms/step - loss: 2.2517e-07 - accuracy: 1.0000 - val_loss: 11.6216 - val_accuracy: 0.3333\n",
      "Epoch 145/200\n",
      "15/15 [==============================] - 0s 10ms/step - loss: 2.2517e-07 - accuracy: 1.0000 - val_loss: 4.1893 - val_accuracy: 0.3333\n",
      "Epoch 146/200\n",
      "15/15 [==============================] - 0s 10ms/step - loss: 2.2252e-07 - accuracy: 1.0000 - val_loss: 4.0078 - val_accuracy: 0.3333\n",
      "Epoch 147/200\n",
      "15/15 [==============================] - 0s 10ms/step - loss: 2.1987e-07 - accuracy: 1.0000 - val_loss: 11.3979 - val_accuracy: 0.3333\n",
      "Epoch 148/200\n",
      "15/15 [==============================] - 0s 10ms/step - loss: 2.1723e-07 - accuracy: 1.0000 - val_loss: 2.6162 - val_accuracy: 0.3333\n",
      "Epoch 149/200\n",
      "15/15 [==============================] - 0s 10ms/step - loss: 2.1193e-07 - accuracy: 1.0000 - val_loss: 9.7953 - val_accuracy: 0.3333\n",
      "Epoch 150/200\n",
      "15/15 [==============================] - 0s 10ms/step - loss: 2.0133e-07 - accuracy: 1.0000 - val_loss: 4.0284 - val_accuracy: 0.3333\n",
      "Epoch 151/200\n",
      "15/15 [==============================] - 0s 10ms/step - loss: 2.0133e-07 - accuracy: 1.0000 - val_loss: 7.8944 - val_accuracy: 0.3333\n",
      "Epoch 152/200\n",
      "15/15 [==============================] - 0s 10ms/step - loss: 1.9868e-07 - accuracy: 1.0000 - val_loss: 6.2320 - val_accuracy: 0.3333\n",
      "Epoch 153/200\n",
      "15/15 [==============================] - 0s 10ms/step - loss: 1.9603e-07 - accuracy: 1.0000 - val_loss: 7.1306 - val_accuracy: 0.3333\n",
      "Epoch 154/200\n",
      "15/15 [==============================] - 0s 11ms/step - loss: 1.9338e-07 - accuracy: 1.0000 - val_loss: 11.1397 - val_accuracy: 0.3333\n",
      "Epoch 155/200\n",
      "15/15 [==============================] - 0s 10ms/step - loss: 1.9338e-07 - accuracy: 1.0000 - val_loss: 11.1301 - val_accuracy: 0.3333\n",
      "Epoch 156/200\n",
      "15/15 [==============================] - 0s 10ms/step - loss: 1.9073e-07 - accuracy: 1.0000 - val_loss: 10.7785 - val_accuracy: 0.3333\n",
      "Epoch 157/200\n",
      "15/15 [==============================] - 0s 10ms/step - loss: 1.8279e-07 - accuracy: 1.0000 - val_loss: 8.1753 - val_accuracy: 0.3333\n",
      "Epoch 158/200\n",
      "15/15 [==============================] - 0s 10ms/step - loss: 1.8014e-07 - accuracy: 1.0000 - val_loss: 9.8167 - val_accuracy: 0.3333\n",
      "Epoch 159/200\n",
      "15/15 [==============================] - 0s 10ms/step - loss: 1.7749e-07 - accuracy: 1.0000 - val_loss: 1.7426 - val_accuracy: 0.3333\n",
      "Epoch 160/200\n",
      "15/15 [==============================] - 0s 11ms/step - loss: 1.7749e-07 - accuracy: 1.0000 - val_loss: 7.8565 - val_accuracy: 0.3333\n",
      "Epoch 161/200\n",
      "15/15 [==============================] - 0s 10ms/step - loss: 1.7484e-07 - accuracy: 1.0000 - val_loss: 6.5306 - val_accuracy: 0.3333\n",
      "Epoch 162/200\n",
      "15/15 [==============================] - 0s 11ms/step - loss: 1.6954e-07 - accuracy: 1.0000 - val_loss: 4.8820 - val_accuracy: 0.3333\n",
      "Epoch 163/200\n",
      "15/15 [==============================] - 0s 10ms/step - loss: 1.6424e-07 - accuracy: 1.0000 - val_loss: 4.9978 - val_accuracy: 0.3333\n",
      "Epoch 164/200\n",
      "15/15 [==============================] - 0s 10ms/step - loss: 1.6159e-07 - accuracy: 1.0000 - val_loss: 6.4344 - val_accuracy: 0.3333\n",
      "Epoch 165/200\n",
      "15/15 [==============================] - 0s 11ms/step - loss: 1.5630e-07 - accuracy: 1.0000 - val_loss: 9.4294 - val_accuracy: 0.3333\n",
      "Epoch 166/200\n",
      "15/15 [==============================] - 0s 11ms/step - loss: 1.5630e-07 - accuracy: 1.0000 - val_loss: 4.9019 - val_accuracy: 0.3333\n",
      "Epoch 167/200\n"
     ]
    },
    {
     "name": "stdout",
     "output_type": "stream",
     "text": [
      "15/15 [==============================] - 0s 10ms/step - loss: 1.5365e-07 - accuracy: 1.0000 - val_loss: 6.5932 - val_accuracy: 0.3333\n",
      "Epoch 168/200\n",
      "15/15 [==============================] - 0s 11ms/step - loss: 1.5100e-07 - accuracy: 1.0000 - val_loss: 9.8893 - val_accuracy: 0.3333\n",
      "Epoch 169/200\n",
      "15/15 [==============================] - 0s 10ms/step - loss: 1.4835e-07 - accuracy: 1.0000 - val_loss: 8.2598 - val_accuracy: 0.3333\n",
      "Epoch 170/200\n",
      "15/15 [==============================] - 0s 11ms/step - loss: 1.4570e-07 - accuracy: 1.0000 - val_loss: 4.2141 - val_accuracy: 0.3333\n",
      "Epoch 171/200\n",
      "15/15 [==============================] - 0s 11ms/step - loss: 1.4305e-07 - accuracy: 1.0000 - val_loss: 8.9710 - val_accuracy: 0.3333\n",
      "Epoch 172/200\n",
      "15/15 [==============================] - 0s 10ms/step - loss: 1.3775e-07 - accuracy: 1.0000 - val_loss: 5.2234 - val_accuracy: 0.3333\n",
      "Epoch 173/200\n",
      "15/15 [==============================] - 0s 10ms/step - loss: 1.3775e-07 - accuracy: 1.0000 - val_loss: 9.7468 - val_accuracy: 0.3333\n",
      "Epoch 174/200\n",
      "15/15 [==============================] - 0s 10ms/step - loss: 1.3775e-07 - accuracy: 1.0000 - val_loss: 12.2122 - val_accuracy: 0.3333\n",
      "Epoch 175/200\n",
      "15/15 [==============================] - 0s 11ms/step - loss: 1.3775e-07 - accuracy: 1.0000 - val_loss: 2.6829 - val_accuracy: 0.3333\n",
      "Epoch 176/200\n",
      "15/15 [==============================] - 0s 12ms/step - loss: 1.3775e-07 - accuracy: 1.0000 - val_loss: 5.7241 - val_accuracy: 0.3333\n",
      "Epoch 177/200\n",
      "15/15 [==============================] - 0s 16ms/step - loss: 1.3775e-07 - accuracy: 1.0000 - val_loss: 4.5476 - val_accuracy: 0.3333\n",
      "Epoch 178/200\n",
      "15/15 [==============================] - 0s 11ms/step - loss: 1.3245e-07 - accuracy: 1.0000 - val_loss: 8.1171 - val_accuracy: 0.3333\n",
      "Epoch 179/200\n",
      "15/15 [==============================] - 0s 11ms/step - loss: 1.3245e-07 - accuracy: 1.0000 - val_loss: 1.4356 - val_accuracy: 0.3333\n",
      "Epoch 180/200\n",
      "15/15 [==============================] - 0s 13ms/step - loss: 1.3245e-07 - accuracy: 1.0000 - val_loss: 3.6686 - val_accuracy: 0.3333\n",
      "Epoch 181/200\n",
      "15/15 [==============================] - 0s 15ms/step - loss: 1.2981e-07 - accuracy: 1.0000 - val_loss: 9.8262 - val_accuracy: 0.3333\n",
      "Epoch 182/200\n",
      "15/15 [==============================] - 0s 11ms/step - loss: 1.2186e-07 - accuracy: 1.0000 - val_loss: 3.0082 - val_accuracy: 0.3333\n",
      "Epoch 183/200\n",
      "15/15 [==============================] - 0s 11ms/step - loss: 1.2186e-07 - accuracy: 1.0000 - val_loss: 9.0995 - val_accuracy: 0.3333\n",
      "Epoch 184/200\n",
      "15/15 [==============================] - 0s 10ms/step - loss: 1.2186e-07 - accuracy: 1.0000 - val_loss: 10.9640 - val_accuracy: 0.3333\n",
      "Epoch 185/200\n",
      "15/15 [==============================] - 0s 10ms/step - loss: 1.2186e-07 - accuracy: 1.0000 - val_loss: 8.5786 - val_accuracy: 0.3333\n",
      "Epoch 186/200\n",
      "15/15 [==============================] - 0s 10ms/step - loss: 1.2186e-07 - accuracy: 1.0000 - val_loss: 6.0588 - val_accuracy: 0.3333\n",
      "Epoch 187/200\n",
      "15/15 [==============================] - 0s 10ms/step - loss: 1.2186e-07 - accuracy: 1.0000 - val_loss: 8.6805 - val_accuracy: 0.3333\n",
      "Epoch 188/200\n",
      "15/15 [==============================] - 0s 10ms/step - loss: 1.1921e-07 - accuracy: 1.0000 - val_loss: 8.3780 - val_accuracy: 0.3333\n",
      "Epoch 189/200\n",
      "15/15 [==============================] - 0s 11ms/step - loss: 1.1921e-07 - accuracy: 1.0000 - val_loss: 5.6774 - val_accuracy: 0.3333\n",
      "Epoch 190/200\n",
      "15/15 [==============================] - 0s 10ms/step - loss: 1.1391e-07 - accuracy: 1.0000 - val_loss: 5.9285 - val_accuracy: 0.3333\n",
      "Epoch 191/200\n",
      "15/15 [==============================] - 0s 11ms/step - loss: 1.1126e-07 - accuracy: 1.0000 - val_loss: 7.4588 - val_accuracy: 0.3333\n",
      "Epoch 192/200\n",
      "15/15 [==============================] - 0s 10ms/step - loss: 1.0861e-07 - accuracy: 1.0000 - val_loss: 15.8780 - val_accuracy: 0.3333\n",
      "Epoch 193/200\n",
      "15/15 [==============================] - 0s 11ms/step - loss: 1.0861e-07 - accuracy: 1.0000 - val_loss: 11.1468 - val_accuracy: 0.3333\n",
      "Epoch 194/200\n",
      "15/15 [==============================] - 0s 10ms/step - loss: 1.0861e-07 - accuracy: 1.0000 - val_loss: 9.3758 - val_accuracy: 0.3333\n",
      "Epoch 195/200\n",
      "15/15 [==============================] - 0s 11ms/step - loss: 1.0861e-07 - accuracy: 1.0000 - val_loss: 9.2325 - val_accuracy: 0.3333\n",
      "Epoch 196/200\n",
      "15/15 [==============================] - 0s 12ms/step - loss: 1.0596e-07 - accuracy: 1.0000 - val_loss: 8.4319 - val_accuracy: 0.3333\n",
      "Epoch 197/200\n",
      "15/15 [==============================] - 0s 15ms/step - loss: 1.0861e-07 - accuracy: 1.0000 - val_loss: 2.7271 - val_accuracy: 0.3333\n",
      "Epoch 198/200\n",
      "15/15 [==============================] - 0s 10ms/step - loss: 1.0596e-07 - accuracy: 1.0000 - val_loss: 7.7251 - val_accuracy: 0.3333\n",
      "Epoch 199/200\n",
      "15/15 [==============================] - 0s 10ms/step - loss: 1.0331e-07 - accuracy: 1.0000 - val_loss: 7.0821 - val_accuracy: 0.3333\n",
      "Epoch 200/200\n",
      "15/15 [==============================] - 0s 10ms/step - loss: 1.0067e-07 - accuracy: 1.0000 - val_loss: 7.6097 - val_accuracy: 0.3333\n"
     ]
    },
    {
     "data": {
      "text/plain": [
       "<keras.callbacks.callbacks.History at 0x1f9da4c8388>"
      ]
     },
     "execution_count": 6,
     "metadata": {},
     "output_type": "execute_result"
    }
   ],
   "source": [
    "model.fit_generator(\n",
    "        train_generator,\n",
    "        steps_per_epoch=15,\n",
    "        epochs=200,\n",
    "        validation_data=test_generator,\n",
    "        validation_steps=5)"
   ]
  },
  {
   "cell_type": "markdown",
   "metadata": {
    "colab_type": "text",
    "id": "uT9NEiI-uy52"
   },
   "source": [
    "### 모델 평가하기"
   ]
  },
  {
   "cell_type": "code",
   "execution_count": 7,
   "metadata": {
    "colab": {
     "base_uri": "https://localhost:8080/",
     "height": 53
    },
    "colab_type": "code",
    "id": "XZ8jXxlIu1SE",
    "outputId": "d27cd618-d626-4874-d6fe-03cd36b7d393"
   },
   "outputs": [
    {
     "name": "stdout",
     "output_type": "stream",
     "text": [
      "-- Evaluate --\n",
      "accuracy: 33.33%\n"
     ]
    }
   ],
   "source": [
    "print(\"-- Evaluate --\")\n",
    "scores = model.evaluate_generator(test_generator, steps=5)\n",
    "print(\"%s: %.2f%%\" %(model.metrics_names[1], scores[1]*100))"
   ]
  },
  {
   "cell_type": "markdown",
   "metadata": {
    "colab_type": "text",
    "id": "QTlRD9Mqu9K6"
   },
   "source": [
    "### 모델 사용하기"
   ]
  },
  {
   "cell_type": "code",
   "execution_count": 8,
   "metadata": {
    "colab": {
     "base_uri": "https://localhost:8080/",
     "height": 323
    },
    "colab_type": "code",
    "id": "Wabhqvy-u48Q",
    "outputId": "abb1e734-766a-45dc-b25b-c9b2c8d38a8d"
   },
   "outputs": [
    {
     "name": "stdout",
     "output_type": "stream",
     "text": [
      "-- Predict --\n",
      "{'circle': 0, 'rectangle': 1, 'triangle': 2}\n",
      "[[0.000 0.000 0.999]\n",
      " [0.000 0.013 0.987]\n",
      " [0.000 0.000 1.000]\n",
      " [0.000 0.000 1.000]\n",
      " [0.013 0.000 0.987]\n",
      " [0.000 0.000 1.000]\n",
      " [0.000 0.000 1.000]\n",
      " [0.034 0.000 0.966]\n",
      " [0.555 0.001 0.444]\n",
      " [0.401 0.000 0.599]\n",
      " [0.000 0.000 1.000]\n",
      " [0.000 0.000 1.000]\n",
      " [0.000 0.000 1.000]\n",
      " [0.000 0.001 0.999]\n",
      " [0.000 0.020 0.980]]\n"
     ]
    }
   ],
   "source": [
    "print(\"-- Predict --\")\n",
    "output = model.predict_generator(test_generator, steps=5)\n",
    "np.set_printoptions(formatter={'float': lambda x: \"{0:0.3f}\".format(x)})\n",
    "print(test_generator.class_indices)\n",
    "print(output)"
   ]
  },
  {
   "cell_type": "code",
   "execution_count": 9,
   "metadata": {
    "colab": {},
    "colab_type": "code",
    "id": "jVItItOmvZOJ"
   },
   "outputs": [
    {
     "name": "stdout",
     "output_type": "stream",
     "text": [
      "circle\\circle021.png 0 2\n",
      "circle\\circle022.png 0 2\n",
      "circle\\circle023.png 0 2\n",
      "circle\\circle024.png 0 2\n",
      "circle\\circle025.png 0 2\n",
      "rectangle\\rectangle021.png 1 2\n",
      "rectangle\\rectangle022.png 1 2\n",
      "rectangle\\rectangle023.png 1 2\n",
      "rectangle\\rectangle024.png 1 0\n",
      "rectangle\\rectangle025.png 1 2\n",
      "triangle\\triangle021.png 2 2\n",
      "triangle\\triangle022.png 2 2\n",
      "triangle\\triangle023.png 2 2\n",
      "triangle\\triangle024.png 2 2\n",
      "triangle\\triangle025.png 2 2\n"
     ]
    }
   ],
   "source": [
    "for i in range(len(test_generator.labels)):\n",
    "    print(test_generator.filenames[i], test_generator.labels[i], np.argmax(output[i]))"
   ]
  },
  {
   "cell_type": "code",
   "execution_count": null,
   "metadata": {},
   "outputs": [],
   "source": []
  }
 ],
 "metadata": {
  "colab": {
   "collapsed_sections": [],
   "name": "PolygonClassfication_02_HardTest.ipynb",
   "provenance": [],
   "version": "0.3.2"
  },
  "kernelspec": {
   "display_name": "Python 3",
   "language": "python",
   "name": "python3"
  },
  "language_info": {
   "codemirror_mode": {
    "name": "ipython",
    "version": 3
   },
   "file_extension": ".py",
   "mimetype": "text/x-python",
   "name": "python",
   "nbconvert_exporter": "python",
   "pygments_lexer": "ipython3",
   "version": "3.7.5"
  }
 },
 "nbformat": 4,
 "nbformat_minor": 1
}
