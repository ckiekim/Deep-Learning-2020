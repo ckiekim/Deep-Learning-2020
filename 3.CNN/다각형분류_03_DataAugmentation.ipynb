{
 "cells": [
  {
   "cell_type": "markdown",
   "metadata": {
    "colab_type": "text",
    "id": "3rG34xrNgE7I"
   },
   "source": [
    "# 원, 삼각형, 사각형 구분하기\n",
    "## 3. Data Augmentation을 사용한 CNN 모델"
   ]
  },
  {
   "cell_type": "code",
   "execution_count": 1,
   "metadata": {
    "colab": {},
    "colab_type": "code",
    "id": "bwA2Lk7gilA1"
   },
   "outputs": [
    {
     "name": "stderr",
     "output_type": "stream",
     "text": [
      "Using TensorFlow backend.\n"
     ]
    }
   ],
   "source": [
    "import numpy as np\n",
    "import tensorflow as tf\n",
    "from tensorflow import keras\n",
    "from keras.models import Sequential\n",
    "from keras.layers import Dense, Flatten, Conv2D, MaxPooling2D\n",
    "from keras.preprocessing.image import ImageDataGenerator"
   ]
  },
  {
   "cell_type": "code",
   "execution_count": 2,
   "metadata": {},
   "outputs": [],
   "source": [
    "# seed 값 설정\n",
    "seed = 2020\n",
    "np.random.seed(seed)\n",
    "tf.random.set_seed(seed)"
   ]
  },
  {
   "cell_type": "markdown",
   "metadata": {
    "colab_type": "text",
    "id": "SjsMBcR0pnzv"
   },
   "source": [
    "### 데이터 부풀리기(Augmentation)"
   ]
  },
  {
   "cell_type": "code",
   "execution_count": 3,
   "metadata": {
    "colab": {},
    "colab_type": "code",
    "id": "aXdBt1YT11ud"
   },
   "outputs": [],
   "source": [
    "from keras.preprocessing.image import array_to_img, img_to_array, load_img"
   ]
  },
  {
   "cell_type": "code",
   "execution_count": 6,
   "metadata": {},
   "outputs": [],
   "source": [
    "train_datagen = ImageDataGenerator(rescale=1./255, \n",
    "                                   rotation_range=15,\n",
    "                                   width_shift_range=0.1,\n",
    "                                   height_shift_range=0.1,\n",
    "                                   shear_range=0.5,\n",
    "                                   zoom_range=[0.8, 2.0],\n",
    "                                   horizontal_flip=True,\n",
    "                                   vertical_flip=True,\n",
    "                                   fill_mode='nearest')"
   ]
  },
  {
   "cell_type": "code",
   "execution_count": 7,
   "metadata": {},
   "outputs": [],
   "source": [
    "data_aug_gen = ImageDataGenerator(rescale=1./255, \n",
    "                                  rotation_range=15,\n",
    "                                  width_shift_range=0.1,\n",
    "                                  height_shift_range=0.1,\n",
    "                                  shear_range=0.5,\n",
    "                                  zoom_range=[0.8, 2.0],\n",
    "                                  horizontal_flip=True,\n",
    "                                  vertical_flip=True,\n",
    "                                  fill_mode='nearest')"
   ]
  },
  {
   "cell_type": "code",
   "execution_count": 8,
   "metadata": {
    "colab": {},
    "colab_type": "code",
    "id": "9Ffv4Qcfkxd0"
   },
   "outputs": [],
   "source": [
    "img = load_img('hard_handwriting_shape/train/triangle/triangle001.png')\n",
    "x = img_to_array(img)\n",
    "x = x.reshape((1,) + x.shape)\n",
    "\n",
    "i = 0\n",
    "\n",
    "# 무한 for loop이니 주의!!!\n",
    "for batch in train_datagen.flow(x, batch_size=1, save_to_dir='preview', \n",
    "                                save_prefix='tri', save_format='png'):\n",
    "    i += 1\n",
    "    if i > 30: \n",
    "        break"
   ]
  },
  {
   "cell_type": "markdown",
   "metadata": {
    "colab_type": "text",
    "id": "2VFAvDns3n9d"
   },
   "source": [
    "### 데이터셋 생성하기"
   ]
  },
  {
   "cell_type": "code",
   "execution_count": 9,
   "metadata": {
    "colab": {
     "base_uri": "https://localhost:8080/",
     "height": 53
    },
    "colab_type": "code",
    "id": "g8ZZac3U3nWj",
    "outputId": "d6911fa9-f142-489d-aaac-c442e2a563b1"
   },
   "outputs": [
    {
     "name": "stdout",
     "output_type": "stream",
     "text": [
      "Found 45 images belonging to 3 classes.\n",
      "Found 15 images belonging to 3 classes.\n"
     ]
    }
   ],
   "source": [
    "train_generator = train_datagen.flow_from_directory(\n",
    "        'hard_handwriting_shape/train',\n",
    "        target_size=(24, 24),\n",
    "        batch_size=3,\n",
    "        class_mode='categorical')\n",
    "\n",
    "test_datagen = ImageDataGenerator(rescale=1./255)\n",
    "\n",
    "test_generator = test_datagen.flow_from_directory(\n",
    "        'hard_handwriting_shape/test',\n",
    "        target_size=(24, 24),    \n",
    "        batch_size=3,\n",
    "        class_mode='categorical')"
   ]
  },
  {
   "cell_type": "markdown",
   "metadata": {
    "colab_type": "text",
    "id": "K88bSm6wpwsK"
   },
   "source": [
    "### 모델 구성하기"
   ]
  },
  {
   "cell_type": "code",
   "execution_count": 10,
   "metadata": {
    "colab": {
     "base_uri": "https://localhost:8080/",
     "height": 377
    },
    "colab_type": "code",
    "id": "G5TOCJzIpVfR",
    "outputId": "50fcbc1c-f6b5-4923-9e24-0e29f5da5f38"
   },
   "outputs": [
    {
     "name": "stdout",
     "output_type": "stream",
     "text": [
      "Model: \"sequential_1\"\n",
      "_________________________________________________________________\n",
      "Layer (type)                 Output Shape              Param #   \n",
      "=================================================================\n",
      "conv2d_1 (Conv2D)            (None, 22, 22, 32)        896       \n",
      "_________________________________________________________________\n",
      "conv2d_2 (Conv2D)            (None, 20, 20, 64)        18496     \n",
      "_________________________________________________________________\n",
      "max_pooling2d_1 (MaxPooling2 (None, 10, 10, 64)        0         \n",
      "_________________________________________________________________\n",
      "flatten_1 (Flatten)          (None, 6400)              0         \n",
      "_________________________________________________________________\n",
      "dense_1 (Dense)              (None, 128)               819328    \n",
      "_________________________________________________________________\n",
      "dense_2 (Dense)              (None, 3)                 387       \n",
      "=================================================================\n",
      "Total params: 839,107\n",
      "Trainable params: 839,107\n",
      "Non-trainable params: 0\n",
      "_________________________________________________________________\n"
     ]
    }
   ],
   "source": [
    "model = Sequential()\n",
    "model.add(Conv2D(32, kernel_size=(3, 3),\n",
    "                 activation='relu', input_shape=(24,24,3)))\n",
    "model.add(Conv2D(64, (3, 3), activation='relu'))\n",
    "model.add(MaxPooling2D(pool_size=(2, 2)))\n",
    "model.add(Flatten())\n",
    "model.add(Dense(128, activation='relu'))\n",
    "model.add(Dense(3, activation='softmax'))\n",
    "model.summary()"
   ]
  },
  {
   "cell_type": "markdown",
   "metadata": {
    "colab_type": "text",
    "id": "wrjhuhJ2tEeA"
   },
   "source": [
    "### 모델 학습과정 설정하기"
   ]
  },
  {
   "cell_type": "code",
   "execution_count": 11,
   "metadata": {
    "colab": {},
    "colab_type": "code",
    "id": "hBUFfHV6sSRW"
   },
   "outputs": [],
   "source": [
    "model.compile(loss='categorical_crossentropy', \n",
    "              optimizer='adam', metrics=['accuracy'])"
   ]
  },
  {
   "cell_type": "markdown",
   "metadata": {
    "colab_type": "text",
    "id": "sZ_WQ05itPr9"
   },
   "source": [
    "### 모델 학습시키기\n",
    "- 첫번째 인자 : 훈련데이터셋을 제공할 제네레이터를 지정. 본 예제에서는 앞서 생성한 train_generator으로 지정.\n",
    "- steps_per_epoch : 한 epoch에 사용한 스텝 수를 지정. 총 45개의 훈련 샘플이 있고 배치사이즈가 3이므로 15 스텝으로 지정.\n",
    "- epochs : 전체 훈련 데이터셋에 대해 학습 반복 횟수를 지정. 200번을 반복적으로 학습.\n",
    "- validation_data : 검증데이터셋을 제공할 제네레이터를 지정. 본 예제에서는 앞서 생성한 validation_generator으로 지정.\n",
    "- validation_steps : 한 epoch 종료 시 마다 검증할 때 사용되는 검증 스텝 수를 지정. 홍 15개의 검증 샘플이 있고 배치사이즈가 3이므로 5 스텝으로 지정."
   ]
  },
  {
   "cell_type": "code",
   "execution_count": 12,
   "metadata": {
    "colab": {
     "base_uri": "https://localhost:8080/",
     "height": 1000
    },
    "colab_type": "code",
    "id": "oMzc0kFdtLMY",
    "outputId": "820a8ed5-d798-4b67-bac7-bb1b9384ab93"
   },
   "outputs": [
    {
     "name": "stdout",
     "output_type": "stream",
     "text": [
      "Epoch 1/200\n",
      "15/15 [==============================] - 2s 163ms/step - loss: 1.4515 - accuracy: 0.2000 - val_loss: 1.1237 - val_accuracy: 0.3333\n",
      "Epoch 2/200\n",
      "15/15 [==============================] - 0s 19ms/step - loss: 1.0932 - accuracy: 0.3333 - val_loss: 1.0001 - val_accuracy: 0.4667\n",
      "Epoch 3/200\n",
      "15/15 [==============================] - 0s 20ms/step - loss: 1.0567 - accuracy: 0.3556 - val_loss: 1.1277 - val_accuracy: 0.4667\n",
      "Epoch 4/200\n",
      "15/15 [==============================] - 0s 20ms/step - loss: 0.9164 - accuracy: 0.5556 - val_loss: 0.9897 - val_accuracy: 0.6000\n",
      "Epoch 5/200\n",
      "15/15 [==============================] - 0s 20ms/step - loss: 0.7665 - accuracy: 0.5556 - val_loss: 0.6323 - val_accuracy: 0.7333\n",
      "Epoch 6/200\n",
      "15/15 [==============================] - 0s 20ms/step - loss: 0.8457 - accuracy: 0.6000 - val_loss: 0.6109 - val_accuracy: 0.4667\n",
      "Epoch 7/200\n",
      "15/15 [==============================] - 0s 21ms/step - loss: 0.7514 - accuracy: 0.5778 - val_loss: 0.6534 - val_accuracy: 0.4000\n",
      "Epoch 8/200\n",
      "15/15 [==============================] - 0s 21ms/step - loss: 0.6785 - accuracy: 0.7556 - val_loss: 1.0368 - val_accuracy: 0.5333\n",
      "Epoch 9/200\n",
      "15/15 [==============================] - 0s 20ms/step - loss: 0.4130 - accuracy: 0.8000 - val_loss: 3.7642 - val_accuracy: 0.4000\n",
      "Epoch 10/200\n",
      "15/15 [==============================] - 0s 21ms/step - loss: 0.7399 - accuracy: 0.6667 - val_loss: 0.8659 - val_accuracy: 0.5333\n",
      "Epoch 11/200\n",
      "15/15 [==============================] - 0s 20ms/step - loss: 0.5112 - accuracy: 0.8667 - val_loss: 3.1407 - val_accuracy: 0.4667\n",
      "Epoch 12/200\n",
      "15/15 [==============================] - 0s 20ms/step - loss: 0.4520 - accuracy: 0.8667 - val_loss: 1.3869 - val_accuracy: 0.5333\n",
      "Epoch 13/200\n",
      "15/15 [==============================] - 0s 20ms/step - loss: 0.4990 - accuracy: 0.8444 - val_loss: 0.7453 - val_accuracy: 0.6667\n",
      "Epoch 14/200\n",
      "15/15 [==============================] - 0s 20ms/step - loss: 0.4239 - accuracy: 0.8667 - val_loss: 2.5649 - val_accuracy: 0.6667\n",
      "Epoch 15/200\n",
      "15/15 [==============================] - 0s 20ms/step - loss: 0.1943 - accuracy: 1.0000 - val_loss: 0.4193 - val_accuracy: 0.6667\n",
      "Epoch 16/200\n",
      "15/15 [==============================] - 0s 21ms/step - loss: 0.2796 - accuracy: 0.9333 - val_loss: 2.8820 - val_accuracy: 0.6000\n",
      "Epoch 17/200\n",
      "15/15 [==============================] - 0s 21ms/step - loss: 0.1838 - accuracy: 0.9556 - val_loss: 0.1646 - val_accuracy: 0.7333\n",
      "Epoch 18/200\n",
      "15/15 [==============================] - 0s 21ms/step - loss: 0.2638 - accuracy: 0.9111 - val_loss: 3.9037 - val_accuracy: 0.6000\n",
      "Epoch 19/200\n",
      "15/15 [==============================] - 0s 20ms/step - loss: 0.1603 - accuracy: 0.9333 - val_loss: 0.0066 - val_accuracy: 0.7333\n",
      "Epoch 20/200\n",
      "15/15 [==============================] - 0s 21ms/step - loss: 0.1146 - accuracy: 0.9778 - val_loss: 1.4293 - val_accuracy: 0.7333\n",
      "Epoch 21/200\n",
      "15/15 [==============================] - 0s 20ms/step - loss: 0.0591 - accuracy: 0.9778 - val_loss: 1.1259 - val_accuracy: 0.7333\n",
      "Epoch 22/200\n",
      "15/15 [==============================] - 0s 20ms/step - loss: 0.1394 - accuracy: 0.9778 - val_loss: 0.0460 - val_accuracy: 0.7333\n",
      "Epoch 23/200\n",
      "15/15 [==============================] - 0s 20ms/step - loss: 0.0413 - accuracy: 1.0000 - val_loss: 0.3243 - val_accuracy: 0.6667\n",
      "Epoch 24/200\n",
      "15/15 [==============================] - 0s 20ms/step - loss: 0.1364 - accuracy: 0.9333 - val_loss: 1.6227 - val_accuracy: 0.7333\n",
      "Epoch 25/200\n",
      "15/15 [==============================] - 0s 20ms/step - loss: 0.1361 - accuracy: 0.9778 - val_loss: 1.8784 - val_accuracy: 0.7333\n",
      "Epoch 26/200\n",
      "15/15 [==============================] - 0s 21ms/step - loss: 0.1256 - accuracy: 0.9556 - val_loss: 0.7855 - val_accuracy: 0.6000\n",
      "Epoch 27/200\n",
      "15/15 [==============================] - 0s 21ms/step - loss: 0.1081 - accuracy: 0.9556 - val_loss: 2.8322 - val_accuracy: 0.6000\n",
      "Epoch 28/200\n",
      "15/15 [==============================] - 0s 21ms/step - loss: 0.1396 - accuracy: 0.9556 - val_loss: 4.6340 - val_accuracy: 0.6667\n",
      "Epoch 29/200\n",
      "15/15 [==============================] - 0s 22ms/step - loss: 0.1373 - accuracy: 0.9556 - val_loss: 2.3744 - val_accuracy: 0.7333\n",
      "Epoch 30/200\n",
      "15/15 [==============================] - 0s 21ms/step - loss: 0.0316 - accuracy: 1.0000 - val_loss: 2.5545 - val_accuracy: 0.6000\n",
      "Epoch 31/200\n",
      "15/15 [==============================] - 0s 20ms/step - loss: 0.0898 - accuracy: 0.9778 - val_loss: 5.8818 - val_accuracy: 0.6000\n",
      "Epoch 32/200\n",
      "15/15 [==============================] - 0s 21ms/step - loss: 0.0550 - accuracy: 0.9778 - val_loss: 6.4970 - val_accuracy: 0.6000\n",
      "Epoch 33/200\n",
      "15/15 [==============================] - 0s 20ms/step - loss: 0.0342 - accuracy: 1.0000 - val_loss: 0.1917 - val_accuracy: 0.7333\n",
      "Epoch 34/200\n",
      "15/15 [==============================] - 0s 21ms/step - loss: 0.0492 - accuracy: 0.9778 - val_loss: 4.5537 - val_accuracy: 0.6667\n",
      "Epoch 35/200\n",
      "15/15 [==============================] - 0s 20ms/step - loss: 0.0600 - accuracy: 0.9778 - val_loss: 2.9579 - val_accuracy: 0.6667\n",
      "Epoch 36/200\n",
      "15/15 [==============================] - 0s 20ms/step - loss: 0.2361 - accuracy: 0.9333 - val_loss: 1.6325 - val_accuracy: 0.7333\n",
      "Epoch 37/200\n",
      "15/15 [==============================] - 0s 20ms/step - loss: 0.1428 - accuracy: 0.9111 - val_loss: 0.0073 - val_accuracy: 0.7333\n",
      "Epoch 38/200\n",
      "15/15 [==============================] - 0s 21ms/step - loss: 0.1045 - accuracy: 0.9778 - val_loss: 2.2657 - val_accuracy: 0.6000\n",
      "Epoch 39/200\n",
      "15/15 [==============================] - 0s 21ms/step - loss: 0.0363 - accuracy: 1.0000 - val_loss: 1.8763 - val_accuracy: 0.6667\n",
      "Epoch 40/200\n",
      "15/15 [==============================] - 0s 21ms/step - loss: 0.0114 - accuracy: 1.0000 - val_loss: 2.0671 - val_accuracy: 0.7333\n",
      "Epoch 41/200\n",
      "15/15 [==============================] - 0s 21ms/step - loss: 0.0519 - accuracy: 0.9778 - val_loss: 0.3700 - val_accuracy: 0.6667\n",
      "Epoch 42/200\n",
      "15/15 [==============================] - 0s 21ms/step - loss: 0.2805 - accuracy: 0.8889 - val_loss: 2.1865 - val_accuracy: 0.7333\n",
      "Epoch 43/200\n",
      "15/15 [==============================] - 0s 20ms/step - loss: 0.2758 - accuracy: 0.9333 - val_loss: 0.0462 - val_accuracy: 0.6000\n",
      "Epoch 44/200\n",
      "15/15 [==============================] - 0s 20ms/step - loss: 0.1948 - accuracy: 0.9111 - val_loss: 0.1095 - val_accuracy: 0.8000\n",
      "Epoch 45/200\n",
      "15/15 [==============================] - 0s 20ms/step - loss: 0.1413 - accuracy: 0.9556 - val_loss: 0.8526 - val_accuracy: 0.6667\n",
      "Epoch 46/200\n",
      "15/15 [==============================] - 0s 21ms/step - loss: 0.0958 - accuracy: 0.9778 - val_loss: 6.0504 - val_accuracy: 0.7333\n",
      "Epoch 47/200\n",
      "15/15 [==============================] - 0s 21ms/step - loss: 0.0829 - accuracy: 0.9556 - val_loss: 2.7767 - val_accuracy: 0.6667\n",
      "Epoch 48/200\n",
      "15/15 [==============================] - 0s 22ms/step - loss: 0.0344 - accuracy: 1.0000 - val_loss: 7.5398 - val_accuracy: 0.6667\n",
      "Epoch 49/200\n",
      "15/15 [==============================] - 0s 21ms/step - loss: 0.2471 - accuracy: 0.9333 - val_loss: 5.9280 - val_accuracy: 0.6000\n",
      "Epoch 50/200\n",
      "15/15 [==============================] - 0s 21ms/step - loss: 0.0342 - accuracy: 1.0000 - val_loss: 0.4753 - val_accuracy: 0.7333\n",
      "Epoch 51/200\n",
      "15/15 [==============================] - 0s 21ms/step - loss: 0.0514 - accuracy: 0.9778 - val_loss: 0.0227 - val_accuracy: 0.8000\n",
      "Epoch 52/200\n",
      "15/15 [==============================] - 0s 20ms/step - loss: 0.1430 - accuracy: 0.9333 - val_loss: 3.7827 - val_accuracy: 0.7333\n",
      "Epoch 53/200\n",
      "15/15 [==============================] - 0s 21ms/step - loss: 0.1733 - accuracy: 0.8889 - val_loss: 3.2191e-04 - val_accuracy: 0.7333\n",
      "Epoch 54/200\n",
      "15/15 [==============================] - 0s 21ms/step - loss: 0.0222 - accuracy: 1.0000 - val_loss: 0.0568 - val_accuracy: 0.7333\n",
      "Epoch 55/200\n",
      "15/15 [==============================] - 0s 21ms/step - loss: 0.1693 - accuracy: 0.9333 - val_loss: 4.4106 - val_accuracy: 0.6000\n",
      "Epoch 56/200\n",
      "15/15 [==============================] - 0s 21ms/step - loss: 0.0701 - accuracy: 0.9778 - val_loss: 2.4645 - val_accuracy: 0.5333\n",
      "Epoch 57/200\n",
      "15/15 [==============================] - 0s 20ms/step - loss: 0.0374 - accuracy: 1.0000 - val_loss: 0.2162 - val_accuracy: 0.7333\n",
      "Epoch 58/200\n"
     ]
    },
    {
     "name": "stdout",
     "output_type": "stream",
     "text": [
      "15/15 [==============================] - 0s 20ms/step - loss: 0.1579 - accuracy: 0.9556 - val_loss: 1.1828 - val_accuracy: 0.5333\n",
      "Epoch 59/200\n",
      "15/15 [==============================] - 0s 20ms/step - loss: 0.1197 - accuracy: 0.9556 - val_loss: 0.6282 - val_accuracy: 0.6000\n",
      "Epoch 60/200\n",
      "15/15 [==============================] - 0s 20ms/step - loss: 0.0144 - accuracy: 1.0000 - val_loss: 0.1229 - val_accuracy: 0.8000\n",
      "Epoch 61/200\n",
      "15/15 [==============================] - 0s 20ms/step - loss: 0.0650 - accuracy: 0.9556 - val_loss: 0.1086 - val_accuracy: 0.8000\n",
      "Epoch 62/200\n",
      "15/15 [==============================] - 0s 20ms/step - loss: 0.0137 - accuracy: 1.0000 - val_loss: 4.3662 - val_accuracy: 0.8000\n",
      "Epoch 63/200\n",
      "15/15 [==============================] - 0s 20ms/step - loss: 0.1020 - accuracy: 0.9556 - val_loss: 4.4460 - val_accuracy: 0.8000\n",
      "Epoch 64/200\n",
      "15/15 [==============================] - 0s 20ms/step - loss: 0.0211 - accuracy: 1.0000 - val_loss: 4.9519 - val_accuracy: 0.7333\n",
      "Epoch 65/200\n",
      "15/15 [==============================] - 0s 20ms/step - loss: 0.1628 - accuracy: 0.9778 - val_loss: 0.0205 - val_accuracy: 0.7333\n",
      "Epoch 66/200\n",
      "15/15 [==============================] - 0s 20ms/step - loss: 0.0074 - accuracy: 1.0000 - val_loss: 3.0119e-05 - val_accuracy: 0.5333\n",
      "Epoch 67/200\n",
      "15/15 [==============================] - 0s 20ms/step - loss: 0.0730 - accuracy: 0.9778 - val_loss: 0.7998 - val_accuracy: 0.6000\n",
      "Epoch 68/200\n",
      "15/15 [==============================] - 0s 20ms/step - loss: 0.0496 - accuracy: 0.9778 - val_loss: 5.0264e-04 - val_accuracy: 0.5333\n",
      "Epoch 69/200\n",
      "15/15 [==============================] - 0s 20ms/step - loss: 0.0076 - accuracy: 1.0000 - val_loss: 0.2050 - val_accuracy: 0.7333\n",
      "Epoch 70/200\n",
      "15/15 [==============================] - 0s 20ms/step - loss: 0.0064 - accuracy: 1.0000 - val_loss: 1.1889 - val_accuracy: 0.7333\n",
      "Epoch 71/200\n",
      "15/15 [==============================] - 0s 20ms/step - loss: 0.0218 - accuracy: 1.0000 - val_loss: 5.6148 - val_accuracy: 0.7333\n",
      "Epoch 72/200\n",
      "15/15 [==============================] - 0s 21ms/step - loss: 0.0178 - accuracy: 1.0000 - val_loss: 0.7523 - val_accuracy: 0.7333\n",
      "Epoch 73/200\n",
      "15/15 [==============================] - 0s 20ms/step - loss: 0.1590 - accuracy: 0.9556 - val_loss: 1.3832 - val_accuracy: 0.6667\n",
      "Epoch 74/200\n",
      "15/15 [==============================] - 0s 20ms/step - loss: 0.1979 - accuracy: 0.9111 - val_loss: 0.9197 - val_accuracy: 0.6000\n",
      "Epoch 75/200\n",
      "15/15 [==============================] - 0s 20ms/step - loss: 0.0242 - accuracy: 1.0000 - val_loss: 1.9591 - val_accuracy: 0.5333\n",
      "Epoch 76/200\n",
      "15/15 [==============================] - 0s 21ms/step - loss: 0.0070 - accuracy: 1.0000 - val_loss: 4.0681 - val_accuracy: 0.6000\n",
      "Epoch 77/200\n",
      "15/15 [==============================] - 0s 20ms/step - loss: 0.1235 - accuracy: 0.9556 - val_loss: 9.4514 - val_accuracy: 0.5333\n",
      "Epoch 78/200\n",
      "15/15 [==============================] - 0s 20ms/step - loss: 0.0298 - accuracy: 0.9778 - val_loss: 1.4866 - val_accuracy: 0.6667\n",
      "Epoch 79/200\n",
      "15/15 [==============================] - 0s 20ms/step - loss: 0.0304 - accuracy: 0.9778 - val_loss: 0.6403 - val_accuracy: 0.6667\n",
      "Epoch 80/200\n",
      "15/15 [==============================] - 0s 20ms/step - loss: 0.0459 - accuracy: 0.9778 - val_loss: 3.2193 - val_accuracy: 0.7333\n",
      "Epoch 81/200\n",
      "15/15 [==============================] - 0s 20ms/step - loss: 0.0128 - accuracy: 1.0000 - val_loss: 4.4501 - val_accuracy: 0.6667\n",
      "Epoch 82/200\n",
      "15/15 [==============================] - 0s 20ms/step - loss: 0.0494 - accuracy: 0.9778 - val_loss: 5.3123 - val_accuracy: 0.6667\n",
      "Epoch 83/200\n",
      "15/15 [==============================] - 0s 21ms/step - loss: 0.0368 - accuracy: 0.9778 - val_loss: 1.0834 - val_accuracy: 0.6667\n",
      "Epoch 84/200\n",
      "15/15 [==============================] - 0s 20ms/step - loss: 0.0684 - accuracy: 0.9556 - val_loss: 5.1833 - val_accuracy: 0.7333\n",
      "Epoch 85/200\n",
      "15/15 [==============================] - 0s 20ms/step - loss: 0.0069 - accuracy: 1.0000 - val_loss: 6.3371e-04 - val_accuracy: 0.7333\n",
      "Epoch 86/200\n",
      "15/15 [==============================] - 0s 20ms/step - loss: 0.0038 - accuracy: 1.0000 - val_loss: 5.5503 - val_accuracy: 0.7333\n",
      "Epoch 87/200\n",
      "15/15 [==============================] - 0s 20ms/step - loss: 0.1117 - accuracy: 0.9778 - val_loss: 1.5264 - val_accuracy: 0.6667\n",
      "Epoch 88/200\n",
      "15/15 [==============================] - 0s 20ms/step - loss: 0.1851 - accuracy: 0.9556 - val_loss: 3.0341 - val_accuracy: 0.7333\n",
      "Epoch 89/200\n",
      "15/15 [==============================] - 0s 20ms/step - loss: 0.0428 - accuracy: 0.9778 - val_loss: 6.0357 - val_accuracy: 0.6667\n",
      "Epoch 90/200\n",
      "15/15 [==============================] - 0s 21ms/step - loss: 0.0895 - accuracy: 0.9556 - val_loss: 0.2230 - val_accuracy: 0.6667\n",
      "Epoch 91/200\n",
      "15/15 [==============================] - 0s 21ms/step - loss: 0.0291 - accuracy: 0.9778 - val_loss: 4.1963 - val_accuracy: 0.8000\n",
      "Epoch 92/200\n",
      "15/15 [==============================] - 0s 21ms/step - loss: 0.0332 - accuracy: 1.0000 - val_loss: 0.7222 - val_accuracy: 0.6667\n",
      "Epoch 93/200\n",
      "15/15 [==============================] - 0s 20ms/step - loss: 0.0417 - accuracy: 0.9778 - val_loss: 2.4712e-04 - val_accuracy: 0.6667\n",
      "Epoch 94/200\n",
      "15/15 [==============================] - 0s 21ms/step - loss: 0.1144 - accuracy: 0.9778 - val_loss: 0.0000e+00 - val_accuracy: 0.6667\n",
      "Epoch 95/200\n",
      "15/15 [==============================] - 0s 20ms/step - loss: 0.0523 - accuracy: 0.9778 - val_loss: 0.6920 - val_accuracy: 0.6667\n",
      "Epoch 96/200\n",
      "15/15 [==============================] - 0s 20ms/step - loss: 0.0062 - accuracy: 1.0000 - val_loss: 0.3988 - val_accuracy: 0.6667\n",
      "Epoch 97/200\n",
      "15/15 [==============================] - 0s 21ms/step - loss: 0.0056 - accuracy: 1.0000 - val_loss: 1.3393e-04 - val_accuracy: 0.6667\n",
      "Epoch 98/200\n",
      "15/15 [==============================] - 0s 21ms/step - loss: 0.0071 - accuracy: 1.0000 - val_loss: 0.0269 - val_accuracy: 0.6667\n",
      "Epoch 99/200\n",
      "15/15 [==============================] - 0s 20ms/step - loss: 0.0403 - accuracy: 0.9778 - val_loss: 0.0014 - val_accuracy: 0.7333\n",
      "Epoch 100/200\n",
      "15/15 [==============================] - 0s 20ms/step - loss: 0.0350 - accuracy: 0.9778 - val_loss: 8.0680 - val_accuracy: 0.5333\n",
      "Epoch 101/200\n",
      "15/15 [==============================] - 0s 20ms/step - loss: 0.0678 - accuracy: 0.9556 - val_loss: 10.8506 - val_accuracy: 0.6000\n",
      "Epoch 102/200\n",
      "15/15 [==============================] - 0s 20ms/step - loss: 0.0191 - accuracy: 1.0000 - val_loss: 0.0027 - val_accuracy: 0.6667\n",
      "Epoch 103/200\n",
      "15/15 [==============================] - 0s 20ms/step - loss: 0.0428 - accuracy: 0.9778 - val_loss: 6.0964 - val_accuracy: 0.6667\n",
      "Epoch 104/200\n",
      "15/15 [==============================] - 0s 20ms/step - loss: 0.0119 - accuracy: 1.0000 - val_loss: 2.9443 - val_accuracy: 0.6667\n",
      "Epoch 105/200\n",
      "15/15 [==============================] - 0s 20ms/step - loss: 0.0168 - accuracy: 1.0000 - val_loss: 5.6061 - val_accuracy: 0.6667\n",
      "Epoch 106/200\n",
      "15/15 [==============================] - 0s 20ms/step - loss: 0.0034 - accuracy: 1.0000 - val_loss: 2.3675 - val_accuracy: 0.6667\n",
      "Epoch 107/200\n",
      "15/15 [==============================] - 0s 20ms/step - loss: 0.0033 - accuracy: 1.0000 - val_loss: 8.6483 - val_accuracy: 0.6667\n",
      "Epoch 108/200\n",
      "15/15 [==============================] - 0s 20ms/step - loss: 0.0068 - accuracy: 1.0000 - val_loss: 8.9059 - val_accuracy: 0.6667\n",
      "Epoch 109/200\n",
      "15/15 [==============================] - 0s 19ms/step - loss: 0.0056 - accuracy: 1.0000 - val_loss: 2.6272 - val_accuracy: 0.6667\n",
      "Epoch 110/200\n",
      "15/15 [==============================] - 0s 20ms/step - loss: 0.0110 - accuracy: 1.0000 - val_loss: 3.3550 - val_accuracy: 0.6667\n",
      "Epoch 111/200\n",
      "15/15 [==============================] - 0s 19ms/step - loss: 0.0164 - accuracy: 1.0000 - val_loss: 0.0217 - val_accuracy: 0.6667\n",
      "Epoch 112/200\n",
      "15/15 [==============================] - 0s 19ms/step - loss: 0.0024 - accuracy: 1.0000 - val_loss: 10.1083 - val_accuracy: 0.6667\n",
      "Epoch 113/200\n",
      "15/15 [==============================] - 0s 19ms/step - loss: 0.0351 - accuracy: 0.9778 - val_loss: 1.8267 - val_accuracy: 0.6667\n",
      "Epoch 114/200\n",
      "15/15 [==============================] - 0s 19ms/step - loss: 0.0106 - accuracy: 1.0000 - val_loss: 0.1118 - val_accuracy: 0.7333\n",
      "Epoch 115/200\n"
     ]
    },
    {
     "name": "stdout",
     "output_type": "stream",
     "text": [
      "15/15 [==============================] - 0s 19ms/step - loss: 5.5613e-04 - accuracy: 1.0000 - val_loss: 0.0034 - val_accuracy: 0.6667\n",
      "Epoch 116/200\n",
      "15/15 [==============================] - 0s 19ms/step - loss: 0.0034 - accuracy: 1.0000 - val_loss: 2.6130 - val_accuracy: 0.6667\n",
      "Epoch 117/200\n",
      "15/15 [==============================] - 0s 19ms/step - loss: 0.1890 - accuracy: 0.9556 - val_loss: 2.4456 - val_accuracy: 0.6667\n",
      "Epoch 118/200\n",
      "15/15 [==============================] - 0s 19ms/step - loss: 0.1128 - accuracy: 0.9556 - val_loss: 4.4612 - val_accuracy: 0.6667\n",
      "Epoch 119/200\n",
      "15/15 [==============================] - 0s 19ms/step - loss: 0.0248 - accuracy: 1.0000 - val_loss: 1.6120 - val_accuracy: 0.6667\n",
      "Epoch 120/200\n",
      "15/15 [==============================] - 0s 19ms/step - loss: 0.0474 - accuracy: 0.9778 - val_loss: 0.0022 - val_accuracy: 0.6667\n",
      "Epoch 121/200\n",
      "15/15 [==============================] - 0s 19ms/step - loss: 0.0719 - accuracy: 0.9556 - val_loss: 1.6013e-05 - val_accuracy: 0.6667\n",
      "Epoch 122/200\n",
      "15/15 [==============================] - 0s 19ms/step - loss: 0.0148 - accuracy: 1.0000 - val_loss: 5.2413 - val_accuracy: 0.6667\n",
      "Epoch 123/200\n",
      "15/15 [==============================] - 0s 19ms/step - loss: 0.0048 - accuracy: 1.0000 - val_loss: 1.7810 - val_accuracy: 0.6667\n",
      "Epoch 124/200\n",
      "15/15 [==============================] - 0s 19ms/step - loss: 0.0276 - accuracy: 1.0000 - val_loss: 4.4779 - val_accuracy: 0.6667\n",
      "Epoch 125/200\n",
      "15/15 [==============================] - 0s 19ms/step - loss: 0.1191 - accuracy: 0.9778 - val_loss: 1.1446 - val_accuracy: 0.4667\n",
      "Epoch 126/200\n",
      "15/15 [==============================] - 0s 19ms/step - loss: 0.0486 - accuracy: 0.9778 - val_loss: 5.5635 - val_accuracy: 0.4667\n",
      "Epoch 127/200\n",
      "15/15 [==============================] - 0s 19ms/step - loss: 0.0519 - accuracy: 0.9778 - val_loss: 1.4326 - val_accuracy: 0.6000\n",
      "Epoch 128/200\n",
      "15/15 [==============================] - 0s 19ms/step - loss: 0.0021 - accuracy: 1.0000 - val_loss: 0.3398 - val_accuracy: 0.6000\n",
      "Epoch 129/200\n",
      "15/15 [==============================] - 0s 19ms/step - loss: 0.0273 - accuracy: 0.9778 - val_loss: 4.0584 - val_accuracy: 0.5333\n",
      "Epoch 130/200\n",
      "15/15 [==============================] - 0s 20ms/step - loss: 0.0325 - accuracy: 1.0000 - val_loss: 5.9595 - val_accuracy: 0.6000\n",
      "Epoch 131/200\n",
      "15/15 [==============================] - 0s 20ms/step - loss: 0.0182 - accuracy: 1.0000 - val_loss: 5.7959 - val_accuracy: 0.6667\n",
      "Epoch 132/200\n",
      "15/15 [==============================] - 0s 20ms/step - loss: 0.1445 - accuracy: 0.9778 - val_loss: 0.8797 - val_accuracy: 0.6000\n",
      "Epoch 133/200\n",
      "15/15 [==============================] - 0s 20ms/step - loss: 0.0389 - accuracy: 0.9778 - val_loss: 3.3996 - val_accuracy: 0.7333\n",
      "Epoch 134/200\n",
      "15/15 [==============================] - 0s 20ms/step - loss: 0.0121 - accuracy: 1.0000 - val_loss: 0.0012 - val_accuracy: 0.7333\n",
      "Epoch 135/200\n",
      "15/15 [==============================] - 0s 20ms/step - loss: 0.0050 - accuracy: 1.0000 - val_loss: 0.0088 - val_accuracy: 0.7333\n",
      "Epoch 136/200\n",
      "15/15 [==============================] - 0s 20ms/step - loss: 0.0232 - accuracy: 0.9778 - val_loss: 5.3253 - val_accuracy: 0.7333\n",
      "Epoch 137/200\n",
      "15/15 [==============================] - 0s 21ms/step - loss: 0.0490 - accuracy: 0.9778 - val_loss: 4.1437 - val_accuracy: 0.7333\n",
      "Epoch 138/200\n",
      "15/15 [==============================] - 0s 21ms/step - loss: 0.0651 - accuracy: 0.9556 - val_loss: 5.7361 - val_accuracy: 0.6667\n",
      "Epoch 139/200\n",
      "15/15 [==============================] - 0s 21ms/step - loss: 0.0307 - accuracy: 0.9778 - val_loss: 4.5328 - val_accuracy: 0.7333\n",
      "Epoch 140/200\n",
      "15/15 [==============================] - 0s 20ms/step - loss: 0.0858 - accuracy: 0.9556 - val_loss: 2.8644 - val_accuracy: 0.7333\n",
      "Epoch 141/200\n",
      "15/15 [==============================] - 0s 20ms/step - loss: 0.0273 - accuracy: 0.9778 - val_loss: 4.0529e-05 - val_accuracy: 0.6667\n",
      "Epoch 142/200\n",
      "15/15 [==============================] - 0s 20ms/step - loss: 0.0400 - accuracy: 0.9778 - val_loss: 9.1072e-04 - val_accuracy: 0.7333\n",
      "Epoch 143/200\n",
      "15/15 [==============================] - 0s 20ms/step - loss: 0.0116 - accuracy: 1.0000 - val_loss: 1.2270 - val_accuracy: 0.7333\n",
      "Epoch 144/200\n",
      "15/15 [==============================] - 0s 21ms/step - loss: 0.0741 - accuracy: 0.9556 - val_loss: 3.3116 - val_accuracy: 0.6667\n",
      "Epoch 145/200\n",
      "15/15 [==============================] - 0s 21ms/step - loss: 0.0136 - accuracy: 1.0000 - val_loss: 7.5814 - val_accuracy: 0.6667\n",
      "Epoch 146/200\n",
      "15/15 [==============================] - 0s 20ms/step - loss: 0.0059 - accuracy: 1.0000 - val_loss: 1.3931 - val_accuracy: 0.6667\n",
      "Epoch 147/200\n",
      "15/15 [==============================] - 0s 20ms/step - loss: 0.0020 - accuracy: 1.0000 - val_loss: 9.2454e-05 - val_accuracy: 0.6667\n",
      "Epoch 148/200\n",
      "15/15 [==============================] - 0s 21ms/step - loss: 0.0083 - accuracy: 1.0000 - val_loss: 5.4528 - val_accuracy: 0.6667\n",
      "Epoch 149/200\n",
      "15/15 [==============================] - 0s 20ms/step - loss: 0.0732 - accuracy: 0.9778 - val_loss: 5.6818 - val_accuracy: 0.7333\n",
      "Epoch 150/200\n",
      "15/15 [==============================] - 0s 20ms/step - loss: 0.0198 - accuracy: 1.0000 - val_loss: 6.3804 - val_accuracy: 0.7333\n",
      "Epoch 151/200\n",
      "15/15 [==============================] - 0s 20ms/step - loss: 0.0060 - accuracy: 1.0000 - val_loss: 8.7468 - val_accuracy: 0.7333\n",
      "Epoch 152/200\n",
      "15/15 [==============================] - 0s 20ms/step - loss: 0.0444 - accuracy: 0.9778 - val_loss: 0.8644 - val_accuracy: 0.7333\n",
      "Epoch 153/200\n",
      "15/15 [==============================] - 0s 20ms/step - loss: 0.1027 - accuracy: 0.9778 - val_loss: 0.3369 - val_accuracy: 0.7333\n",
      "Epoch 154/200\n",
      "15/15 [==============================] - 0s 20ms/step - loss: 0.0410 - accuracy: 0.9778 - val_loss: 0.0617 - val_accuracy: 0.7333\n",
      "Epoch 155/200\n",
      "15/15 [==============================] - 0s 20ms/step - loss: 0.0103 - accuracy: 1.0000 - val_loss: 3.8389 - val_accuracy: 0.7333\n",
      "Epoch 156/200\n",
      "15/15 [==============================] - 0s 21ms/step - loss: 0.0368 - accuracy: 0.9778 - val_loss: 3.5590 - val_accuracy: 0.6667\n",
      "Epoch 157/200\n",
      "15/15 [==============================] - 0s 20ms/step - loss: 0.0078 - accuracy: 1.0000 - val_loss: 2.2779 - val_accuracy: 0.6667\n",
      "Epoch 158/200\n",
      "15/15 [==============================] - 0s 21ms/step - loss: 0.0088 - accuracy: 1.0000 - val_loss: 4.1720 - val_accuracy: 0.6667\n",
      "Epoch 159/200\n",
      "15/15 [==============================] - 0s 20ms/step - loss: 0.0052 - accuracy: 1.0000 - val_loss: 2.6047 - val_accuracy: 0.6667\n",
      "Epoch 160/200\n",
      "15/15 [==============================] - 0s 20ms/step - loss: 0.0130 - accuracy: 1.0000 - val_loss: 4.6786 - val_accuracy: 0.6667\n",
      "Epoch 161/200\n",
      "15/15 [==============================] - 0s 20ms/step - loss: 2.6173e-04 - accuracy: 1.0000 - val_loss: 1.6947e-04 - val_accuracy: 0.6667\n",
      "Epoch 162/200\n",
      "15/15 [==============================] - 0s 20ms/step - loss: 0.0047 - accuracy: 1.0000 - val_loss: 1.8094 - val_accuracy: 0.6000\n",
      "Epoch 163/200\n",
      "15/15 [==============================] - 0s 20ms/step - loss: 0.0013 - accuracy: 1.0000 - val_loss: 3.8346 - val_accuracy: 0.6000\n",
      "Epoch 164/200\n",
      "15/15 [==============================] - 0s 20ms/step - loss: 0.0098 - accuracy: 1.0000 - val_loss: 2.0519 - val_accuracy: 0.6000\n",
      "Epoch 165/200\n",
      "15/15 [==============================] - 0s 20ms/step - loss: 0.1167 - accuracy: 0.9556 - val_loss: 4.2339 - val_accuracy: 0.7333\n",
      "Epoch 166/200\n",
      "15/15 [==============================] - 0s 20ms/step - loss: 0.0515 - accuracy: 0.9556 - val_loss: 0.3221 - val_accuracy: 0.7333\n",
      "Epoch 167/200\n",
      "15/15 [==============================] - 0s 20ms/step - loss: 0.0884 - accuracy: 0.9778 - val_loss: 2.2650e-06 - val_accuracy: 0.7333\n",
      "Epoch 168/200\n",
      "15/15 [==============================] - 0s 21ms/step - loss: 0.0084 - accuracy: 1.0000 - val_loss: 2.5318 - val_accuracy: 0.7333\n",
      "Epoch 169/200\n",
      "15/15 [==============================] - 0s 21ms/step - loss: 0.0363 - accuracy: 0.9778 - val_loss: 2.8252 - val_accuracy: 0.7333\n",
      "Epoch 170/200\n",
      "15/15 [==============================] - 0s 20ms/step - loss: 0.0389 - accuracy: 0.9778 - val_loss: 6.5277 - val_accuracy: 0.7333\n",
      "Epoch 171/200\n",
      "15/15 [==============================] - 0s 20ms/step - loss: 6.1018e-04 - accuracy: 1.0000 - val_loss: 3.3897 - val_accuracy: 0.7333\n"
     ]
    },
    {
     "name": "stdout",
     "output_type": "stream",
     "text": [
      "Epoch 172/200\n",
      "15/15 [==============================] - 0s 20ms/step - loss: 0.0082 - accuracy: 1.0000 - val_loss: 3.7413 - val_accuracy: 0.7333\n",
      "Epoch 173/200\n",
      "15/15 [==============================] - 0s 19ms/step - loss: 0.0011 - accuracy: 1.0000 - val_loss: 7.2629 - val_accuracy: 0.6667\n",
      "Epoch 174/200\n",
      "15/15 [==============================] - 0s 20ms/step - loss: 4.2837e-04 - accuracy: 1.0000 - val_loss: 3.8874 - val_accuracy: 0.6667\n",
      "Epoch 175/200\n",
      "15/15 [==============================] - 0s 20ms/step - loss: 0.0050 - accuracy: 1.0000 - val_loss: 0.0030 - val_accuracy: 0.6667\n",
      "Epoch 176/200\n",
      "15/15 [==============================] - 0s 20ms/step - loss: 8.5255e-04 - accuracy: 1.0000 - val_loss: 2.1378e-05 - val_accuracy: 0.6667\n",
      "Epoch 177/200\n",
      "15/15 [==============================] - 0s 21ms/step - loss: 0.0039 - accuracy: 1.0000 - val_loss: 5.6603 - val_accuracy: 0.6667\n",
      "Epoch 178/200\n",
      "15/15 [==============================] - 0s 20ms/step - loss: 0.0032 - accuracy: 1.0000 - val_loss: 1.9950 - val_accuracy: 0.7333\n",
      "Epoch 179/200\n",
      "15/15 [==============================] - 0s 21ms/step - loss: 0.1005 - accuracy: 0.9778 - val_loss: 2.7467 - val_accuracy: 0.7333\n",
      "Epoch 180/200\n",
      "15/15 [==============================] - 0s 20ms/step - loss: 0.0247 - accuracy: 0.9778 - val_loss: 3.8995 - val_accuracy: 0.6667\n",
      "Epoch 181/200\n",
      "15/15 [==============================] - 0s 20ms/step - loss: 0.0709 - accuracy: 0.9778 - val_loss: 0.0019 - val_accuracy: 0.7333\n",
      "Epoch 182/200\n",
      "15/15 [==============================] - 0s 20ms/step - loss: 0.0080 - accuracy: 1.0000 - val_loss: 3.4788 - val_accuracy: 0.8000\n",
      "Epoch 183/200\n",
      "15/15 [==============================] - 0s 21ms/step - loss: 0.1576 - accuracy: 0.9778 - val_loss: 2.8371e-05 - val_accuracy: 0.8000\n",
      "Epoch 184/200\n",
      "15/15 [==============================] - 0s 20ms/step - loss: 0.0215 - accuracy: 0.9778 - val_loss: 0.5396 - val_accuracy: 0.6667\n",
      "Epoch 185/200\n",
      "15/15 [==============================] - 0s 20ms/step - loss: 0.0188 - accuracy: 0.9778 - val_loss: 5.1779 - val_accuracy: 0.7333\n",
      "Epoch 186/200\n",
      "15/15 [==============================] - 0s 20ms/step - loss: 0.0031 - accuracy: 1.0000 - val_loss: 0.3346 - val_accuracy: 0.7333\n",
      "Epoch 187/200\n",
      "15/15 [==============================] - 0s 20ms/step - loss: 0.0340 - accuracy: 0.9778 - val_loss: 4.0365 - val_accuracy: 0.6000\n",
      "Epoch 188/200\n",
      "15/15 [==============================] - 0s 21ms/step - loss: 0.0092 - accuracy: 1.0000 - val_loss: 1.1740e-04 - val_accuracy: 0.6000\n",
      "Epoch 189/200\n",
      "15/15 [==============================] - 0s 21ms/step - loss: 0.0053 - accuracy: 1.0000 - val_loss: 8.5881 - val_accuracy: 0.6667\n",
      "Epoch 190/200\n",
      "15/15 [==============================] - 0s 20ms/step - loss: 4.0015e-04 - accuracy: 1.0000 - val_loss: 7.3145 - val_accuracy: 0.6667\n",
      "Epoch 191/200\n",
      "15/15 [==============================] - 0s 20ms/step - loss: 0.0299 - accuracy: 0.9778 - val_loss: 0.3838 - val_accuracy: 0.6667\n",
      "Epoch 192/200\n",
      "15/15 [==============================] - 0s 20ms/step - loss: 9.8187e-04 - accuracy: 1.0000 - val_loss: 6.9714 - val_accuracy: 0.8000\n",
      "Epoch 193/200\n",
      "15/15 [==============================] - 0s 20ms/step - loss: 0.0353 - accuracy: 0.9778 - val_loss: 12.2104 - val_accuracy: 0.8000\n",
      "Epoch 194/200\n",
      "15/15 [==============================] - 0s 20ms/step - loss: 0.0026 - accuracy: 1.0000 - val_loss: 0.4863 - val_accuracy: 0.7333\n",
      "Epoch 195/200\n",
      "15/15 [==============================] - 0s 19ms/step - loss: 0.0016 - accuracy: 1.0000 - val_loss: 0.8409 - val_accuracy: 0.7333\n",
      "Epoch 196/200\n",
      "15/15 [==============================] - 0s 20ms/step - loss: 0.1538 - accuracy: 0.9556 - val_loss: 0.1978 - val_accuracy: 0.6000\n",
      "Epoch 197/200\n",
      "15/15 [==============================] - 0s 20ms/step - loss: 0.0294 - accuracy: 0.9778 - val_loss: 8.2633 - val_accuracy: 0.7333\n",
      "Epoch 198/200\n",
      "15/15 [==============================] - 0s 21ms/step - loss: 0.0998 - accuracy: 0.9778 - val_loss: 4.2796 - val_accuracy: 0.8000\n",
      "Epoch 199/200\n",
      "15/15 [==============================] - 0s 21ms/step - loss: 0.0601 - accuracy: 0.9778 - val_loss: 0.7470 - val_accuracy: 0.7333\n",
      "Epoch 200/200\n",
      "15/15 [==============================] - 0s 20ms/step - loss: 0.0165 - accuracy: 1.0000 - val_loss: 1.1350 - val_accuracy: 0.5333\n"
     ]
    },
    {
     "data": {
      "text/plain": [
       "<keras.callbacks.callbacks.History at 0x1a69f6efb88>"
      ]
     },
     "execution_count": 12,
     "metadata": {},
     "output_type": "execute_result"
    }
   ],
   "source": [
    "model.fit_generator(\n",
    "        train_generator,\n",
    "        steps_per_epoch=15,\n",
    "        epochs=200,\n",
    "        validation_data=test_generator,\n",
    "        validation_steps=5)"
   ]
  },
  {
   "cell_type": "markdown",
   "metadata": {
    "colab_type": "text",
    "id": "uT9NEiI-uy52"
   },
   "source": [
    "### 모델 평가하기"
   ]
  },
  {
   "cell_type": "code",
   "execution_count": 13,
   "metadata": {
    "colab": {
     "base_uri": "https://localhost:8080/",
     "height": 53
    },
    "colab_type": "code",
    "id": "XZ8jXxlIu1SE",
    "outputId": "38f36f23-013e-4793-c638-26f0bedb5b6e"
   },
   "outputs": [
    {
     "name": "stdout",
     "output_type": "stream",
     "text": [
      "-- Evaluate --\n",
      "accuracy: 53.33%\n"
     ]
    }
   ],
   "source": [
    "print(\"-- Evaluate --\")\n",
    "scores = model.evaluate_generator(test_generator, steps=5)\n",
    "print(\"%s: %.2f%%\" %(model.metrics_names[1], scores[1]*100))"
   ]
  },
  {
   "cell_type": "markdown",
   "metadata": {
    "colab_type": "text",
    "id": "QTlRD9Mqu9K6"
   },
   "source": [
    "### 모델 사용하기"
   ]
  },
  {
   "cell_type": "code",
   "execution_count": 14,
   "metadata": {
    "colab": {
     "base_uri": "https://localhost:8080/",
     "height": 323
    },
    "colab_type": "code",
    "id": "Wabhqvy-u48Q",
    "outputId": "d6b6ad06-8b60-4998-8ffb-3468141da43c"
   },
   "outputs": [
    {
     "name": "stdout",
     "output_type": "stream",
     "text": [
      "-- Predict --\n",
      "{'circle': 0, 'rectangle': 1, 'triangle': 2}\n",
      "[[0.000 0.000 1.000]\n",
      " [0.000 0.000 1.000]\n",
      " [0.001 0.451 0.548]\n",
      " [0.000 0.000 1.000]\n",
      " [0.000 0.000 1.000]\n",
      " [0.000 0.000 1.000]\n",
      " [0.000 1.000 0.000]\n",
      " [0.024 0.668 0.309]\n",
      " [1.000 0.000 0.000]\n",
      " [1.000 0.000 0.000]\n",
      " [0.240 0.000 0.760]\n",
      " [0.000 0.000 1.000]\n",
      " [0.002 0.320 0.678]\n",
      " [0.000 0.002 0.998]\n",
      " [0.001 0.104 0.895]]\n"
     ]
    }
   ],
   "source": [
    "print(\"-- Predict --\")\n",
    "output = model.predict_generator(test_generator, steps=5)\n",
    "np.set_printoptions(formatter={'float': lambda x: \"{0:0.3f}\".format(x)})\n",
    "print(test_generator.class_indices)\n",
    "print(output)"
   ]
  },
  {
   "cell_type": "code",
   "execution_count": 0,
   "metadata": {
    "colab": {},
    "colab_type": "code",
    "id": "jVItItOmvZOJ"
   },
   "outputs": [],
   "source": []
  }
 ],
 "metadata": {
  "colab": {
   "collapsed_sections": [],
   "name": "PolygonClassfication_03_DataAugmentation.ipynb",
   "provenance": [],
   "version": "0.3.2"
  },
  "kernelspec": {
   "display_name": "Python 3",
   "language": "python",
   "name": "python3"
  },
  "language_info": {
   "codemirror_mode": {
    "name": "ipython",
    "version": 3
   },
   "file_extension": ".py",
   "mimetype": "text/x-python",
   "name": "python",
   "nbconvert_exporter": "python",
   "pygments_lexer": "ipython3",
   "version": "3.7.5"
  }
 },
 "nbformat": 4,
 "nbformat_minor": 1
}
