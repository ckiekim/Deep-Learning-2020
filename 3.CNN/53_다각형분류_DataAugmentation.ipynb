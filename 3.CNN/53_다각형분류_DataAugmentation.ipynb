{
 "cells": [
  {
   "cell_type": "markdown",
   "metadata": {
    "colab_type": "text",
    "id": "3rG34xrNgE7I"
   },
   "source": [
    "# 원, 삼각형, 사각형 구분하기\n",
    "## 3. Data Augmentation을 사용한 CNN 모델"
   ]
  },
  {
   "cell_type": "code",
   "execution_count": 1,
   "metadata": {
    "colab": {},
    "colab_type": "code",
    "id": "bwA2Lk7gilA1"
   },
   "outputs": [
    {
     "name": "stderr",
     "output_type": "stream",
     "text": [
      "Using TensorFlow backend.\n"
     ]
    }
   ],
   "source": [
    "import numpy as np\n",
    "import tensorflow as tf\n",
    "from tensorflow import keras\n",
    "from keras.models import Sequential\n",
    "from keras.layers import Dense, Flatten, Conv2D, MaxPooling2D\n",
    "from keras.preprocessing.image import ImageDataGenerator"
   ]
  },
  {
   "cell_type": "code",
   "execution_count": 2,
   "metadata": {},
   "outputs": [],
   "source": [
    "# seed 값 설정\n",
    "seed = 2020\n",
    "np.random.seed(seed)\n",
    "tf.random.set_seed(seed)"
   ]
  },
  {
   "cell_type": "markdown",
   "metadata": {
    "colab_type": "text",
    "id": "SjsMBcR0pnzv"
   },
   "source": [
    "### 데이터 부풀리기(Augmentation)"
   ]
  },
  {
   "cell_type": "code",
   "execution_count": 3,
   "metadata": {
    "colab": {},
    "colab_type": "code",
    "id": "aXdBt1YT11ud"
   },
   "outputs": [],
   "source": [
    "from keras.preprocessing.image import array_to_img, img_to_array, load_img"
   ]
  },
  {
   "cell_type": "code",
   "execution_count": 4,
   "metadata": {},
   "outputs": [],
   "source": [
    "# 데이터 부풀리기를 적용한 훈련 데이터 제너레이터\n",
    "train_datagen = ImageDataGenerator(rescale=1./255, \n",
    "                                   rotation_range=15,\n",
    "                                   width_shift_range=0.1,\n",
    "                                   height_shift_range=0.1,\n",
    "                                   shear_range=0.5,\n",
    "                                   zoom_range=[0.8, 2.0],\n",
    "                                   horizontal_flip=True,\n",
    "                                   vertical_flip=True,\n",
    "                                   fill_mode='nearest')"
   ]
  },
  {
   "cell_type": "code",
   "execution_count": 5,
   "metadata": {
    "colab": {},
    "colab_type": "code",
    "id": "9Ffv4Qcfkxd0"
   },
   "outputs": [],
   "source": [
    "img = load_img('hard_handwriting_shape/train/triangle/triangle001.png')\n",
    "x = img_to_array(img)\n",
    "x = x.reshape((1,) + x.shape)\n",
    "\n",
    "i = 0\n",
    "\n",
    "# 무한 for loop이니 주의!!!\n",
    "for batch in train_datagen.flow(x, batch_size=1, save_to_dir='preview', \n",
    "                                save_prefix='tri', save_format='png'):\n",
    "    i += 1\n",
    "    if i > 30: \n",
    "        break"
   ]
  },
  {
   "cell_type": "markdown",
   "metadata": {
    "colab_type": "text",
    "id": "2VFAvDns3n9d"
   },
   "source": [
    "### 데이터셋 생성하기"
   ]
  },
  {
   "cell_type": "code",
   "execution_count": 6,
   "metadata": {
    "colab": {
     "base_uri": "https://localhost:8080/",
     "height": 53
    },
    "colab_type": "code",
    "id": "g8ZZac3U3nWj",
    "outputId": "d6911fa9-f142-489d-aaac-c442e2a563b1"
   },
   "outputs": [
    {
     "name": "stdout",
     "output_type": "stream",
     "text": [
      "Found 45 images belonging to 3 classes.\n",
      "Found 15 images belonging to 3 classes.\n"
     ]
    }
   ],
   "source": [
    "train_generator = train_datagen.flow_from_directory(\n",
    "        'hard_handwriting_shape/train',\n",
    "        target_size=(24, 24),\n",
    "        batch_size=3,\n",
    "        class_mode='categorical')\n",
    "\n",
    "test_datagen = ImageDataGenerator(rescale=1./255)\n",
    "\n",
    "test_generator = test_datagen.flow_from_directory(\n",
    "        'hard_handwriting_shape/test',\n",
    "        target_size=(24, 24),    \n",
    "        batch_size=3,\n",
    "        class_mode='categorical')"
   ]
  },
  {
   "cell_type": "markdown",
   "metadata": {
    "colab_type": "text",
    "id": "K88bSm6wpwsK"
   },
   "source": [
    "### 모델 구성하기"
   ]
  },
  {
   "cell_type": "code",
   "execution_count": 7,
   "metadata": {
    "colab": {
     "base_uri": "https://localhost:8080/",
     "height": 377
    },
    "colab_type": "code",
    "id": "G5TOCJzIpVfR",
    "outputId": "50fcbc1c-f6b5-4923-9e24-0e29f5da5f38"
   },
   "outputs": [
    {
     "name": "stdout",
     "output_type": "stream",
     "text": [
      "Model: \"sequential_1\"\n",
      "_________________________________________________________________\n",
      "Layer (type)                 Output Shape              Param #   \n",
      "=================================================================\n",
      "conv2d_1 (Conv2D)            (None, 22, 22, 32)        896       \n",
      "_________________________________________________________________\n",
      "conv2d_2 (Conv2D)            (None, 20, 20, 64)        18496     \n",
      "_________________________________________________________________\n",
      "max_pooling2d_1 (MaxPooling2 (None, 10, 10, 64)        0         \n",
      "_________________________________________________________________\n",
      "flatten_1 (Flatten)          (None, 6400)              0         \n",
      "_________________________________________________________________\n",
      "dense_1 (Dense)              (None, 128)               819328    \n",
      "_________________________________________________________________\n",
      "dense_2 (Dense)              (None, 3)                 387       \n",
      "=================================================================\n",
      "Total params: 839,107\n",
      "Trainable params: 839,107\n",
      "Non-trainable params: 0\n",
      "_________________________________________________________________\n"
     ]
    }
   ],
   "source": [
    "model = Sequential()\n",
    "model.add(Conv2D(32, kernel_size=(3, 3),\n",
    "                 activation='relu', input_shape=(24,24,3)))\n",
    "model.add(Conv2D(64, (3, 3), activation='relu'))\n",
    "model.add(MaxPooling2D(pool_size=(2, 2)))\n",
    "model.add(Flatten())\n",
    "model.add(Dense(128, activation='relu'))\n",
    "model.add(Dense(3, activation='softmax'))\n",
    "model.summary()"
   ]
  },
  {
   "cell_type": "markdown",
   "metadata": {
    "colab_type": "text",
    "id": "wrjhuhJ2tEeA"
   },
   "source": [
    "### 모델 학습과정 설정하기"
   ]
  },
  {
   "cell_type": "code",
   "execution_count": 8,
   "metadata": {
    "colab": {},
    "colab_type": "code",
    "id": "hBUFfHV6sSRW"
   },
   "outputs": [],
   "source": [
    "model.compile(loss='categorical_crossentropy', \n",
    "              optimizer='adam', metrics=['accuracy'])"
   ]
  },
  {
   "cell_type": "markdown",
   "metadata": {
    "colab_type": "text",
    "id": "sZ_WQ05itPr9"
   },
   "source": [
    "### 모델 학습시키기\n",
    "- 첫번째 인자 : 훈련데이터셋을 제공할 제네레이터를 지정. 본 예제에서는 앞서 생성한 train_generator으로 지정.\n",
    "- steps_per_epoch : 한 epoch에 사용한 스텝 수를 지정. 총 45개의 훈련 샘플이 있고 배치사이즈가 3이므로 15 스텝으로 지정.\n",
    "- epochs : 전체 훈련 데이터셋에 대해 학습 반복 횟수를 지정. 200번을 반복적으로 학습.\n",
    "- validation_data : 검증데이터셋을 제공할 제네레이터를 지정. 본 예제에서는 앞서 생성한 validation_generator으로 지정.\n",
    "- validation_steps : 한 epoch 종료 시 마다 검증할 때 사용되는 검증 스텝 수를 지정. 홍 15개의 검증 샘플이 있고 배치사이즈가 3이므로 5 스텝으로 지정."
   ]
  },
  {
   "cell_type": "code",
   "execution_count": 9,
   "metadata": {
    "colab": {
     "base_uri": "https://localhost:8080/",
     "height": 1000
    },
    "colab_type": "code",
    "id": "oMzc0kFdtLMY",
    "outputId": "820a8ed5-d798-4b67-bac7-bb1b9384ab93"
   },
   "outputs": [
    {
     "name": "stdout",
     "output_type": "stream",
     "text": [
      "Epoch 1/200\n",
      "1500/1500 [==============================] - 23s 15ms/step - loss: 0.1511 - accuracy: 0.9411 - val_loss: 3.7163e-04 - val_accuracy: 0.7333\n",
      "Epoch 2/200\n",
      "1500/1500 [==============================] - 28s 19ms/step - loss: 0.0355 - accuracy: 0.9889 - val_loss: 3.6298 - val_accuracy: 0.6667\n",
      "Epoch 3/200\n",
      "1500/1500 [==============================] - 29s 19ms/step - loss: 0.0279 - accuracy: 0.9900 - val_loss: 0.9012 - val_accuracy: 0.6667\n",
      "Epoch 4/200\n",
      "1500/1500 [==============================] - 29s 19ms/step - loss: 0.0232 - accuracy: 0.9922 - val_loss: 0.0000e+00 - val_accuracy: 0.6000\n",
      "Epoch 5/200\n",
      "1500/1500 [==============================] - 29s 19ms/step - loss: 0.0136 - accuracy: 0.9964 - val_loss: 9.7473 - val_accuracy: 0.7333\n",
      "Epoch 6/200\n",
      "1500/1500 [==============================] - 27s 18ms/step - loss: 0.0109 - accuracy: 0.9967 - val_loss: 0.7037 - val_accuracy: 0.8000\n",
      "Epoch 7/200\n",
      "1500/1500 [==============================] - 26s 17ms/step - loss: 0.0113 - accuracy: 0.9971 - val_loss: 2.7109 - val_accuracy: 0.7333\n",
      "Epoch 8/200\n",
      "1500/1500 [==============================] - 29s 19ms/step - loss: 0.0066 - accuracy: 0.9978 - val_loss: 11.8741 - val_accuracy: 0.8000\n",
      "Epoch 9/200\n",
      "1500/1500 [==============================] - 29s 19ms/step - loss: 0.0251 - accuracy: 0.9951 - val_loss: 4.4287 - val_accuracy: 0.8667\n",
      "Epoch 10/200\n",
      "1500/1500 [==============================] - 29s 19ms/step - loss: 0.0081 - accuracy: 0.9982 - val_loss: 13.3175 - val_accuracy: 0.8667\n",
      "Epoch 11/200\n",
      "1500/1500 [==============================] - 23s 16ms/step - loss: 0.0207 - accuracy: 0.9958 - val_loss: 2.8610e-06 - val_accuracy: 0.8000\n",
      "Epoch 12/200\n",
      "1500/1500 [==============================] - 29s 19ms/step - loss: 0.0013 - accuracy: 0.9996 - val_loss: 0.0021 - val_accuracy: 0.8000\n",
      "Epoch 13/200\n",
      "1500/1500 [==============================] - 29s 19ms/step - loss: 0.0200 - accuracy: 0.9960 - val_loss: 0.0000e+00 - val_accuracy: 0.8667\n",
      "Epoch 14/200\n",
      "1500/1500 [==============================] - 29s 19ms/step - loss: 0.0073 - accuracy: 0.9973 - val_loss: 0.0000e+00 - val_accuracy: 0.8000\n",
      "Epoch 15/200\n",
      "1500/1500 [==============================] - 29s 19ms/step - loss: 0.0119 - accuracy: 0.9982 - val_loss: 16.7105 - val_accuracy: 0.8667\n",
      "Epoch 16/200\n",
      "1500/1500 [==============================] - 29s 19ms/step - loss: 0.0205 - accuracy: 0.9971 - val_loss: 17.6943 - val_accuracy: 0.8667\n",
      "Epoch 17/200\n",
      "1500/1500 [==============================] - 29s 19ms/step - loss: 0.0106 - accuracy: 0.9984 - val_loss: 32.4289 - val_accuracy: 0.8667\n",
      "Epoch 18/200\n",
      "1500/1500 [==============================] - 29s 19ms/step - loss: 0.0017 - accuracy: 0.9996 - val_loss: 0.0087 - val_accuracy: 0.8667\n",
      "Epoch 19/200\n",
      "1500/1500 [==============================] - 29s 19ms/step - loss: 6.6990e-05 - accuracy: 1.0000 - val_loss: 21.2920 - val_accuracy: 0.8667\n",
      "Epoch 20/200\n",
      "1500/1500 [==============================] - 29s 19ms/step - loss: 0.0149 - accuracy: 0.9969 - val_loss: 0.0000e+00 - val_accuracy: 0.8667\n",
      "Epoch 21/200\n",
      "1500/1500 [==============================] - 24s 16ms/step - loss: 0.0169 - accuracy: 0.9973 - val_loss: 22.7217 - val_accuracy: 0.8667\n",
      "Epoch 22/200\n",
      "1500/1500 [==============================] - 27s 18ms/step - loss: 0.0024 - accuracy: 0.9993 - val_loss: 2.2277e-04 - val_accuracy: 0.8667\n",
      "Epoch 23/200\n",
      "1500/1500 [==============================] - 26s 17ms/step - loss: 0.0135 - accuracy: 0.9980 - val_loss: 9.9914e-04 - val_accuracy: 0.8667\n",
      "Epoch 24/200\n",
      "1500/1500 [==============================] - 23s 15ms/step - loss: 3.1807e-05 - accuracy: 1.0000 - val_loss: 40.9821 - val_accuracy: 0.8667\n",
      "Epoch 25/200\n",
      "1500/1500 [==============================] - 26s 18ms/step - loss: 0.0254 - accuracy: 0.9967 - val_loss: 0.2239 - val_accuracy: 0.8667\n",
      "Epoch 26/200\n",
      "1500/1500 [==============================] - 24s 16ms/step - loss: 0.0052 - accuracy: 0.9989 - val_loss: 0.0000e+00 - val_accuracy: 0.8667\n",
      "Epoch 27/200\n",
      "1500/1500 [==============================] - 20s 14ms/step - loss: 0.0101 - accuracy: 0.9987 - val_loss: 28.1639 - val_accuracy: 0.8000\n",
      "Epoch 28/200\n",
      "1500/1500 [==============================] - 23s 15ms/step - loss: 0.0143 - accuracy: 0.9978 - val_loss: 0.0000e+00 - val_accuracy: 0.8000\n",
      "Epoch 29/200\n",
      "1500/1500 [==============================] - 23s 16ms/step - loss: 7.8251e-04 - accuracy: 0.9998 - val_loss: 0.0000e+00 - val_accuracy: 0.8000\n",
      "Epoch 30/200\n",
      "1500/1500 [==============================] - 25s 16ms/step - loss: 0.0136 - accuracy: 0.9964 - val_loss: 0.0000e+00 - val_accuracy: 0.7333\n",
      "Epoch 31/200\n",
      "1500/1500 [==============================] - 22s 14ms/step - loss: 0.0081 - accuracy: 0.9982 - val_loss: 2.3842e-07 - val_accuracy: 0.8000\n",
      "Epoch 32/200\n",
      "1500/1500 [==============================] - 25s 17ms/step - loss: 6.7104e-04 - accuracy: 0.9996 - val_loss: 24.3642 - val_accuracy: 0.8000\n",
      "Epoch 33/200\n",
      "1500/1500 [==============================] - 23s 15ms/step - loss: 0.0079 - accuracy: 0.9993 - val_loss: 0.0000e+00 - val_accuracy: 0.8000\n",
      "Epoch 34/200\n",
      "1500/1500 [==============================] - 24s 16ms/step - loss: 0.0217 - accuracy: 0.9964 - val_loss: 79.6909 - val_accuracy: 0.7333\n",
      "Epoch 35/200\n",
      "1500/1500 [==============================] - 26s 17ms/step - loss: 0.0073 - accuracy: 0.9987 - val_loss: 73.4817 - val_accuracy: 0.7333\n",
      "Epoch 36/200\n",
      "1500/1500 [==============================] - 23s 16ms/step - loss: 0.0038 - accuracy: 0.9996 - val_loss: 42.5081 - val_accuracy: 0.8667\n",
      "Epoch 37/200\n",
      "1500/1500 [==============================] - 23s 15ms/step - loss: 0.0112 - accuracy: 0.9987 - val_loss: 0.0000e+00 - val_accuracy: 0.8000\n",
      "Epoch 38/200\n",
      "1500/1500 [==============================] - 27s 18ms/step - loss: 0.0283 - accuracy: 0.9976 - val_loss: 47.1891 - val_accuracy: 0.8000\n",
      "Epoch 39/200\n",
      "1500/1500 [==============================] - 26s 18ms/step - loss: 0.0061 - accuracy: 0.9996 - val_loss: 0.9693 - val_accuracy: 0.7333\n",
      "Epoch 40/200\n",
      "1500/1500 [==============================] - 25s 17ms/step - loss: 0.0138 - accuracy: 0.9984 - val_loss: 0.0000e+00 - val_accuracy: 0.8667\n",
      "Epoch 41/200\n",
      "1500/1500 [==============================] - 27s 18ms/step - loss: 0.0051 - accuracy: 0.9996 - val_loss: 0.0000e+00 - val_accuracy: 0.8000\n",
      "Epoch 42/200\n",
      "1500/1500 [==============================] - 27s 18ms/step - loss: 0.0168 - accuracy: 0.9987 - val_loss: 40.5584 - val_accuracy: 0.8667\n",
      "Epoch 43/200\n",
      "1500/1500 [==============================] - 29s 19ms/step - loss: 0.0140 - accuracy: 0.9978 - val_loss: 1.9390e-04 - val_accuracy: 0.8667\n",
      "Epoch 44/200\n",
      "1500/1500 [==============================] - 26s 17ms/step - loss: 1.9311e-04 - accuracy: 0.9998 - val_loss: 46.0136 - val_accuracy: 0.8667\n",
      "Epoch 45/200\n",
      "1500/1500 [==============================] - 28s 19ms/step - loss: 0.0081 - accuracy: 0.9989 - val_loss: 53.8058 - val_accuracy: 0.8667\n",
      "Epoch 46/200\n",
      "1500/1500 [==============================] - 25s 16ms/step - loss: 1.2767e-05 - accuracy: 1.0000 - val_loss: 0.0000e+00 - val_accuracy: 0.8667\n",
      "Epoch 47/200\n",
      "1500/1500 [==============================] - 26s 17ms/step - loss: 5.5782e-06 - accuracy: 1.0000 - val_loss: 1.1921e-07 - val_accuracy: 0.8667\n",
      "Epoch 48/200\n",
      "1500/1500 [==============================] - 26s 17ms/step - loss: 0.0138 - accuracy: 0.9980 - val_loss: 4.7700 - val_accuracy: 0.7333\n",
      "Epoch 49/200\n",
      "1500/1500 [==============================] - 29s 19ms/step - loss: 0.0159 - accuracy: 0.9987 - val_loss: 36.8877 - val_accuracy: 0.8000\n",
      "Epoch 50/200\n",
      "1500/1500 [==============================] - 25s 16ms/step - loss: 6.1390e-05 - accuracy: 1.0000 - val_loss: 106.5169 - val_accuracy: 0.8000\n",
      "Epoch 51/200\n",
      "1500/1500 [==============================] - 29s 19ms/step - loss: 0.0355 - accuracy: 0.9973 - val_loss: 38.5661 - val_accuracy: 0.8000\n",
      "Epoch 52/200\n",
      "1500/1500 [==============================] - 29s 19ms/step - loss: 0.0163 - accuracy: 0.9987 - val_loss: 7.8700 - val_accuracy: 0.6667\n",
      "Epoch 53/200\n",
      "1500/1500 [==============================] - 29s 19ms/step - loss: 0.0017 - accuracy: 0.9993 - val_loss: 0.8598 - val_accuracy: 0.8000\n",
      "Epoch 54/200\n",
      "1500/1500 [==============================] - 29s 19ms/step - loss: 0.0215 - accuracy: 0.9987 - val_loss: 1.1921e-07 - val_accuracy: 0.8667\n",
      "Epoch 55/200\n",
      "1500/1500 [==============================] - 29s 19ms/step - loss: 0.0030 - accuracy: 0.9993 - val_loss: 0.0000e+00 - val_accuracy: 0.8000\n",
      "Epoch 56/200\n",
      "1500/1500 [==============================] - 29s 19ms/step - loss: 0.0035 - accuracy: 0.9996 - val_loss: 0.1307 - val_accuracy: 0.8667\n",
      "Epoch 57/200\n",
      "1500/1500 [==============================] - 24s 16ms/step - loss: 0.0147 - accuracy: 0.9982 - val_loss: 0.0000e+00 - val_accuracy: 0.8000\n",
      "Epoch 58/200\n",
      "1500/1500 [==============================] - 30s 20ms/step - loss: 0.0192 - accuracy: 0.9980 - val_loss: 2.0496 - val_accuracy: 0.7333\n",
      "Epoch 59/200\n",
      "1500/1500 [==============================] - 29s 19ms/step - loss: 0.0129 - accuracy: 0.9984 - val_loss: 44.6771 - val_accuracy: 0.8000\n",
      "Epoch 60/200\n",
      "1500/1500 [==============================] - 29s 19ms/step - loss: 0.0134 - accuracy: 0.9989 - val_loss: 0.0000e+00 - val_accuracy: 0.7333\n",
      "Epoch 61/200\n",
      "1500/1500 [==============================] - 29s 19ms/step - loss: 0.0079 - accuracy: 0.9989 - val_loss: 0.0000e+00 - val_accuracy: 0.8000\n",
      "Epoch 62/200\n",
      "1500/1500 [==============================] - 29s 19ms/step - loss: 0.0075 - accuracy: 0.9996 - val_loss: 4.3173 - val_accuracy: 0.8000\n",
      "Epoch 63/200\n",
      "1500/1500 [==============================] - 29s 19ms/step - loss: 0.0064 - accuracy: 0.9991 - val_loss: 2.7188 - val_accuracy: 0.8000\n",
      "Epoch 64/200\n",
      "1500/1500 [==============================] - 29s 19ms/step - loss: 7.4846e-05 - accuracy: 1.0000 - val_loss: 3.7865 - val_accuracy: 0.8000\n",
      "Epoch 65/200\n",
      "1500/1500 [==============================] - 29s 19ms/step - loss: 0.0172 - accuracy: 0.9982 - val_loss: 90.4792 - val_accuracy: 0.8000\n",
      "Epoch 66/200\n",
      "1500/1500 [==============================] - 29s 19ms/step - loss: 0.0029 - accuracy: 0.9996 - val_loss: 0.0000e+00 - val_accuracy: 0.8000\n",
      "Epoch 67/200\n",
      "1500/1500 [==============================] - 29s 19ms/step - loss: 1.0201e-06 - accuracy: 1.0000 - val_loss: 69.5439 - val_accuracy: 0.8000\n",
      "Epoch 68/200\n",
      "1500/1500 [==============================] - 29s 19ms/step - loss: 0.0083 - accuracy: 0.9993 - val_loss: 0.0000e+00 - val_accuracy: 0.7333\n",
      "Epoch 69/200\n",
      "1500/1500 [==============================] - 29s 19ms/step - loss: 0.0149 - accuracy: 0.9987 - val_loss: 85.8095 - val_accuracy: 0.8667\n",
      "Epoch 70/200\n",
      "1500/1500 [==============================] - 29s 19ms/step - loss: 0.0175 - accuracy: 0.9989 - val_loss: 68.8169 - val_accuracy: 0.8000\n",
      "Epoch 71/200\n",
      "1500/1500 [==============================] - 29s 20ms/step - loss: 0.0104 - accuracy: 0.9987 - val_loss: 0.0000e+00 - val_accuracy: 0.8667\n",
      "Epoch 72/200\n",
      "1500/1500 [==============================] - 29s 19ms/step - loss: 0.0122 - accuracy: 0.9993 - val_loss: 7.9473e-08 - val_accuracy: 0.8000\n",
      "Epoch 73/200\n",
      "1500/1500 [==============================] - 29s 19ms/step - loss: 0.0074 - accuracy: 0.9991 - val_loss: 46.0559 - val_accuracy: 0.8000\n",
      "Epoch 74/200\n",
      "1500/1500 [==============================] - 29s 19ms/step - loss: 0.0069 - accuracy: 0.9996 - val_loss: 0.0000e+00 - val_accuracy: 0.8000\n",
      "Epoch 75/200\n",
      "1500/1500 [==============================] - 29s 19ms/step - loss: 1.3974e-05 - accuracy: 1.0000 - val_loss: 0.0000e+00 - val_accuracy: 0.8000\n",
      "Epoch 76/200\n",
      "1500/1500 [==============================] - 29s 19ms/step - loss: 1.5449e-06 - accuracy: 1.0000 - val_loss: 49.3641 - val_accuracy: 0.8000\n",
      "Epoch 77/200\n",
      "1500/1500 [==============================] - 25s 17ms/step - loss: 8.8184e-06 - accuracy: 1.0000 - val_loss: 10.9290 - val_accuracy: 0.7333\n",
      "Epoch 78/200\n",
      "1500/1500 [==============================] - 25s 17ms/step - loss: 0.0121 - accuracy: 0.9989 - val_loss: 62.9003 - val_accuracy: 0.8000\n",
      "Epoch 79/200\n",
      "1500/1500 [==============================] - 26s 17ms/step - loss: 0.0165 - accuracy: 0.9987 - val_loss: 0.0000e+00 - val_accuracy: 0.8667\n",
      "Epoch 80/200\n",
      "1500/1500 [==============================] - 22s 15ms/step - loss: 0.0040 - accuracy: 0.9996 - val_loss: 0.0000e+00 - val_accuracy: 0.8000\n",
      "Epoch 81/200\n",
      "1500/1500 [==============================] - 25s 17ms/step - loss: 9.4924e-08 - accuracy: 1.0000 - val_loss: 110.7157 - val_accuracy: 0.8000\n",
      "Epoch 82/200\n",
      "1500/1500 [==============================] - 26s 17ms/step - loss: 3.8882e-06 - accuracy: 1.0000 - val_loss: 0.0000e+00 - val_accuracy: 0.8000\n",
      "Epoch 83/200\n",
      "1500/1500 [==============================] - 23s 16ms/step - loss: 0.0087 - accuracy: 0.9989 - val_loss: 57.7830 - val_accuracy: 0.8000\n",
      "Epoch 84/200\n",
      "1500/1500 [==============================] - 24s 16ms/step - loss: 0.0068 - accuracy: 0.9998 - val_loss: 55.6501 - val_accuracy: 0.8000\n",
      "Epoch 85/200\n",
      "1500/1500 [==============================] - 20s 13ms/step - loss: 0.0093 - accuracy: 0.9987 - val_loss: 0.0000e+00 - val_accuracy: 0.8000\n",
      "Epoch 86/200\n",
      "1500/1500 [==============================] - 25s 17ms/step - loss: 0.0269 - accuracy: 0.9989 - val_loss: 0.0000e+00 - val_accuracy: 0.8000\n",
      "Epoch 87/200\n",
      "1500/1500 [==============================] - 24s 16ms/step - loss: 0.0022 - accuracy: 0.9989 - val_loss: 54.7523 - val_accuracy: 0.8000\n",
      "Epoch 88/200\n",
      "1500/1500 [==============================] - 26s 17ms/step - loss: 0.0070 - accuracy: 0.9987 - val_loss: 61.3255 - val_accuracy: 0.8000\n",
      "Epoch 89/200\n",
      "1500/1500 [==============================] - 24s 16ms/step - loss: 0.0069 - accuracy: 0.9996 - val_loss: 0.0000e+00 - val_accuracy: 0.8000\n",
      "Epoch 90/200\n",
      "1500/1500 [==============================] - 26s 17ms/step - loss: 0.0146 - accuracy: 0.9991 - val_loss: 0.0000e+00 - val_accuracy: 0.8000\n",
      "Epoch 91/200\n",
      "1500/1500 [==============================] - 22s 15ms/step - loss: 0.0211 - accuracy: 0.9987 - val_loss: 33.6550 - val_accuracy: 0.8000\n",
      "Epoch 92/200\n",
      "1500/1500 [==============================] - 24s 16ms/step - loss: 0.0016 - accuracy: 0.9996 - val_loss: 40.3494 - val_accuracy: 0.8000\n",
      "Epoch 93/200\n",
      "1500/1500 [==============================] - 28s 19ms/step - loss: 0.0126 - accuracy: 0.9991 - val_loss: 1.2795e-05 - val_accuracy: 0.8000\n",
      "Epoch 94/200\n",
      "1500/1500 [==============================] - 26s 17ms/step - loss: 0.0180 - accuracy: 0.9984 - val_loss: 39.7201 - val_accuracy: 0.7333\n",
      "Epoch 95/200\n",
      "1500/1500 [==============================] - 23s 15ms/step - loss: 1.8172e-05 - accuracy: 1.0000 - val_loss: 0.2586 - val_accuracy: 0.7333\n",
      "Epoch 96/200\n",
      "1500/1500 [==============================] - 29s 19ms/step - loss: 0.0033 - accuracy: 0.9998 - val_loss: 95.5538 - val_accuracy: 0.8000\n",
      "Epoch 97/200\n",
      "1500/1500 [==============================] - 23s 16ms/step - loss: 0.0096 - accuracy: 0.9993 - val_loss: 0.0000e+00 - val_accuracy: 0.8000\n",
      "Epoch 98/200\n",
      "1500/1500 [==============================] - 25s 17ms/step - loss: 0.0093 - accuracy: 0.9989 - val_loss: 3.9736e-08 - val_accuracy: 0.8000\n",
      "Epoch 99/200\n",
      "1500/1500 [==============================] - 27s 18ms/step - loss: 0.0141 - accuracy: 0.9987 - val_loss: 68.4797 - val_accuracy: 0.8000\n",
      "Epoch 100/200\n",
      "1500/1500 [==============================] - 29s 19ms/step - loss: 0.0033 - accuracy: 0.9996 - val_loss: 3.1789e-07 - val_accuracy: 0.8667\n",
      "Epoch 101/200\n",
      "1500/1500 [==============================] - 27s 18ms/step - loss: 1.0616e-04 - accuracy: 1.0000 - val_loss: 7.9473e-08 - val_accuracy: 0.7333\n",
      "Epoch 102/200\n",
      "1500/1500 [==============================] - 29s 19ms/step - loss: 0.0095 - accuracy: 0.9993 - val_loss: 0.0000e+00 - val_accuracy: 0.8000\n",
      "Epoch 103/200\n",
      "1500/1500 [==============================] - 27s 18ms/step - loss: 5.5501e-06 - accuracy: 1.0000 - val_loss: 0.0000e+00 - val_accuracy: 0.8000\n",
      "Epoch 104/200\n",
      "1500/1500 [==============================] - 28s 19ms/step - loss: 0.0082 - accuracy: 0.9991 - val_loss: 39.3833 - val_accuracy: 0.8667\n",
      "Epoch 105/200\n",
      "1500/1500 [==============================] - 29s 19ms/step - loss: 0.0028 - accuracy: 0.9993 - val_loss: 0.0000e+00 - val_accuracy: 0.8000\n",
      "Epoch 106/200\n",
      "1500/1500 [==============================] - 28s 19ms/step - loss: 0.0048 - accuracy: 0.9996 - val_loss: 90.2322 - val_accuracy: 0.8000\n",
      "Epoch 107/200\n",
      "1500/1500 [==============================] - 30s 20ms/step - loss: 1.0455e-06 - accuracy: 1.0000 - val_loss: 0.0000e+00 - val_accuracy: 0.8000\n",
      "Epoch 108/200\n",
      "1500/1500 [==============================] - 29s 19ms/step - loss: 2.6491e-11 - accuracy: 1.0000 - val_loss: 51.3553 - val_accuracy: 0.8000\n",
      "Epoch 109/200\n"
     ]
    },
    {
     "name": "stdout",
     "output_type": "stream",
     "text": [
      "1500/1500 [==============================] - 29s 19ms/step - loss: 1.8068e-07 - accuracy: 1.0000 - val_loss: 0.0000e+00 - val_accuracy: 0.8000\n",
      "Epoch 110/200\n",
      "1500/1500 [==============================] - 29s 19ms/step - loss: 0.0000e+00 - accuracy: 1.0000 - val_loss: 11.1197 - val_accuracy: 0.8000\n",
      "Epoch 111/200\n",
      "1500/1500 [==============================] - 29s 19ms/step - loss: 1.5895e-10 - accuracy: 1.0000 - val_loss: 0.0000e+00 - val_accuracy: 0.8000\n",
      "Epoch 112/200\n",
      "1500/1500 [==============================] - 27s 18ms/step - loss: 0.0000e+00 - accuracy: 1.0000 - val_loss: 94.4987 - val_accuracy: 0.8000\n",
      "Epoch 113/200\n",
      "1500/1500 [==============================] - 29s 19ms/step - loss: 1.0596e-10 - accuracy: 1.0000 - val_loss: 39.7018 - val_accuracy: 0.8000\n",
      "Epoch 114/200\n",
      "1500/1500 [==============================] - 27s 18ms/step - loss: 5.2982e-11 - accuracy: 1.0000 - val_loss: 0.0000e+00 - val_accuracy: 0.8000\n",
      "Epoch 115/200\n",
      "1500/1500 [==============================] - 29s 19ms/step - loss: 0.0250 - accuracy: 0.9987 - val_loss: 37.8147 - val_accuracy: 0.8667\n",
      "Epoch 116/200\n",
      "1500/1500 [==============================] - 29s 19ms/step - loss: 8.2121e-09 - accuracy: 1.0000 - val_loss: 0.0000e+00 - val_accuracy: 0.8000\n",
      "Epoch 117/200\n",
      "1500/1500 [==============================] - 29s 19ms/step - loss: 0.0063 - accuracy: 0.9996 - val_loss: 130.5945 - val_accuracy: 0.6667\n",
      "Epoch 118/200\n",
      "1500/1500 [==============================] - 29s 19ms/step - loss: 3.5527e-05 - accuracy: 1.0000 - val_loss: 96.2608 - val_accuracy: 0.8000\n",
      "Epoch 119/200\n",
      "1500/1500 [==============================] - 29s 19ms/step - loss: 0.0056 - accuracy: 0.9993 - val_loss: 0.0000e+00 - val_accuracy: 0.8000\n",
      "Epoch 120/200\n",
      "1500/1500 [==============================] - 29s 19ms/step - loss: 0.0071 - accuracy: 0.9993 - val_loss: 0.0000e+00 - val_accuracy: 0.8000\n",
      "Epoch 121/200\n",
      "1500/1500 [==============================] - 29s 19ms/step - loss: 0.0012 - accuracy: 0.9998 - val_loss: 0.0000e+00 - val_accuracy: 0.8000\n",
      "Epoch 122/200\n",
      "1500/1500 [==============================] - 29s 19ms/step - loss: 0.0243 - accuracy: 0.9989 - val_loss: 0.0000e+00 - val_accuracy: 0.8000\n",
      "Epoch 123/200\n",
      "1500/1500 [==============================] - 29s 19ms/step - loss: 0.0269 - accuracy: 0.9989 - val_loss: 0.0000e+00 - val_accuracy: 0.8000\n",
      "Epoch 124/200\n",
      "1500/1500 [==============================] - 29s 19ms/step - loss: 0.0063 - accuracy: 0.9996 - val_loss: 45.8626 - val_accuracy: 0.8000\n",
      "Epoch 125/200\n",
      "1500/1500 [==============================] - 28s 19ms/step - loss: 0.0091 - accuracy: 0.9991 - val_loss: 52.3717 - val_accuracy: 0.8000\n",
      "Epoch 126/200\n",
      "1500/1500 [==============================] - 29s 19ms/step - loss: 0.0210 - accuracy: 0.9987 - val_loss: 0.0000e+00 - val_accuracy: 0.8000\n",
      "Epoch 127/200\n",
      "1500/1500 [==============================] - 29s 19ms/step - loss: 0.0152 - accuracy: 0.9993 - val_loss: 0.0000e+00 - val_accuracy: 0.8000\n",
      "Epoch 128/200\n",
      "1500/1500 [==============================] - 29s 19ms/step - loss: 0.0325 - accuracy: 0.9982 - val_loss: 98.3083 - val_accuracy: 0.8000\n",
      "Epoch 129/200\n",
      "1500/1500 [==============================] - 29s 19ms/step - loss: 0.0022 - accuracy: 0.9998 - val_loss: 13.3452 - val_accuracy: 0.8000\n",
      "Epoch 130/200\n",
      "1500/1500 [==============================] - 31s 21ms/step - loss: 5.5465e-08 - accuracy: 1.0000 - val_loss: 37.6351 - val_accuracy: 0.8000\n",
      "Epoch 131/200\n",
      "1500/1500 [==============================] - 29s 19ms/step - loss: 0.0097 - accuracy: 0.9991 - val_loss: 106.7880 - val_accuracy: 0.8000\n",
      "Epoch 132/200\n",
      "1500/1500 [==============================] - 29s 19ms/step - loss: 0.0021 - accuracy: 0.9998 - val_loss: 53.6684 - val_accuracy: 0.7333\n",
      "Epoch 133/200\n",
      "1500/1500 [==============================] - 29s 19ms/step - loss: 0.0112 - accuracy: 0.9996 - val_loss: 0.0038 - val_accuracy: 0.8667\n",
      "Epoch 134/200\n",
      "1500/1500 [==============================] - 29s 19ms/step - loss: 0.0050 - accuracy: 0.9993 - val_loss: 0.0000e+00 - val_accuracy: 0.8000\n",
      "Epoch 135/200\n",
      "1500/1500 [==============================] - 29s 19ms/step - loss: 0.0046 - accuracy: 0.9998 - val_loss: 0.0000e+00 - val_accuracy: 0.7333\n",
      "Epoch 136/200\n",
      "1500/1500 [==============================] - 30s 20ms/step - loss: 0.0064 - accuracy: 0.9993 - val_loss: 130.8204 - val_accuracy: 0.7333\n",
      "Epoch 137/200\n",
      "1500/1500 [==============================] - 29s 19ms/step - loss: 0.0013 - accuracy: 0.9998 - val_loss: 0.0000e+00 - val_accuracy: 0.8000\n",
      "Epoch 138/200\n",
      "1500/1500 [==============================] - 29s 19ms/step - loss: 2.2550e-06 - accuracy: 1.0000 - val_loss: 24.0865 - val_accuracy: 0.8000\n",
      "Epoch 139/200\n",
      "1500/1500 [==============================] - 29s 19ms/step - loss: 0.0085 - accuracy: 0.9998 - val_loss: 16.0182 - val_accuracy: 0.7333\n",
      "Epoch 140/200\n",
      "1500/1500 [==============================] - 29s 19ms/step - loss: 0.0101 - accuracy: 0.9996 - val_loss: 3.9736e-08 - val_accuracy: 0.6667\n",
      "Epoch 141/200\n",
      "1500/1500 [==============================] - 30s 20ms/step - loss: 0.0069 - accuracy: 0.9993 - val_loss: 113.3085 - val_accuracy: 0.8000\n",
      "Epoch 142/200\n",
      "1500/1500 [==============================] - 29s 19ms/step - loss: 0.0021 - accuracy: 0.9998 - val_loss: 3.0845e-04 - val_accuracy: 0.8000\n",
      "Epoch 143/200\n",
      "1500/1500 [==============================] - 29s 19ms/step - loss: 2.4314e-04 - accuracy: 0.9998 - val_loss: 116.5777 - val_accuracy: 0.8000\n",
      "Epoch 144/200\n",
      "1500/1500 [==============================] - 29s 19ms/step - loss: 0.0146 - accuracy: 0.9991 - val_loss: 0.0000e+00 - val_accuracy: 0.8000\n",
      "Epoch 145/200\n",
      "1500/1500 [==============================] - 29s 19ms/step - loss: 1.6085e-07 - accuracy: 1.0000 - val_loss: 14.1840 - val_accuracy: 0.8000\n",
      "Epoch 146/200\n",
      "1500/1500 [==============================] - 29s 19ms/step - loss: 4.3708e-08 - accuracy: 1.0000 - val_loss: 0.0000e+00 - val_accuracy: 0.8000\n",
      "Epoch 147/200\n",
      "1500/1500 [==============================] - 29s 19ms/step - loss: 3.1789e-10 - accuracy: 1.0000 - val_loss: 0.0000e+00 - val_accuracy: 0.8000\n",
      "Epoch 148/200\n",
      "1500/1500 [==============================] - 29s 19ms/step - loss: 0.0000e+00 - accuracy: 1.0000 - val_loss: 0.0000e+00 - val_accuracy: 0.8000\n",
      "Epoch 149/200\n",
      "1500/1500 [==============================] - 29s 19ms/step - loss: 0.0058 - accuracy: 0.9996 - val_loss: 0.0000e+00 - val_accuracy: 0.8000\n",
      "Epoch 150/200\n",
      "1500/1500 [==============================] - 29s 19ms/step - loss: 0.0063 - accuracy: 0.9998 - val_loss: 26.1045 - val_accuracy: 0.8000\n",
      "Epoch 151/200\n",
      "1500/1500 [==============================] - 29s 20ms/step - loss: 0.0366 - accuracy: 0.9989 - val_loss: 0.0000e+00 - val_accuracy: 0.8000\n",
      "Epoch 152/200\n",
      "1500/1500 [==============================] - 29s 20ms/step - loss: 0.0031 - accuracy: 0.9998 - val_loss: 13.4371 - val_accuracy: 0.8000\n",
      "Epoch 153/200\n",
      "1500/1500 [==============================] - 29s 19ms/step - loss: 4.9582e-05 - accuracy: 1.0000 - val_loss: 0.0000e+00 - val_accuracy: 0.8000\n",
      "Epoch 154/200\n",
      "1500/1500 [==============================] - 29s 19ms/step - loss: 5.2982e-11 - accuracy: 1.0000 - val_loss: 0.0000e+00 - val_accuracy: 0.8000\n",
      "Epoch 155/200\n",
      "1500/1500 [==============================] - 29s 19ms/step - loss: 3.9736e-10 - accuracy: 1.0000 - val_loss: 35.5555 - val_accuracy: 0.8000\n",
      "Epoch 156/200\n",
      "1500/1500 [==============================] - 29s 19ms/step - loss: 0.0070 - accuracy: 0.9989 - val_loss: 0.0000e+00 - val_accuracy: 0.8000\n",
      "Epoch 157/200\n",
      "1500/1500 [==============================] - 29s 19ms/step - loss: 0.0125 - accuracy: 0.9996 - val_loss: 0.0000e+00 - val_accuracy: 0.8000\n",
      "Epoch 158/200\n",
      "1500/1500 [==============================] - 29s 19ms/step - loss: 1.1898e-05 - accuracy: 1.0000 - val_loss: 98.8471 - val_accuracy: 0.8000\n",
      "Epoch 159/200\n",
      "1500/1500 [==============================] - 29s 19ms/step - loss: 0.0000e+00 - accuracy: 1.0000 - val_loss: 98.8471 - val_accuracy: 0.8000\n",
      "Epoch 160/200\n",
      "1500/1500 [==============================] - 29s 19ms/step - loss: 0.0158 - accuracy: 0.9993 - val_loss: 84.1485 - val_accuracy: 0.8000\n",
      "Epoch 161/200\n",
      "1500/1500 [==============================] - 29s 19ms/step - loss: 0.0040 - accuracy: 0.9993 - val_loss: 0.0000e+00 - val_accuracy: 0.8000\n",
      "Epoch 162/200\n",
      "1500/1500 [==============================] - 29s 19ms/step - loss: 0.0000e+00 - accuracy: 1.0000 - val_loss: 0.0000e+00 - val_accuracy: 0.8000\n",
      "Epoch 163/200\n",
      "1500/1500 [==============================] - 29s 19ms/step - loss: 0.0150 - accuracy: 0.9991 - val_loss: 95.4684 - val_accuracy: 0.8667\n",
      "Epoch 164/200\n",
      "1500/1500 [==============================] - 29s 19ms/step - loss: 0.0075 - accuracy: 0.9996 - val_loss: 0.0000e+00 - val_accuracy: 0.8000\n",
      "Epoch 165/200\n",
      "1500/1500 [==============================] - 29s 19ms/step - loss: 0.0022 - accuracy: 0.9996 - val_loss: 131.1235 - val_accuracy: 0.8000\n",
      "Epoch 166/200\n",
      "1500/1500 [==============================] - 29s 19ms/step - loss: 0.0144 - accuracy: 0.9991 - val_loss: 0.0000e+00 - val_accuracy: 0.8000\n",
      "Epoch 167/200\n",
      "1500/1500 [==============================] - 28s 19ms/step - loss: 0.0081 - accuracy: 0.9993 - val_loss: 161.5191 - val_accuracy: 0.8000\n",
      "Epoch 168/200\n",
      "1500/1500 [==============================] - 28s 19ms/step - loss: 2.6491e-11 - accuracy: 1.0000 - val_loss: 9.8046 - val_accuracy: 0.8000\n",
      "Epoch 169/200\n",
      "1500/1500 [==============================] - 29s 19ms/step - loss: 0.0023 - accuracy: 0.9996 - val_loss: 124.3052 - val_accuracy: 0.8000\n",
      "Epoch 170/200\n",
      "1500/1500 [==============================] - 28s 19ms/step - loss: 2.6180e-06 - accuracy: 1.0000 - val_loss: 0.0000e+00 - val_accuracy: 0.8000\n",
      "Epoch 171/200\n",
      "1500/1500 [==============================] - 28s 19ms/step - loss: 0.0000e+00 - accuracy: 1.0000 - val_loss: 0.0000e+00 - val_accuracy: 0.8000\n",
      "Epoch 172/200\n",
      "1500/1500 [==============================] - 29s 19ms/step - loss: 0.0000e+00 - accuracy: 1.0000 - val_loss: 26.9808 - val_accuracy: 0.8000\n",
      "Epoch 173/200\n",
      "1500/1500 [==============================] - 28s 19ms/step - loss: 3.4438e-10 - accuracy: 1.0000 - val_loss: 0.0000e+00 - val_accuracy: 0.8000\n",
      "Epoch 174/200\n",
      "1500/1500 [==============================] - 28s 19ms/step - loss: 0.0054 - accuracy: 0.9998 - val_loss: 0.0000e+00 - val_accuracy: 0.8000\n",
      "Epoch 175/200\n",
      "1500/1500 [==============================] - 29s 19ms/step - loss: 0.0111 - accuracy: 0.9991 - val_loss: 0.0000e+00 - val_accuracy: 0.8667\n",
      "Epoch 176/200\n",
      "1500/1500 [==============================] - 28s 19ms/step - loss: 0.0222 - accuracy: 0.9989 - val_loss: 0.0000e+00 - val_accuracy: 0.8000\n",
      "Epoch 177/200\n",
      "1500/1500 [==============================] - 29s 19ms/step - loss: 0.0032 - accuracy: 0.9996 - val_loss: 50.8504 - val_accuracy: 0.8000\n",
      "Epoch 178/200\n",
      "1500/1500 [==============================] - 28s 19ms/step - loss: 4.2863e-07 - accuracy: 1.0000 - val_loss: 19.4324 - val_accuracy: 0.8000\n",
      "Epoch 179/200\n",
      "1500/1500 [==============================] - 29s 19ms/step - loss: 0.0174 - accuracy: 0.9993 - val_loss: 16.3558 - val_accuracy: 0.8000\n",
      "Epoch 180/200\n",
      "1500/1500 [==============================] - 28s 19ms/step - loss: 0.0241 - accuracy: 0.9991 - val_loss: 14.3153 - val_accuracy: 0.8000\n",
      "Epoch 181/200\n",
      "1500/1500 [==============================] - 28s 19ms/step - loss: 0.0000e+00 - accuracy: 1.0000 - val_loss: 247.2006 - val_accuracy: 0.8000\n",
      "Epoch 182/200\n",
      "1500/1500 [==============================] - ETA: 0s - loss: 0.0147 - accuracy: 0.99 - 29s 19ms/step - loss: 0.0147 - accuracy: 0.9991 - val_loss: 0.0000e+00 - val_accuracy: 0.8000\n",
      "Epoch 183/200\n",
      "1500/1500 [==============================] - 29s 19ms/step - loss: 0.0105 - accuracy: 0.9996 - val_loss: 0.0000e+00 - val_accuracy: 0.8000\n",
      "Epoch 184/200\n",
      "1500/1500 [==============================] - 28s 19ms/step - loss: 0.0125 - accuracy: 0.9996 - val_loss: 0.0000e+00 - val_accuracy: 0.8000\n",
      "Epoch 185/200\n",
      "1500/1500 [==============================] - 30s 20ms/step - loss: 0.0213 - accuracy: 0.9993 - val_loss: 0.0000e+00 - val_accuracy: 0.8000\n",
      "Epoch 186/200\n",
      "1500/1500 [==============================] - 29s 19ms/step - loss: 7.5920e-05 - accuracy: 1.0000 - val_loss: 0.0000e+00 - val_accuracy: 0.8000\n",
      "Epoch 187/200\n",
      "1500/1500 [==============================] - 29s 19ms/step - loss: 0.0041 - accuracy: 0.9996 - val_loss: 87.5484 - val_accuracy: 0.8000\n",
      "Epoch 188/200\n",
      "1500/1500 [==============================] - 29s 19ms/step - loss: 0.0112 - accuracy: 0.9991 - val_loss: 100.8689 - val_accuracy: 0.8000\n",
      "Epoch 189/200\n",
      "1500/1500 [==============================] - 29s 19ms/step - loss: 0.0064 - accuracy: 0.9996 - val_loss: 0.0000e+00 - val_accuracy: 0.8000\n",
      "Epoch 190/200\n",
      "1500/1500 [==============================] - 29s 19ms/step - loss: 0.0000e+00 - accuracy: 1.0000 - val_loss: 0.0000e+00 - val_accuracy: 0.8000\n",
      "Epoch 191/200\n",
      "1500/1500 [==============================] - 29s 19ms/step - loss: 0.0000e+00 - accuracy: 1.0000 - val_loss: 84.6865 - val_accuracy: 0.8000\n",
      "Epoch 192/200\n",
      "1500/1500 [==============================] - 29s 19ms/step - loss: 0.0000e+00 - accuracy: 1.0000 - val_loss: 0.0000e+00 - val_accuracy: 0.8000\n",
      "Epoch 193/200\n",
      "1500/1500 [==============================] - 29s 19ms/step - loss: 0.0000e+00 - accuracy: 1.0000 - val_loss: 0.0000e+00 - val_accuracy: 0.8000\n",
      "Epoch 194/200\n",
      "1500/1500 [==============================] - 29s 19ms/step - loss: 0.0180 - accuracy: 0.9993 - val_loss: 0.0000e+00 - val_accuracy: 0.8000\n",
      "Epoch 195/200\n",
      "1500/1500 [==============================] - 29s 19ms/step - loss: 0.0014 - accuracy: 0.9998 - val_loss: 0.0000e+00 - val_accuracy: 0.8000\n",
      "Epoch 196/200\n",
      "1500/1500 [==============================] - 29s 19ms/step - loss: 0.0060 - accuracy: 0.9996 - val_loss: 0.0000e+00 - val_accuracy: 0.8000\n",
      "Epoch 197/200\n",
      "1500/1500 [==============================] - 29s 19ms/step - loss: 0.0110 - accuracy: 0.9996 - val_loss: 115.3652 - val_accuracy: 0.8000\n",
      "Epoch 198/200\n",
      "1500/1500 [==============================] - 29s 19ms/step - loss: 2.4856e-07 - accuracy: 1.0000 - val_loss: 117.7129 - val_accuracy: 0.8000\n",
      "Epoch 199/200\n",
      "1500/1500 [==============================] - 29s 19ms/step - loss: 1.5424e-06 - accuracy: 1.0000 - val_loss: 12.2246 - val_accuracy: 0.8000\n",
      "Epoch 200/200\n",
      "1500/1500 [==============================] - 29s 20ms/step - loss: 0.0113 - accuracy: 0.9993 - val_loss: 72.2322 - val_accuracy: 0.8000\n"
     ]
    },
    {
     "data": {
      "text/plain": [
       "<keras.callbacks.callbacks.History at 0x1fa2d135208>"
      ]
     },
     "execution_count": 9,
     "metadata": {},
     "output_type": "execute_result"
    }
   ],
   "source": [
    "model.fit_generator(\n",
    "        train_generator,\n",
    "        steps_per_epoch=15*100,\n",
    "        epochs=200,\n",
    "        validation_data=test_generator,\n",
    "        validation_steps=5)"
   ]
  },
  {
   "cell_type": "markdown",
   "metadata": {
    "colab_type": "text",
    "id": "uT9NEiI-uy52"
   },
   "source": [
    "### 모델 평가하기"
   ]
  },
  {
   "cell_type": "code",
   "execution_count": 10,
   "metadata": {
    "colab": {
     "base_uri": "https://localhost:8080/",
     "height": 53
    },
    "colab_type": "code",
    "id": "XZ8jXxlIu1SE",
    "outputId": "38f36f23-013e-4793-c638-26f0bedb5b6e"
   },
   "outputs": [
    {
     "name": "stdout",
     "output_type": "stream",
     "text": [
      "-- Evaluate --\n",
      "accuracy: 80.00%\n"
     ]
    }
   ],
   "source": [
    "print(\"-- Evaluate --\")\n",
    "scores = model.evaluate_generator(test_generator, steps=5)\n",
    "print(\"%s: %.2f%%\" %(model.metrics_names[1], scores[1]*100))"
   ]
  },
  {
   "cell_type": "markdown",
   "metadata": {
    "colab_type": "text",
    "id": "QTlRD9Mqu9K6"
   },
   "source": [
    "### 모델 사용하기"
   ]
  },
  {
   "cell_type": "code",
   "execution_count": 11,
   "metadata": {
    "colab": {
     "base_uri": "https://localhost:8080/",
     "height": 323
    },
    "colab_type": "code",
    "id": "Wabhqvy-u48Q",
    "outputId": "d6b6ad06-8b60-4998-8ffb-3468141da43c"
   },
   "outputs": [
    {
     "name": "stdout",
     "output_type": "stream",
     "text": [
      "-- Predict --\n",
      "{'circle': 0, 'rectangle': 1, 'triangle': 2}\n",
      "[[0.000 1.000 0.000]\n",
      " [0.000 0.000 1.000]\n",
      " [0.000 1.000 0.000]\n",
      " [0.000 1.000 0.000]\n",
      " [1.000 0.000 0.000]\n",
      " [0.000 0.000 1.000]\n",
      " [0.000 0.000 1.000]\n",
      " [0.000 0.000 1.000]\n",
      " [1.000 0.000 0.000]\n",
      " [1.000 0.000 0.000]\n",
      " [0.000 0.000 1.000]\n",
      " [0.000 0.000 1.000]\n",
      " [0.000 0.000 1.000]\n",
      " [0.233 0.000 0.767]\n",
      " [0.000 1.000 0.000]]\n"
     ]
    }
   ],
   "source": [
    "print(\"-- Predict --\")\n",
    "output = model.predict_generator(test_generator, steps=5)\n",
    "np.set_printoptions(formatter={'float': lambda x: \"{0:0.3f}\".format(x)})\n",
    "print(test_generator.class_indices)\n",
    "print(output)"
   ]
  },
  {
   "cell_type": "code",
   "execution_count": 12,
   "metadata": {
    "colab": {},
    "colab_type": "code",
    "id": "jVItItOmvZOJ"
   },
   "outputs": [
    {
     "name": "stdout",
     "output_type": "stream",
     "text": [
      "circle\\circle021.png 0 1\n",
      "circle\\circle022.png 0 2\n",
      "circle\\circle023.png 0 1\n",
      "circle\\circle024.png 0 1\n",
      "circle\\circle025.png 0 0\n",
      "rectangle\\rectangle021.png 1 2\n",
      "rectangle\\rectangle022.png 1 2\n",
      "rectangle\\rectangle023.png 1 2\n",
      "rectangle\\rectangle024.png 1 0\n",
      "rectangle\\rectangle025.png 1 0\n",
      "triangle\\triangle021.png 2 2\n",
      "triangle\\triangle022.png 2 2\n",
      "triangle\\triangle023.png 2 2\n",
      "triangle\\triangle024.png 2 2\n",
      "triangle\\triangle025.png 2 1\n"
     ]
    }
   ],
   "source": [
    "for i in range(len(test_generator.labels)):\n",
    "    print(test_generator.filenames[i], test_generator.labels[i], np.argmax(output[i]))"
   ]
  },
  {
   "cell_type": "code",
   "execution_count": null,
   "metadata": {},
   "outputs": [],
   "source": []
  }
 ],
 "metadata": {
  "colab": {
   "collapsed_sections": [],
   "name": "PolygonClassfication_03_DataAugmentation.ipynb",
   "provenance": [],
   "version": "0.3.2"
  },
  "kernelspec": {
   "display_name": "Python 3",
   "language": "python",
   "name": "python3"
  },
  "language_info": {
   "codemirror_mode": {
    "name": "ipython",
    "version": 3
   },
   "file_extension": ".py",
   "mimetype": "text/x-python",
   "name": "python",
   "nbconvert_exporter": "python",
   "pygments_lexer": "ipython3",
   "version": "3.7.5"
  }
 },
 "nbformat": 4,
 "nbformat_minor": 1
}
