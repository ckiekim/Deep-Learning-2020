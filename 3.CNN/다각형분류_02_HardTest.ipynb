{
 "cells": [
  {
   "cell_type": "markdown",
   "metadata": {
    "colab_type": "text",
    "id": "3rG34xrNgE7I"
   },
   "source": [
    "# 원, 삼각형, 사각형 구분하기\n",
    "## 2. 어려운 테스트 문제를 기존 CNN 모델로 푸는 경우"
   ]
  },
  {
   "cell_type": "code",
   "execution_count": 1,
   "metadata": {
    "colab": {},
    "colab_type": "code",
    "id": "bwA2Lk7gilA1"
   },
   "outputs": [
    {
     "name": "stderr",
     "output_type": "stream",
     "text": [
      "Using TensorFlow backend.\n"
     ]
    }
   ],
   "source": [
    "import numpy as np\n",
    "import tensorflow as tf\n",
    "from tensorflow import keras\n",
    "from keras.models import Sequential\n",
    "from keras.layers import Dense, Flatten, Conv2D, MaxPooling2D\n",
    "from keras.preprocessing.image import ImageDataGenerator"
   ]
  },
  {
   "cell_type": "code",
   "execution_count": 2,
   "metadata": {},
   "outputs": [],
   "source": [
    "# seed 값 설정\n",
    "seed = 2020\n",
    "np.random.seed(seed)\n",
    "tf.random.set_seed(seed)"
   ]
  },
  {
   "cell_type": "markdown",
   "metadata": {
    "colab_type": "text",
    "id": "SjsMBcR0pnzv"
   },
   "source": [
    "### 데이터셋 생성하기"
   ]
  },
  {
   "cell_type": "code",
   "execution_count": 3,
   "metadata": {
    "colab": {
     "base_uri": "https://localhost:8080/",
     "height": 53
    },
    "colab_type": "code",
    "id": "9Ffv4Qcfkxd0",
    "outputId": "caa7aa1e-8c4b-482d-ce65-d7f48e8e5920"
   },
   "outputs": [
    {
     "name": "stdout",
     "output_type": "stream",
     "text": [
      "Found 45 images belonging to 3 classes.\n",
      "Found 15 images belonging to 3 classes.\n"
     ]
    }
   ],
   "source": [
    "train_datagen = ImageDataGenerator(rescale=1./255)\n",
    "\n",
    "train_generator = train_datagen.flow_from_directory(\n",
    "        'hard_handwriting_shape/train',\n",
    "        target_size=(24, 24),\n",
    "        batch_size=3,\n",
    "        class_mode='categorical')\n",
    "\n",
    "test_datagen = ImageDataGenerator(rescale=1./255)\n",
    "\n",
    "test_generator = test_datagen.flow_from_directory(\n",
    "        'hard_handwriting_shape/test',\n",
    "        target_size=(24, 24),    \n",
    "        batch_size=3,\n",
    "        class_mode='categorical')"
   ]
  },
  {
   "cell_type": "markdown",
   "metadata": {
    "colab_type": "text",
    "id": "K88bSm6wpwsK"
   },
   "source": [
    "### 모델 구성하기"
   ]
  },
  {
   "cell_type": "code",
   "execution_count": 4,
   "metadata": {
    "colab": {
     "base_uri": "https://localhost:8080/",
     "height": 377
    },
    "colab_type": "code",
    "id": "G5TOCJzIpVfR",
    "outputId": "35def669-2606-46e4-efee-98f549cce104"
   },
   "outputs": [
    {
     "name": "stdout",
     "output_type": "stream",
     "text": [
      "Model: \"sequential_1\"\n",
      "_________________________________________________________________\n",
      "Layer (type)                 Output Shape              Param #   \n",
      "=================================================================\n",
      "conv2d_1 (Conv2D)            (None, 22, 22, 32)        896       \n",
      "_________________________________________________________________\n",
      "conv2d_2 (Conv2D)            (None, 20, 20, 64)        18496     \n",
      "_________________________________________________________________\n",
      "max_pooling2d_1 (MaxPooling2 (None, 10, 10, 64)        0         \n",
      "_________________________________________________________________\n",
      "flatten_1 (Flatten)          (None, 6400)              0         \n",
      "_________________________________________________________________\n",
      "dense_1 (Dense)              (None, 128)               819328    \n",
      "_________________________________________________________________\n",
      "dense_2 (Dense)              (None, 3)                 387       \n",
      "=================================================================\n",
      "Total params: 839,107\n",
      "Trainable params: 839,107\n",
      "Non-trainable params: 0\n",
      "_________________________________________________________________\n"
     ]
    }
   ],
   "source": [
    "model = Sequential()\n",
    "model.add(Conv2D(32, kernel_size=(3, 3),\n",
    "                 activation='relu', input_shape=(24,24,3)))\n",
    "model.add(Conv2D(64, (3, 3), activation='relu'))\n",
    "model.add(MaxPooling2D(pool_size=(2, 2)))\n",
    "model.add(Flatten())\n",
    "model.add(Dense(128, activation='relu'))\n",
    "model.add(Dense(3, activation='softmax'))\n",
    "model.summary()"
   ]
  },
  {
   "cell_type": "markdown",
   "metadata": {
    "colab_type": "text",
    "id": "wrjhuhJ2tEeA"
   },
   "source": [
    "### 모델 학습과정 설정하기"
   ]
  },
  {
   "cell_type": "code",
   "execution_count": 5,
   "metadata": {
    "colab": {},
    "colab_type": "code",
    "id": "hBUFfHV6sSRW"
   },
   "outputs": [],
   "source": [
    "model.compile(loss='categorical_crossentropy', \n",
    "              optimizer='adam', metrics=['accuracy'])"
   ]
  },
  {
   "cell_type": "markdown",
   "metadata": {
    "colab_type": "text",
    "id": "sZ_WQ05itPr9"
   },
   "source": [
    "## 모델 학습시키기\n",
    "- 첫번째 인자 : 훈련데이터셋을 제공할 제네레이터를 지정. 본 예제에서는 앞서 생성한 train_generator으로 지정.\n",
    "- steps_per_epoch : 한 epoch에 사용한 스텝 수를 지정. 총 45개의 훈련 샘플이 있고 배치사이즈가 3이므로 15 스텝으로 지정.\n",
    "- epochs : 전체 훈련 데이터셋에 대해 학습 반복 횟수를 지정. 200번을 반복적으로 학습.\n",
    "- validation_data : 검증데이터셋을 제공할 제네레이터를 지정. 본 예제에서는 앞서 생성한 validation_generator으로 지정.\n",
    "- validation_steps : 한 epoch 종료 시 마다 검증할 때 사용되는 검증 스텝 수를 지정. 홍 15개의 검증 샘플이 있고 배치사이즈가 3이므로 5 스텝으로 지정."
   ]
  },
  {
   "cell_type": "code",
   "execution_count": 6,
   "metadata": {
    "colab": {
     "base_uri": "https://localhost:8080/",
     "height": 1000
    },
    "colab_type": "code",
    "id": "oMzc0kFdtLMY",
    "outputId": "93273fea-58c8-474a-8308-9a3fdeae55d4"
   },
   "outputs": [
    {
     "name": "stdout",
     "output_type": "stream",
     "text": [
      "Epoch 1/200\n",
      "15/15 [==============================] - 2s 117ms/step - loss: 1.1252 - accuracy: 0.6222 - val_loss: 1.0235 - val_accuracy: 0.4000\n",
      "Epoch 2/200\n",
      "15/15 [==============================] - 0s 12ms/step - loss: 0.3152 - accuracy: 0.8889 - val_loss: 1.6966 - val_accuracy: 0.4000\n",
      "Epoch 3/200\n",
      "15/15 [==============================] - 0s 16ms/step - loss: 0.0240 - accuracy: 1.0000 - val_loss: 2.0053 - val_accuracy: 0.3333\n",
      "Epoch 4/200\n",
      "15/15 [==============================] - 0s 16ms/step - loss: 0.0037 - accuracy: 1.0000 - val_loss: 4.9111 - val_accuracy: 0.3333\n",
      "Epoch 5/200\n",
      "15/15 [==============================] - 0s 20ms/step - loss: 8.3262e-04 - accuracy: 1.0000 - val_loss: 6.8986 - val_accuracy: 0.3333\n",
      "Epoch 6/200\n",
      "15/15 [==============================] - 0s 20ms/step - loss: 5.1865e-04 - accuracy: 1.0000 - val_loss: 4.3391 - val_accuracy: 0.3333\n",
      "Epoch 7/200\n",
      "15/15 [==============================] - 0s 20ms/step - loss: 3.1113e-04 - accuracy: 1.0000 - val_loss: 6.9472 - val_accuracy: 0.3333\n",
      "Epoch 8/200\n",
      "15/15 [==============================] - 0s 20ms/step - loss: 2.5617e-04 - accuracy: 1.0000 - val_loss: 4.8594 - val_accuracy: 0.3333\n",
      "Epoch 9/200\n",
      "15/15 [==============================] - 0s 20ms/step - loss: 2.0416e-04 - accuracy: 1.0000 - val_loss: 2.5358 - val_accuracy: 0.3333\n",
      "Epoch 10/200\n",
      "15/15 [==============================] - 0s 20ms/step - loss: 1.6582e-04 - accuracy: 1.0000 - val_loss: 2.9448 - val_accuracy: 0.3333\n",
      "Epoch 11/200\n",
      "15/15 [==============================] - 0s 20ms/step - loss: 1.3740e-04 - accuracy: 1.0000 - val_loss: 1.2250 - val_accuracy: 0.3333\n",
      "Epoch 12/200\n",
      "15/15 [==============================] - 0s 20ms/step - loss: 1.1129e-04 - accuracy: 1.0000 - val_loss: 5.9538 - val_accuracy: 0.3333\n",
      "Epoch 13/200\n",
      "15/15 [==============================] - 0s 20ms/step - loss: 9.7863e-05 - accuracy: 1.0000 - val_loss: 7.6898 - val_accuracy: 0.3333\n",
      "Epoch 14/200\n",
      "15/15 [==============================] - 0s 20ms/step - loss: 7.4214e-05 - accuracy: 1.0000 - val_loss: 1.7635 - val_accuracy: 0.3333\n",
      "Epoch 15/200\n",
      "15/15 [==============================] - 0s 20ms/step - loss: 5.8459e-05 - accuracy: 1.0000 - val_loss: 5.6411 - val_accuracy: 0.3333\n",
      "Epoch 16/200\n",
      "15/15 [==============================] - 0s 20ms/step - loss: 4.8832e-05 - accuracy: 1.0000 - val_loss: 3.4480 - val_accuracy: 0.3333\n",
      "Epoch 17/200\n",
      "15/15 [==============================] - 0s 20ms/step - loss: 4.1325e-05 - accuracy: 1.0000 - val_loss: 1.8188 - val_accuracy: 0.3333\n",
      "Epoch 18/200\n",
      "15/15 [==============================] - 0s 19ms/step - loss: 3.3978e-05 - accuracy: 1.0000 - val_loss: 4.2710 - val_accuracy: 0.3333\n",
      "Epoch 19/200\n",
      "15/15 [==============================] - 0s 19ms/step - loss: 2.9639e-05 - accuracy: 1.0000 - val_loss: 4.0806 - val_accuracy: 0.3333\n",
      "Epoch 20/200\n",
      "15/15 [==============================] - 0s 19ms/step - loss: 2.5277e-05 - accuracy: 1.0000 - val_loss: 3.4752 - val_accuracy: 0.3333\n",
      "Epoch 21/200\n",
      "15/15 [==============================] - 0s 19ms/step - loss: 2.1499e-05 - accuracy: 1.0000 - val_loss: 2.2427 - val_accuracy: 0.3333\n",
      "Epoch 22/200\n",
      "15/15 [==============================] - 0s 19ms/step - loss: 1.8792e-05 - accuracy: 1.0000 - val_loss: 5.9949 - val_accuracy: 0.3333\n",
      "Epoch 23/200\n",
      "15/15 [==============================] - 0s 19ms/step - loss: 1.6914e-05 - accuracy: 1.0000 - val_loss: 5.1817 - val_accuracy: 0.3333\n",
      "Epoch 24/200\n",
      "15/15 [==============================] - 0s 19ms/step - loss: 1.4564e-05 - accuracy: 1.0000 - val_loss: 3.8237 - val_accuracy: 0.3333\n",
      "Epoch 25/200\n",
      "15/15 [==============================] - 0s 19ms/step - loss: 1.3118e-05 - accuracy: 1.0000 - val_loss: 5.7997 - val_accuracy: 0.3333\n",
      "Epoch 26/200\n",
      "15/15 [==============================] - 0s 19ms/step - loss: 1.1794e-05 - accuracy: 1.0000 - val_loss: 4.8616 - val_accuracy: 0.3333\n",
      "Epoch 27/200\n",
      "15/15 [==============================] - 0s 19ms/step - loss: 1.0652e-05 - accuracy: 1.0000 - val_loss: 5.4594 - val_accuracy: 0.3333\n",
      "Epoch 28/200\n",
      "15/15 [==============================] - 0s 19ms/step - loss: 9.6479e-06 - accuracy: 1.0000 - val_loss: 5.9545 - val_accuracy: 0.3333\n",
      "Epoch 29/200\n",
      "15/15 [==============================] - 0s 19ms/step - loss: 8.6757e-06 - accuracy: 1.0000 - val_loss: 4.0491 - val_accuracy: 0.3333\n",
      "Epoch 30/200\n",
      "15/15 [==============================] - 0s 19ms/step - loss: 7.8942e-06 - accuracy: 1.0000 - val_loss: 5.6809 - val_accuracy: 0.3333\n",
      "Epoch 31/200\n",
      "15/15 [==============================] - 0s 19ms/step - loss: 7.4041e-06 - accuracy: 1.0000 - val_loss: 7.4570 - val_accuracy: 0.3333\n",
      "Epoch 32/200\n",
      "15/15 [==============================] - 0s 19ms/step - loss: 6.6200e-06 - accuracy: 1.0000 - val_loss: 2.6548 - val_accuracy: 0.3333\n",
      "Epoch 33/200\n",
      "15/15 [==============================] - 0s 19ms/step - loss: 6.1088e-06 - accuracy: 1.0000 - val_loss: 6.6425 - val_accuracy: 0.3333\n",
      "Epoch 34/200\n",
      "15/15 [==============================] - 0s 19ms/step - loss: 5.6955e-06 - accuracy: 1.0000 - val_loss: 8.7994 - val_accuracy: 0.3333\n",
      "Epoch 35/200\n",
      "15/15 [==============================] - 0s 20ms/step - loss: 5.2584e-06 - accuracy: 1.0000 - val_loss: 4.7411 - val_accuracy: 0.3333\n",
      "Epoch 36/200\n",
      "15/15 [==============================] - 0s 20ms/step - loss: 4.9008e-06 - accuracy: 1.0000 - val_loss: 3.8364 - val_accuracy: 0.3333\n",
      "Epoch 37/200\n",
      "15/15 [==============================] - 0s 20ms/step - loss: 4.5273e-06 - accuracy: 1.0000 - val_loss: 8.2607 - val_accuracy: 0.3333\n",
      "Epoch 38/200\n",
      "15/15 [==============================] - 0s 20ms/step - loss: 4.2332e-06 - accuracy: 1.0000 - val_loss: 4.1073 - val_accuracy: 0.3333\n",
      "Epoch 39/200\n",
      "15/15 [==============================] - 0s 19ms/step - loss: 4.0478e-06 - accuracy: 1.0000 - val_loss: 1.4305 - val_accuracy: 0.3333\n",
      "Epoch 40/200\n",
      "15/15 [==============================] - 0s 20ms/step - loss: 3.7193e-06 - accuracy: 1.0000 - val_loss: 4.4618 - val_accuracy: 0.3333\n",
      "Epoch 41/200\n",
      "15/15 [==============================] - 0s 20ms/step - loss: 3.4676e-06 - accuracy: 1.0000 - val_loss: 3.0885 - val_accuracy: 0.3333\n",
      "Epoch 42/200\n",
      "15/15 [==============================] - 0s 20ms/step - loss: 3.2955e-06 - accuracy: 1.0000 - val_loss: 6.8214 - val_accuracy: 0.3333\n",
      "Epoch 43/200\n",
      "15/15 [==============================] - 0s 20ms/step - loss: 3.0941e-06 - accuracy: 1.0000 - val_loss: 3.7482 - val_accuracy: 0.3333\n",
      "Epoch 44/200\n",
      "15/15 [==============================] - 0s 20ms/step - loss: 2.9034e-06 - accuracy: 1.0000 - val_loss: 3.5430 - val_accuracy: 0.3333\n",
      "Epoch 45/200\n",
      "15/15 [==============================] - 0s 20ms/step - loss: 2.7418e-06 - accuracy: 1.0000 - val_loss: 8.8894 - val_accuracy: 0.3333\n",
      "Epoch 46/200\n",
      "15/15 [==============================] - 0s 20ms/step - loss: 2.6517e-06 - accuracy: 1.0000 - val_loss: 6.3472 - val_accuracy: 0.3333\n",
      "Epoch 47/200\n",
      "15/15 [==============================] - 0s 20ms/step - loss: 2.4531e-06 - accuracy: 1.0000 - val_loss: 2.9638 - val_accuracy: 0.3333\n",
      "Epoch 48/200\n",
      "15/15 [==============================] - 0s 21ms/step - loss: 2.3418e-06 - accuracy: 1.0000 - val_loss: 5.1509 - val_accuracy: 0.3333\n",
      "Epoch 49/200\n",
      "15/15 [==============================] - 0s 20ms/step - loss: 2.2199e-06 - accuracy: 1.0000 - val_loss: 3.3888 - val_accuracy: 0.3333\n",
      "Epoch 50/200\n",
      "15/15 [==============================] - 0s 20ms/step - loss: 2.1246e-06 - accuracy: 1.0000 - val_loss: 1.5012 - val_accuracy: 0.3333\n",
      "Epoch 51/200\n",
      "15/15 [==============================] - 0s 20ms/step - loss: 2.0027e-06 - accuracy: 1.0000 - val_loss: 4.2131 - val_accuracy: 0.3333\n",
      "Epoch 52/200\n",
      "15/15 [==============================] - 0s 20ms/step - loss: 1.9100e-06 - accuracy: 1.0000 - val_loss: 4.6674 - val_accuracy: 0.3333\n",
      "Epoch 53/200\n",
      "15/15 [==============================] - 0s 20ms/step - loss: 1.8199e-06 - accuracy: 1.0000 - val_loss: 6.8374 - val_accuracy: 0.3333\n",
      "Epoch 54/200\n",
      "15/15 [==============================] - 0s 20ms/step - loss: 1.7457e-06 - accuracy: 1.0000 - val_loss: 6.5056 - val_accuracy: 0.3333\n",
      "Epoch 55/200\n",
      "15/15 [==============================] - 0s 20ms/step - loss: 1.6477e-06 - accuracy: 1.0000 - val_loss: 6.8852 - val_accuracy: 0.3333\n",
      "Epoch 56/200\n",
      "15/15 [==============================] - 0s 20ms/step - loss: 1.5656e-06 - accuracy: 1.0000 - val_loss: 9.7482 - val_accuracy: 0.3333\n"
     ]
    },
    {
     "name": "stdout",
     "output_type": "stream",
     "text": [
      "Epoch 57/200\n",
      "15/15 [==============================] - 0s 20ms/step - loss: 1.4861e-06 - accuracy: 1.0000 - val_loss: 5.4410 - val_accuracy: 0.3333\n",
      "Epoch 58/200\n",
      "15/15 [==============================] - 0s 20ms/step - loss: 1.3934e-06 - accuracy: 1.0000 - val_loss: 5.4503 - val_accuracy: 0.3333\n",
      "Epoch 59/200\n",
      "15/15 [==============================] - 0s 19ms/step - loss: 1.3113e-06 - accuracy: 1.0000 - val_loss: 1.5749 - val_accuracy: 0.3333\n",
      "Epoch 60/200\n",
      "15/15 [==============================] - 0s 19ms/step - loss: 1.2663e-06 - accuracy: 1.0000 - val_loss: 7.7089 - val_accuracy: 0.3333\n",
      "Epoch 61/200\n",
      "15/15 [==============================] - 0s 19ms/step - loss: 1.1921e-06 - accuracy: 1.0000 - val_loss: 3.7811 - val_accuracy: 0.3333\n",
      "Epoch 62/200\n",
      "15/15 [==============================] - 0s 19ms/step - loss: 1.1471e-06 - accuracy: 1.0000 - val_loss: 4.9046 - val_accuracy: 0.3333\n",
      "Epoch 63/200\n",
      "15/15 [==============================] - 0s 20ms/step - loss: 1.0914e-06 - accuracy: 1.0000 - val_loss: 3.9126 - val_accuracy: 0.3333\n",
      "Epoch 64/200\n",
      "15/15 [==============================] - 0s 20ms/step - loss: 1.0596e-06 - accuracy: 1.0000 - val_loss: 7.7096 - val_accuracy: 0.3333\n",
      "Epoch 65/200\n",
      "15/15 [==============================] - 0s 20ms/step - loss: 1.0173e-06 - accuracy: 1.0000 - val_loss: 1.5992 - val_accuracy: 0.3333\n",
      "Epoch 66/200\n",
      "15/15 [==============================] - 0s 20ms/step - loss: 9.7222e-07 - accuracy: 1.0000 - val_loss: 5.1625 - val_accuracy: 0.3333\n",
      "Epoch 67/200\n",
      "15/15 [==============================] - 0s 19ms/step - loss: 9.3513e-07 - accuracy: 1.0000 - val_loss: 2.0818 - val_accuracy: 0.3333\n",
      "Epoch 68/200\n",
      "15/15 [==============================] - 0s 20ms/step - loss: 9.1394e-07 - accuracy: 1.0000 - val_loss: 2.6430 - val_accuracy: 0.3333\n",
      "Epoch 69/200\n",
      "15/15 [==============================] - 0s 20ms/step - loss: 8.7685e-07 - accuracy: 1.0000 - val_loss: 2.8487 - val_accuracy: 0.3333\n",
      "Epoch 70/200\n",
      "15/15 [==============================] - 0s 20ms/step - loss: 8.4771e-07 - accuracy: 1.0000 - val_loss: 2.7887 - val_accuracy: 0.3333\n",
      "Epoch 71/200\n",
      "15/15 [==============================] - 0s 20ms/step - loss: 8.1857e-07 - accuracy: 1.0000 - val_loss: 4.4773 - val_accuracy: 0.3333\n",
      "Epoch 72/200\n",
      "15/15 [==============================] - 0s 21ms/step - loss: 8.0003e-07 - accuracy: 1.0000 - val_loss: 3.7152 - val_accuracy: 0.3333\n",
      "Epoch 73/200\n",
      "15/15 [==============================] - 0s 20ms/step - loss: 7.7353e-07 - accuracy: 1.0000 - val_loss: 9.6122 - val_accuracy: 0.3333\n",
      "Epoch 74/200\n",
      "15/15 [==============================] - 0s 20ms/step - loss: 7.4175e-07 - accuracy: 1.0000 - val_loss: 2.0792 - val_accuracy: 0.3333\n",
      "Epoch 75/200\n",
      "15/15 [==============================] - 0s 20ms/step - loss: 7.2585e-07 - accuracy: 1.0000 - val_loss: 6.4603 - val_accuracy: 0.3333\n",
      "Epoch 76/200\n",
      "15/15 [==============================] - 0s 20ms/step - loss: 7.1261e-07 - accuracy: 1.0000 - val_loss: 6.1440 - val_accuracy: 0.3333\n",
      "Epoch 77/200\n",
      "15/15 [==============================] - 0s 20ms/step - loss: 6.8347e-07 - accuracy: 1.0000 - val_loss: 3.1289 - val_accuracy: 0.3333\n",
      "Epoch 78/200\n",
      "15/15 [==============================] - 0s 21ms/step - loss: 6.6757e-07 - accuracy: 1.0000 - val_loss: 3.8693 - val_accuracy: 0.3333\n",
      "Epoch 79/200\n",
      "15/15 [==============================] - 0s 20ms/step - loss: 6.4638e-07 - accuracy: 1.0000 - val_loss: 6.6665 - val_accuracy: 0.3333\n",
      "Epoch 80/200\n",
      "15/15 [==============================] - 0s 20ms/step - loss: 6.3313e-07 - accuracy: 1.0000 - val_loss: 2.8323 - val_accuracy: 0.3333\n",
      "Epoch 81/200\n",
      "15/15 [==============================] - 0s 20ms/step - loss: 6.1724e-07 - accuracy: 1.0000 - val_loss: 7.3943 - val_accuracy: 0.3333\n",
      "Epoch 82/200\n",
      "15/15 [==============================] - 0s 20ms/step - loss: 5.9605e-07 - accuracy: 1.0000 - val_loss: 2.1455 - val_accuracy: 0.3333\n",
      "Epoch 83/200\n",
      "15/15 [==============================] - 0s 20ms/step - loss: 5.7220e-07 - accuracy: 1.0000 - val_loss: 0.0328 - val_accuracy: 0.3333\n",
      "Epoch 84/200\n",
      "15/15 [==============================] - 0s 20ms/step - loss: 5.6161e-07 - accuracy: 1.0000 - val_loss: 8.0588 - val_accuracy: 0.3333\n",
      "Epoch 85/200\n",
      "15/15 [==============================] - 0s 20ms/step - loss: 5.4836e-07 - accuracy: 1.0000 - val_loss: 6.2462 - val_accuracy: 0.3333\n",
      "Epoch 86/200\n",
      "15/15 [==============================] - 0s 20ms/step - loss: 5.4041e-07 - accuracy: 1.0000 - val_loss: 3.9733 - val_accuracy: 0.3333\n",
      "Epoch 87/200\n",
      "15/15 [==============================] - 0s 20ms/step - loss: 5.1657e-07 - accuracy: 1.0000 - val_loss: 6.1007 - val_accuracy: 0.3333\n",
      "Epoch 88/200\n",
      "15/15 [==============================] - 0s 20ms/step - loss: 5.0598e-07 - accuracy: 1.0000 - val_loss: 3.9845 - val_accuracy: 0.3333\n",
      "Epoch 89/200\n",
      "15/15 [==============================] - 0s 20ms/step - loss: 4.9273e-07 - accuracy: 1.0000 - val_loss: 6.5914 - val_accuracy: 0.3333\n",
      "Epoch 90/200\n",
      "15/15 [==============================] - 0s 20ms/step - loss: 4.8478e-07 - accuracy: 1.0000 - val_loss: 7.2044 - val_accuracy: 0.3333\n",
      "Epoch 91/200\n",
      "15/15 [==============================] - 0s 20ms/step - loss: 4.7154e-07 - accuracy: 1.0000 - val_loss: 2.7646 - val_accuracy: 0.3333\n",
      "Epoch 92/200\n",
      "15/15 [==============================] - 0s 20ms/step - loss: 4.6359e-07 - accuracy: 1.0000 - val_loss: 7.5001 - val_accuracy: 0.3333\n",
      "Epoch 93/200\n",
      "15/15 [==============================] - 0s 20ms/step - loss: 4.5035e-07 - accuracy: 1.0000 - val_loss: 2.4507 - val_accuracy: 0.3333\n",
      "Epoch 94/200\n",
      "15/15 [==============================] - 0s 21ms/step - loss: 4.4240e-07 - accuracy: 1.0000 - val_loss: 3.3644 - val_accuracy: 0.3333\n",
      "Epoch 95/200\n",
      "15/15 [==============================] - 0s 20ms/step - loss: 4.2385e-07 - accuracy: 1.0000 - val_loss: 6.1158 - val_accuracy: 0.3333\n",
      "Epoch 96/200\n",
      "15/15 [==============================] - 0s 20ms/step - loss: 4.2121e-07 - accuracy: 1.0000 - val_loss: 11.3331 - val_accuracy: 0.3333\n",
      "Epoch 97/200\n",
      "15/15 [==============================] - 0s 20ms/step - loss: 4.1061e-07 - accuracy: 1.0000 - val_loss: 3.8855 - val_accuracy: 0.3333\n",
      "Epoch 98/200\n",
      "15/15 [==============================] - 0s 20ms/step - loss: 3.9736e-07 - accuracy: 1.0000 - val_loss: 6.4640 - val_accuracy: 0.3333\n",
      "Epoch 99/200\n",
      "15/15 [==============================] - 0s 20ms/step - loss: 3.9471e-07 - accuracy: 1.0000 - val_loss: 4.3564 - val_accuracy: 0.3333\n",
      "Epoch 100/200\n",
      "15/15 [==============================] - 0s 20ms/step - loss: 3.7882e-07 - accuracy: 1.0000 - val_loss: 4.6155 - val_accuracy: 0.3333\n",
      "Epoch 101/200\n",
      "15/15 [==============================] - 0s 20ms/step - loss: 3.6557e-07 - accuracy: 1.0000 - val_loss: 4.0804 - val_accuracy: 0.3333\n",
      "Epoch 102/200\n",
      "15/15 [==============================] - 0s 19ms/step - loss: 3.6557e-07 - accuracy: 1.0000 - val_loss: 5.7574 - val_accuracy: 0.3333\n",
      "Epoch 103/200\n",
      "15/15 [==============================] - 0s 20ms/step - loss: 3.5233e-07 - accuracy: 1.0000 - val_loss: 5.6134 - val_accuracy: 0.3333\n",
      "Epoch 104/200\n",
      "15/15 [==============================] - 0s 20ms/step - loss: 3.4438e-07 - accuracy: 1.0000 - val_loss: 6.3035 - val_accuracy: 0.3333\n",
      "Epoch 105/200\n",
      "15/15 [==============================] - 0s 20ms/step - loss: 3.4173e-07 - accuracy: 1.0000 - val_loss: 2.9551 - val_accuracy: 0.3333\n",
      "Epoch 106/200\n",
      "15/15 [==============================] - 0s 20ms/step - loss: 3.3379e-07 - accuracy: 1.0000 - val_loss: 9.7487 - val_accuracy: 0.3333\n",
      "Epoch 107/200\n",
      "15/15 [==============================] - 0s 20ms/step - loss: 3.2849e-07 - accuracy: 1.0000 - val_loss: 4.5426 - val_accuracy: 0.3333\n",
      "Epoch 108/200\n",
      "15/15 [==============================] - 0s 20ms/step - loss: 3.1524e-07 - accuracy: 1.0000 - val_loss: 7.3940 - val_accuracy: 0.3333\n",
      "Epoch 109/200\n",
      "15/15 [==============================] - 0s 20ms/step - loss: 3.1524e-07 - accuracy: 1.0000 - val_loss: 3.5980 - val_accuracy: 0.3333\n",
      "Epoch 110/200\n",
      "15/15 [==============================] - 0s 20ms/step - loss: 3.0729e-07 - accuracy: 1.0000 - val_loss: 6.7124 - val_accuracy: 0.3333\n",
      "Epoch 111/200\n",
      "15/15 [==============================] - 0s 20ms/step - loss: 2.9935e-07 - accuracy: 1.0000 - val_loss: 3.6070 - val_accuracy: 0.3333\n",
      "Epoch 112/200\n",
      "15/15 [==============================] - 0s 20ms/step - loss: 2.9140e-07 - accuracy: 1.0000 - val_loss: 6.3936 - val_accuracy: 0.3333\n",
      "Epoch 113/200\n",
      "15/15 [==============================] - 0s 20ms/step - loss: 2.8875e-07 - accuracy: 1.0000 - val_loss: 8.6721 - val_accuracy: 0.3333\n",
      "Epoch 114/200\n",
      "15/15 [==============================] - 0s 20ms/step - loss: 2.8610e-07 - accuracy: 1.0000 - val_loss: 2.9780 - val_accuracy: 0.3333\n",
      "Epoch 115/200\n",
      "15/15 [==============================] - 0s 21ms/step - loss: 2.8345e-07 - accuracy: 1.0000 - val_loss: 4.1189 - val_accuracy: 0.3333\n",
      "Epoch 116/200\n",
      "15/15 [==============================] - 0s 20ms/step - loss: 2.7551e-07 - accuracy: 1.0000 - val_loss: 5.7715 - val_accuracy: 0.3333\n",
      "Epoch 117/200\n",
      "15/15 [==============================] - 0s 20ms/step - loss: 2.6756e-07 - accuracy: 1.0000 - val_loss: 6.7778 - val_accuracy: 0.3333\n",
      "Epoch 118/200\n",
      "15/15 [==============================] - 0s 20ms/step - loss: 2.6226e-07 - accuracy: 1.0000 - val_loss: 6.4396 - val_accuracy: 0.3333\n",
      "Epoch 119/200\n",
      "15/15 [==============================] - 0s 20ms/step - loss: 2.5696e-07 - accuracy: 1.0000 - val_loss: 6.4866 - val_accuracy: 0.3333\n",
      "Epoch 120/200\n",
      "15/15 [==============================] - 0s 20ms/step - loss: 2.5166e-07 - accuracy: 1.0000 - val_loss: 6.5369 - val_accuracy: 0.3333\n",
      "Epoch 121/200\n",
      "15/15 [==============================] - 0s 20ms/step - loss: 2.4901e-07 - accuracy: 1.0000 - val_loss: 10.3918 - val_accuracy: 0.3333\n",
      "Epoch 122/200\n",
      "15/15 [==============================] - 0s 20ms/step - loss: 2.4107e-07 - accuracy: 1.0000 - val_loss: 3.6429 - val_accuracy: 0.3333\n",
      "Epoch 123/200\n",
      "15/15 [==============================] - 0s 19ms/step - loss: 2.3577e-07 - accuracy: 1.0000 - val_loss: 8.8382 - val_accuracy: 0.3333\n",
      "Epoch 124/200\n",
      "15/15 [==============================] - 0s 20ms/step - loss: 2.3577e-07 - accuracy: 1.0000 - val_loss: 5.4055 - val_accuracy: 0.3333\n",
      "Epoch 125/200\n",
      "15/15 [==============================] - 0s 20ms/step - loss: 2.3047e-07 - accuracy: 1.0000 - val_loss: 1.7900 - val_accuracy: 0.3333\n",
      "Epoch 126/200\n",
      "15/15 [==============================] - 0s 20ms/step - loss: 2.2517e-07 - accuracy: 1.0000 - val_loss: 2.9789 - val_accuracy: 0.3333\n",
      "Epoch 127/200\n",
      "15/15 [==============================] - 0s 20ms/step - loss: 2.2252e-07 - accuracy: 1.0000 - val_loss: 3.9786 - val_accuracy: 0.3333\n",
      "Epoch 128/200\n",
      "15/15 [==============================] - 0s 20ms/step - loss: 2.1987e-07 - accuracy: 1.0000 - val_loss: 9.0172 - val_accuracy: 0.3333\n",
      "Epoch 129/200\n",
      "15/15 [==============================] - 0s 20ms/step - loss: 2.1458e-07 - accuracy: 1.0000 - val_loss: 2.5159 - val_accuracy: 0.3333\n",
      "Epoch 130/200\n",
      "15/15 [==============================] - 0s 20ms/step - loss: 2.0928e-07 - accuracy: 1.0000 - val_loss: 11.3050 - val_accuracy: 0.3333\n",
      "Epoch 131/200\n",
      "15/15 [==============================] - 0s 20ms/step - loss: 2.0928e-07 - accuracy: 1.0000 - val_loss: 4.0295 - val_accuracy: 0.3333\n",
      "Epoch 132/200\n",
      "15/15 [==============================] - 0s 20ms/step - loss: 2.0398e-07 - accuracy: 1.0000 - val_loss: 3.0214 - val_accuracy: 0.3333\n",
      "Epoch 133/200\n",
      "15/15 [==============================] - 0s 20ms/step - loss: 2.0133e-07 - accuracy: 1.0000 - val_loss: 6.9825 - val_accuracy: 0.3333\n",
      "Epoch 134/200\n",
      "15/15 [==============================] - 0s 20ms/step - loss: 1.9868e-07 - accuracy: 1.0000 - val_loss: 7.6879 - val_accuracy: 0.3333\n",
      "Epoch 135/200\n",
      "15/15 [==============================] - 0s 20ms/step - loss: 1.9338e-07 - accuracy: 1.0000 - val_loss: 7.1351 - val_accuracy: 0.3333\n",
      "Epoch 136/200\n",
      "15/15 [==============================] - 0s 20ms/step - loss: 1.9073e-07 - accuracy: 1.0000 - val_loss: 3.0293 - val_accuracy: 0.3333\n",
      "Epoch 137/200\n",
      "15/15 [==============================] - 0s 20ms/step - loss: 1.8544e-07 - accuracy: 1.0000 - val_loss: 4.6654 - val_accuracy: 0.3333\n",
      "Epoch 138/200\n",
      "15/15 [==============================] - 0s 20ms/step - loss: 1.8014e-07 - accuracy: 1.0000 - val_loss: 7.1621 - val_accuracy: 0.3333\n",
      "Epoch 139/200\n",
      "15/15 [==============================] - 0s 20ms/step - loss: 1.7484e-07 - accuracy: 1.0000 - val_loss: 8.1138 - val_accuracy: 0.3333\n",
      "Epoch 140/200\n",
      "15/15 [==============================] - 0s 20ms/step - loss: 1.7484e-07 - accuracy: 1.0000 - val_loss: 6.5759 - val_accuracy: 0.3333\n",
      "Epoch 141/200\n",
      "15/15 [==============================] - 0s 20ms/step - loss: 1.7219e-07 - accuracy: 1.0000 - val_loss: 4.9119 - val_accuracy: 0.3333\n",
      "Epoch 142/200\n",
      "15/15 [==============================] - 0s 19ms/step - loss: 1.7219e-07 - accuracy: 1.0000 - val_loss: 6.1149 - val_accuracy: 0.3333\n",
      "Epoch 143/200\n",
      "15/15 [==============================] - 0s 11ms/step - loss: 1.6954e-07 - accuracy: 1.0000 - val_loss: 7.8912 - val_accuracy: 0.3333\n",
      "Epoch 144/200\n",
      "15/15 [==============================] - 0s 11ms/step - loss: 1.6689e-07 - accuracy: 1.0000 - val_loss: 0.0268 - val_accuracy: 0.3333\n",
      "Epoch 145/200\n",
      "15/15 [==============================] - 0s 10ms/step - loss: 1.6689e-07 - accuracy: 1.0000 - val_loss: 5.8068 - val_accuracy: 0.3333\n",
      "Epoch 146/200\n",
      "15/15 [==============================] - 0s 10ms/step - loss: 1.5895e-07 - accuracy: 1.0000 - val_loss: 6.7095 - val_accuracy: 0.3333\n",
      "Epoch 147/200\n",
      "15/15 [==============================] - 0s 10ms/step - loss: 1.5630e-07 - accuracy: 1.0000 - val_loss: 7.0341 - val_accuracy: 0.3333\n",
      "Epoch 148/200\n",
      "15/15 [==============================] - 0s 10ms/step - loss: 1.5365e-07 - accuracy: 1.0000 - val_loss: 9.5618 - val_accuracy: 0.3333\n",
      "Epoch 149/200\n",
      "15/15 [==============================] - 0s 10ms/step - loss: 1.4835e-07 - accuracy: 1.0000 - val_loss: 4.2121 - val_accuracy: 0.3333\n",
      "Epoch 150/200\n",
      "15/15 [==============================] - 0s 10ms/step - loss: 1.4305e-07 - accuracy: 1.0000 - val_loss: 6.5864 - val_accuracy: 0.3333\n",
      "Epoch 151/200\n",
      "15/15 [==============================] - 0s 10ms/step - loss: 1.4305e-07 - accuracy: 1.0000 - val_loss: 4.0070 - val_accuracy: 0.3333\n",
      "Epoch 152/200\n",
      "15/15 [==============================] - 0s 10ms/step - loss: 1.4040e-07 - accuracy: 1.0000 - val_loss: 6.4724 - val_accuracy: 0.3333\n",
      "Epoch 153/200\n",
      "15/15 [==============================] - ETA: 0s - loss: 1.3340e-07 - accuracy: 1.00 - 0s 10ms/step - loss: 1.3775e-07 - accuracy: 1.0000 - val_loss: 6.5581 - val_accuracy: 0.3333\n",
      "Epoch 154/200\n",
      "15/15 [==============================] - 0s 11ms/step - loss: 1.3775e-07 - accuracy: 1.0000 - val_loss: 3.4148 - val_accuracy: 0.3333\n",
      "Epoch 155/200\n",
      "15/15 [==============================] - 0s 11ms/step - loss: 1.3775e-07 - accuracy: 1.0000 - val_loss: 8.9003 - val_accuracy: 0.3333\n",
      "Epoch 156/200\n",
      "15/15 [==============================] - 0s 12ms/step - loss: 1.3510e-07 - accuracy: 1.0000 - val_loss: 1.8446 - val_accuracy: 0.3333\n",
      "Epoch 157/200\n",
      "15/15 [==============================] - 0s 11ms/step - loss: 1.3510e-07 - accuracy: 1.0000 - val_loss: 5.9881 - val_accuracy: 0.3333\n",
      "Epoch 158/200\n",
      "15/15 [==============================] - 0s 11ms/step - loss: 1.2981e-07 - accuracy: 1.0000 - val_loss: 8.0580 - val_accuracy: 0.3333\n",
      "Epoch 159/200\n",
      "15/15 [==============================] - 0s 11ms/step - loss: 1.2716e-07 - accuracy: 1.0000 - val_loss: 9.1347 - val_accuracy: 0.3333\n",
      "Epoch 160/200\n",
      "15/15 [==============================] - 0s 11ms/step - loss: 1.2451e-07 - accuracy: 1.0000 - val_loss: 3.5753 - val_accuracy: 0.3333\n",
      "Epoch 161/200\n",
      "15/15 [==============================] - 0s 11ms/step - loss: 1.1921e-07 - accuracy: 1.0000 - val_loss: 6.1802 - val_accuracy: 0.3333\n",
      "Epoch 162/200\n",
      "15/15 [==============================] - 0s 11ms/step - loss: 1.1391e-07 - accuracy: 1.0000 - val_loss: 3.5804 - val_accuracy: 0.3333\n",
      "Epoch 163/200\n",
      "15/15 [==============================] - 0s 11ms/step - loss: 1.1126e-07 - accuracy: 1.0000 - val_loss: 3.5479 - val_accuracy: 0.3333\n",
      "Epoch 164/200\n",
      "15/15 [==============================] - 0s 10ms/step - loss: 1.1126e-07 - accuracy: 1.0000 - val_loss: 7.9479 - val_accuracy: 0.3333\n",
      "Epoch 165/200\n",
      "15/15 [==============================] - 0s 11ms/step - loss: 1.0861e-07 - accuracy: 1.0000 - val_loss: 7.3000 - val_accuracy: 0.3333\n",
      "Epoch 166/200\n",
      "15/15 [==============================] - 0s 12ms/step - loss: 1.0861e-07 - accuracy: 1.0000 - val_loss: 0.5035 - val_accuracy: 0.3333\n",
      "Epoch 167/200\n"
     ]
    },
    {
     "name": "stdout",
     "output_type": "stream",
     "text": [
      "15/15 [==============================] - 0s 11ms/step - loss: 1.0596e-07 - accuracy: 1.0000 - val_loss: 5.5932 - val_accuracy: 0.3333\n",
      "Epoch 168/200\n",
      "15/15 [==============================] - 0s 11ms/step - loss: 1.0861e-07 - accuracy: 1.0000 - val_loss: 4.6846 - val_accuracy: 0.3333\n",
      "Epoch 169/200\n",
      "15/15 [==============================] - 0s 11ms/step - loss: 1.0596e-07 - accuracy: 1.0000 - val_loss: 5.0355 - val_accuracy: 0.3333\n",
      "Epoch 170/200\n",
      "15/15 [==============================] - 0s 12ms/step - loss: 1.0596e-07 - accuracy: 1.0000 - val_loss: 8.3811 - val_accuracy: 0.3333\n",
      "Epoch 171/200\n",
      "15/15 [==============================] - 0s 11ms/step - loss: 1.0331e-07 - accuracy: 1.0000 - val_loss: 8.0474 - val_accuracy: 0.3333\n",
      "Epoch 172/200\n",
      "15/15 [==============================] - 0s 11ms/step - loss: 1.0331e-07 - accuracy: 1.0000 - val_loss: 6.1951 - val_accuracy: 0.3333\n",
      "Epoch 173/200\n",
      "15/15 [==============================] - 0s 12ms/step - loss: 1.0331e-07 - accuracy: 1.0000 - val_loss: 2.9521 - val_accuracy: 0.3333\n",
      "Epoch 174/200\n",
      "15/15 [==============================] - 0s 12ms/step - loss: 1.0331e-07 - accuracy: 1.0000 - val_loss: 5.4101 - val_accuracy: 0.3333\n",
      "Epoch 175/200\n",
      "15/15 [==============================] - 0s 12ms/step - loss: 9.8017e-08 - accuracy: 1.0000 - val_loss: 2.9474 - val_accuracy: 0.3333\n",
      "Epoch 176/200\n",
      "15/15 [==============================] - 0s 11ms/step - loss: 9.5367e-08 - accuracy: 1.0000 - val_loss: 5.9575 - val_accuracy: 0.3333\n",
      "Epoch 177/200\n",
      "15/15 [==============================] - 0s 11ms/step - loss: 9.5367e-08 - accuracy: 1.0000 - val_loss: 9.6344 - val_accuracy: 0.3333\n",
      "Epoch 178/200\n",
      "15/15 [==============================] - 0s 11ms/step - loss: 9.2718e-08 - accuracy: 1.0000 - val_loss: 5.6653 - val_accuracy: 0.3333\n",
      "Epoch 179/200\n",
      "15/15 [==============================] - 0s 12ms/step - loss: 9.2718e-08 - accuracy: 1.0000 - val_loss: 8.1092 - val_accuracy: 0.3333\n",
      "Epoch 180/200\n",
      "15/15 [==============================] - 0s 20ms/step - loss: 9.0069e-08 - accuracy: 1.0000 - val_loss: 6.5537 - val_accuracy: 0.3333\n",
      "Epoch 181/200\n",
      "15/15 [==============================] - 0s 21ms/step - loss: 8.7420e-08 - accuracy: 1.0000 - val_loss: 3.5707 - val_accuracy: 0.3333\n",
      "Epoch 182/200\n",
      "15/15 [==============================] - 0s 21ms/step - loss: 8.7420e-08 - accuracy: 1.0000 - val_loss: 4.1945 - val_accuracy: 0.3333\n",
      "Epoch 183/200\n",
      "15/15 [==============================] - 0s 20ms/step - loss: 8.7420e-08 - accuracy: 1.0000 - val_loss: 6.8099 - val_accuracy: 0.3333\n",
      "Epoch 184/200\n",
      "15/15 [==============================] - 0s 19ms/step - loss: 8.4771e-08 - accuracy: 1.0000 - val_loss: 10.7611 - val_accuracy: 0.3333\n",
      "Epoch 185/200\n",
      "15/15 [==============================] - 0s 20ms/step - loss: 8.4771e-08 - accuracy: 1.0000 - val_loss: 3.6167 - val_accuracy: 0.3333\n",
      "Epoch 186/200\n",
      "15/15 [==============================] - 0s 20ms/step - loss: 8.4771e-08 - accuracy: 1.0000 - val_loss: 6.6696 - val_accuracy: 0.3333\n",
      "Epoch 187/200\n",
      "15/15 [==============================] - 0s 20ms/step - loss: 8.2122e-08 - accuracy: 1.0000 - val_loss: 2.6257 - val_accuracy: 0.3333\n",
      "Epoch 188/200\n",
      "15/15 [==============================] - 0s 20ms/step - loss: 7.9473e-08 - accuracy: 1.0000 - val_loss: 0.5291 - val_accuracy: 0.3333\n",
      "Epoch 189/200\n",
      "15/15 [==============================] - 0s 20ms/step - loss: 8.2122e-08 - accuracy: 1.0000 - val_loss: 2.9838 - val_accuracy: 0.3333\n",
      "Epoch 190/200\n",
      "15/15 [==============================] - 0s 21ms/step - loss: 7.9473e-08 - accuracy: 1.0000 - val_loss: 4.3135 - val_accuracy: 0.3333\n",
      "Epoch 191/200\n",
      "15/15 [==============================] - 0s 20ms/step - loss: 7.6824e-08 - accuracy: 1.0000 - val_loss: 7.0755 - val_accuracy: 0.3333\n",
      "Epoch 192/200\n",
      "15/15 [==============================] - 0s 21ms/step - loss: 7.6824e-08 - accuracy: 1.0000 - val_loss: 4.9531 - val_accuracy: 0.3333\n",
      "Epoch 193/200\n",
      "15/15 [==============================] - 0s 20ms/step - loss: 7.6824e-08 - accuracy: 1.0000 - val_loss: 8.6879 - val_accuracy: 0.3333\n",
      "Epoch 194/200\n",
      "15/15 [==============================] - 0s 21ms/step - loss: 7.6824e-08 - accuracy: 1.0000 - val_loss: 4.8599 - val_accuracy: 0.3333\n",
      "Epoch 195/200\n",
      "15/15 [==============================] - 0s 20ms/step - loss: 7.6824e-08 - accuracy: 1.0000 - val_loss: 6.1280 - val_accuracy: 0.3333\n",
      "Epoch 196/200\n",
      "15/15 [==============================] - 0s 20ms/step - loss: 7.6824e-08 - accuracy: 1.0000 - val_loss: 7.4925 - val_accuracy: 0.3333\n",
      "Epoch 197/200\n",
      "15/15 [==============================] - 0s 21ms/step - loss: 7.6824e-08 - accuracy: 1.0000 - val_loss: 3.8223 - val_accuracy: 0.3333\n",
      "Epoch 198/200\n",
      "15/15 [==============================] - 0s 22ms/step - loss: 7.6824e-08 - accuracy: 1.0000 - val_loss: 6.3332 - val_accuracy: 0.3333\n",
      "Epoch 199/200\n",
      "15/15 [==============================] - 0s 21ms/step - loss: 7.6824e-08 - accuracy: 1.0000 - val_loss: 6.0338 - val_accuracy: 0.3333\n",
      "Epoch 200/200\n",
      "15/15 [==============================] - 0s 20ms/step - loss: 7.6824e-08 - accuracy: 1.0000 - val_loss: 8.5171 - val_accuracy: 0.3333\n"
     ]
    },
    {
     "data": {
      "text/plain": [
       "<keras.callbacks.callbacks.History at 0x1f77fa0dc08>"
      ]
     },
     "execution_count": 6,
     "metadata": {},
     "output_type": "execute_result"
    }
   ],
   "source": [
    "model.fit_generator(\n",
    "        train_generator,\n",
    "        steps_per_epoch=15,\n",
    "        epochs=200,\n",
    "        validation_data=test_generator,\n",
    "        validation_steps=5)"
   ]
  },
  {
   "cell_type": "markdown",
   "metadata": {
    "colab_type": "text",
    "id": "uT9NEiI-uy52"
   },
   "source": [
    "### 모델 평가하기"
   ]
  },
  {
   "cell_type": "code",
   "execution_count": 7,
   "metadata": {
    "colab": {
     "base_uri": "https://localhost:8080/",
     "height": 53
    },
    "colab_type": "code",
    "id": "XZ8jXxlIu1SE",
    "outputId": "d27cd618-d626-4874-d6fe-03cd36b7d393"
   },
   "outputs": [
    {
     "name": "stdout",
     "output_type": "stream",
     "text": [
      "-- Evaluate --\n",
      "accuracy: 33.33%\n"
     ]
    }
   ],
   "source": [
    "print(\"-- Evaluate --\")\n",
    "scores = model.evaluate_generator(test_generator, steps=5)\n",
    "print(\"%s: %.2f%%\" %(model.metrics_names[1], scores[1]*100))"
   ]
  },
  {
   "cell_type": "markdown",
   "metadata": {
    "colab_type": "text",
    "id": "QTlRD9Mqu9K6"
   },
   "source": [
    "### 모델 사용하기"
   ]
  },
  {
   "cell_type": "code",
   "execution_count": 8,
   "metadata": {
    "colab": {
     "base_uri": "https://localhost:8080/",
     "height": 323
    },
    "colab_type": "code",
    "id": "Wabhqvy-u48Q",
    "outputId": "abb1e734-766a-45dc-b25b-c9b2c8d38a8d"
   },
   "outputs": [
    {
     "name": "stdout",
     "output_type": "stream",
     "text": [
      "-- Predict --\n",
      "{'circle': 0, 'rectangle': 1, 'triangle': 2}\n",
      "[[0.010 0.000 0.990]\n",
      " [0.971 0.001 0.028]\n",
      " [0.000 0.000 1.000]\n",
      " [0.219 0.000 0.780]\n",
      " [0.006 0.000 0.994]\n",
      " [0.000 0.000 1.000]\n",
      " [0.068 0.002 0.930]\n",
      " [0.000 0.000 1.000]\n",
      " [0.000 0.000 1.000]\n",
      " [0.000 0.000 1.000]\n",
      " [0.096 0.000 0.904]\n",
      " [0.000 0.000 1.000]\n",
      " [0.000 0.003 0.996]\n",
      " [0.000 0.000 1.000]\n",
      " [0.000 0.000 0.999]]\n"
     ]
    }
   ],
   "source": [
    "print(\"-- Predict --\")\n",
    "output = model.predict_generator(test_generator, steps=5)\n",
    "np.set_printoptions(formatter={'float': lambda x: \"{0:0.3f}\".format(x)})\n",
    "print(test_generator.class_indices)\n",
    "print(output)"
   ]
  },
  {
   "cell_type": "code",
   "execution_count": 0,
   "metadata": {
    "colab": {},
    "colab_type": "code",
    "id": "jVItItOmvZOJ"
   },
   "outputs": [],
   "source": []
  }
 ],
 "metadata": {
  "colab": {
   "collapsed_sections": [],
   "name": "PolygonClassfication_02_HardTest.ipynb",
   "provenance": [],
   "version": "0.3.2"
  },
  "kernelspec": {
   "display_name": "Python 3",
   "language": "python",
   "name": "python3"
  },
  "language_info": {
   "codemirror_mode": {
    "name": "ipython",
    "version": 3
   },
   "file_extension": ".py",
   "mimetype": "text/x-python",
   "name": "python",
   "nbconvert_exporter": "python",
   "pygments_lexer": "ipython3",
   "version": "3.7.5"
  }
 },
 "nbformat": 4,
 "nbformat_minor": 1
}
